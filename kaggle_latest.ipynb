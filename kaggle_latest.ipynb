{
  "cells": [
    {
      "metadata": {
        "_uuid": "8f2839f25d086af736a60e9eeb907d3b93b6e0e5",
        "_cell_guid": "b1076dfc-b9ad-4769-8c92-a6c4dae69d19",
        "trusted": true
      },
      "cell_type": "code",
      "source": "# This Python 3 environment comes with many helpful analytics libraries installed\n# It is defined by the kaggle/python docker image: https://github.com/kaggle/docker-python\n# For example, here's several helpful packages to load in \n\nimport numpy as np # linear algebra\nimport pandas as pd # data processing, CSV file I/O (e.g. pd.read_csv)\n\n# Input data files are available in the \"../input/\" directory.\n# For example, running this (by clicking run or pressing Shift+Enter) will list the files in the input directory\n\nimport os\nprint(os.listdir(\"../input\"))\n\n# Any results you write to the current directory are saved as output.",
      "execution_count": null,
      "outputs": []
    },
    {
      "metadata": {
        "_cell_guid": "79c7e3d0-c299-4dcb-8224-4455121ee9b0",
        "_uuid": "d629ff2d2480ee46fbb7e2d37f6b5fab8052498a",
        "trusted": true
      },
      "cell_type": "code",
      "source": "import pandas as pd\nimport numpy as np\ndf1 = pd.read_csv(\"../input/5001-project/test2.csv\")\ndf2 = pd.read_csv(\"../input/5001-project/train3.csv\")\ndf3 = pd.read_csv(\"../input/featuretest1/train - train - train - train.csv\")\ndf4 = pd.read_csv(\"../input/featuretest1/final_test.csv\")\ndf5 = pd.read_csv(\"../input/featuretest1/test1 - test1.csv\")\ndf6 = pd.read_csv(\"../input/featuretest1/2.csv\")\ndf2 = df2.drop(df2.index[[4,39,180,286,408,426,435]])\nlabel = df2[\"time\"]\nnumerics = ['int16', 'int32', 'int64', 'float16', 'float32', 'float64']\n#df3[\"final\"] = test3[\"final\"]#+test5[\"random_state\"]\n\ndf3 = df3.select_dtypes(include=numerics)\ndf4 = df4.select_dtypes(include=numerics)\ndf5 = df5.select_dtypes(include=numerics)\ndf6 = df6.select_dtypes(include=numerics)\n#df7 = df7.select_dtypes(include=numerics)\ntest3 = (df3 - df4.mean())/df4.std(ddof=0)\ntest4 = (df4 - df4.mean())/df4.std(ddof=0)\ntest5 = (df5 - df5.mean())/df5.std(ddof=0)\ntest6 = (df6 - df5.mean())/df5.std(ddof=0)\n#test7 = (df7 - df7.mean())/df7.std(ddof=0)\n#df1[\"n_jobs\"] = 1/df1[\"n_jobs\"]\n#df2[\"n_jobs\"] = 1/df2[\"n_jobs\"]\ntest3.cov() #try m1*flip, flip with total clusters or flip with featureinfo\n#flipwithcluster,try flipwithcluster*WithfeatureInfo?\n#test3 = test3.drop(columns=[\"time\",\"n_jobs\",\"All\",\"WithfeatureInfo\",\"m1flip\",\"n_clusters_per_class\",'random_state',\"scale\",\"AllDDjob\",\"AllwithFlip\",\"WithfeatureInfoMflip\",\"Withflip\",\"clusterInfo\",\"flipwithcluster\"])\n\ntest3 = test3.drop(columns=[\"x2\",\"time\",\"All\",\"WithfeatureInfo\",\"m1flip\",\"n_clusters_per_class\",'random_state',\"AllDDjob\",\"AllwithFlip\",\"WithfeatureInfoMflip\",\"Withflip\",\"clusterInfo\",\"flipwithcluster\"])\ntest3 = test3.drop(columns=[\"n1\",\"featureInfo\",\"WithFeature\",\"WithInfo\"])\n#test4 = test4.drop(columns=[\"time\",\"n_jobs\",\"All\",\"WithfeatureInfo\",\"m1flip\",\"n_clusters_per_class\",'random_state',\"scale\",\"AllDDjob\",\"AllwithFlip\",\"WithfeatureInfoMflip\",\"Withflip\",\"clusterInfo\",\"flipwithcluster\"])\ntest4 = test5\ntest4 = test4.drop(columns=[\"x2\",\"time\",\"All\",\"WithfeatureInfo\",\"m1flip\",\"n_clusters_per_class\",'random_state',\"AllDDjob\",\"AllwithFlip\",\"WithfeatureInfoMflip\",\"Withflip\",\"clusterInfo\",\"flipwithcluster\"])\ntest4 = test4.drop(columns=[\"n1\",\"featureInfo\",\"WithFeature\",\"WithInfo\"])\n\ntest3.cov() #AllDjob,WithfeatureInfoDjob, x2, m1flipDjob",
      "execution_count": 1,
      "outputs": [
        {
          "output_type": "execute_result",
          "execution_count": 1,
          "data": {
            "text/plain": "                         max_iter      ...              final\nmax_iter             1.142072e+00      ...       1.691578e-01\nn_jobs              -3.388729e-02      ...      -2.138407e-01\nn_samples           -1.243331e-03      ...       1.176141e-01\nn_features          -1.688441e-02      ...       1.243708e-01\nn_classes           -3.694957e-02      ...       1.411069e-01\nn_informative        6.314888e-03      ...       1.155755e-01\nflip_y              -5.964152e-03      ...       3.889080e-02\nscale                1.327741e+07      ...       2.619264e+07\ntotal clusters      -8.149196e-02      ...       1.003865e-01\nAllDjob              1.261984e-01      ...       3.050467e-01\nAllwithClass m1      1.708028e-01      ...       1.836194e-01\nWithfeatureInfoDjob  1.978812e-01      ...       3.358847e-01\nm1flipDjob           1.546410e-01      ...       4.069031e-01\nfinal                1.691578e-01      ...       3.686476e-01\n\n[14 rows x 14 columns]",
            "text/html": "<div>\n<style scoped>\n    .dataframe tbody tr th:only-of-type {\n        vertical-align: middle;\n    }\n\n    .dataframe tbody tr th {\n        vertical-align: top;\n    }\n\n    .dataframe thead th {\n        text-align: right;\n    }\n</style>\n<table border=\"1\" class=\"dataframe\">\n  <thead>\n    <tr style=\"text-align: right;\">\n      <th></th>\n      <th>max_iter</th>\n      <th>n_jobs</th>\n      <th>n_samples</th>\n      <th>n_features</th>\n      <th>n_classes</th>\n      <th>n_informative</th>\n      <th>flip_y</th>\n      <th>scale</th>\n      <th>total clusters</th>\n      <th>AllDjob</th>\n      <th>AllwithClass m1</th>\n      <th>WithfeatureInfoDjob</th>\n      <th>m1flipDjob</th>\n      <th>final</th>\n    </tr>\n  </thead>\n  <tbody>\n    <tr>\n      <th>max_iter</th>\n      <td>1.142072e+00</td>\n      <td>-3.388729e-02</td>\n      <td>-1.243331e-03</td>\n      <td>-1.688441e-02</td>\n      <td>-3.694957e-02</td>\n      <td>6.314888e-03</td>\n      <td>-5.964152e-03</td>\n      <td>1.327741e+07</td>\n      <td>-8.149196e-02</td>\n      <td>1.261984e-01</td>\n      <td>1.708028e-01</td>\n      <td>1.978812e-01</td>\n      <td>1.546410e-01</td>\n      <td>1.691578e-01</td>\n    </tr>\n    <tr>\n      <th>n_jobs</th>\n      <td>-3.388729e-02</td>\n      <td>9.914508e-01</td>\n      <td>-1.331038e-03</td>\n      <td>3.169232e-03</td>\n      <td>7.430915e-02</td>\n      <td>-1.621856e-02</td>\n      <td>-4.608768e-03</td>\n      <td>-1.639215e+07</td>\n      <td>6.550655e-02</td>\n      <td>-1.738983e-01</td>\n      <td>2.245999e-03</td>\n      <td>-2.545559e-01</td>\n      <td>-2.056318e-01</td>\n      <td>-2.138407e-01</td>\n    </tr>\n    <tr>\n      <th>n_samples</th>\n      <td>-1.243331e-03</td>\n      <td>-1.331038e-03</td>\n      <td>4.290500e-01</td>\n      <td>6.510920e-03</td>\n      <td>1.133001e-02</td>\n      <td>2.088023e-02</td>\n      <td>2.508742e-02</td>\n      <td>9.033860e+06</td>\n      <td>3.107223e-03</td>\n      <td>8.849877e-02</td>\n      <td>1.298640e-01</td>\n      <td>1.344865e-01</td>\n      <td>1.191163e-01</td>\n      <td>1.176141e-01</td>\n    </tr>\n    <tr>\n      <th>n_features</th>\n      <td>-1.688441e-02</td>\n      <td>3.169232e-03</td>\n      <td>6.510920e-03</td>\n      <td>5.156130e-01</td>\n      <td>2.104087e-02</td>\n      <td>-1.364665e-02</td>\n      <td>1.849545e-02</td>\n      <td>9.460388e+06</td>\n      <td>3.293511e-02</td>\n      <td>1.102654e-01</td>\n      <td>1.294877e-01</td>\n      <td>1.412833e-01</td>\n      <td>1.346592e-01</td>\n      <td>1.243708e-01</td>\n    </tr>\n    <tr>\n      <th>n_classes</th>\n      <td>-3.694957e-02</td>\n      <td>7.430915e-02</td>\n      <td>1.133001e-02</td>\n      <td>2.104087e-02</td>\n      <td>1.021985e+00</td>\n      <td>3.500963e-01</td>\n      <td>2.986656e-02</td>\n      <td>9.084242e+06</td>\n      <td>8.440803e-01</td>\n      <td>1.141470e-01</td>\n      <td>1.821222e-01</td>\n      <td>-2.497683e-03</td>\n      <td>1.436610e-01</td>\n      <td>1.411069e-01</td>\n    </tr>\n    <tr>\n      <th>n_informative</th>\n      <td>6.314888e-03</td>\n      <td>-1.621856e-02</td>\n      <td>2.088023e-02</td>\n      <td>-1.364665e-02</td>\n      <td>3.500963e-01</td>\n      <td>7.801710e-01</td>\n      <td>3.802921e-02</td>\n      <td>4.963980e+06</td>\n      <td>4.159462e-01</td>\n      <td>1.062046e-01</td>\n      <td>1.177668e-01</td>\n      <td>6.613855e-02</td>\n      <td>1.256773e-01</td>\n      <td>1.155755e-01</td>\n    </tr>\n    <tr>\n      <th>flip_y</th>\n      <td>-5.964152e-03</td>\n      <td>-4.608768e-03</td>\n      <td>2.508742e-02</td>\n      <td>1.849545e-02</td>\n      <td>2.986656e-02</td>\n      <td>3.802921e-02</td>\n      <td>1.074231e+00</td>\n      <td>2.452033e+06</td>\n      <td>4.524218e-03</td>\n      <td>4.278625e-02</td>\n      <td>1.857660e-02</td>\n      <td>2.719316e-02</td>\n      <td>2.479578e-01</td>\n      <td>3.889080e-02</td>\n    </tr>\n    <tr>\n      <th>scale</th>\n      <td>1.327741e+07</td>\n      <td>-1.639215e+07</td>\n      <td>9.033860e+06</td>\n      <td>9.460388e+06</td>\n      <td>9.084242e+06</td>\n      <td>4.963980e+06</td>\n      <td>2.452033e+06</td>\n      <td>1.924139e+15</td>\n      <td>5.873774e+06</td>\n      <td>2.141618e+07</td>\n      <td>1.274438e+07</td>\n      <td>2.467954e+07</td>\n      <td>2.811421e+07</td>\n      <td>2.619264e+07</td>\n    </tr>\n    <tr>\n      <th>total clusters</th>\n      <td>-8.149196e-02</td>\n      <td>6.550655e-02</td>\n      <td>3.107223e-03</td>\n      <td>3.293511e-02</td>\n      <td>8.440803e-01</td>\n      <td>4.159462e-01</td>\n      <td>4.524218e-03</td>\n      <td>5.873774e+06</td>\n      <td>1.196436e+00</td>\n      <td>1.507785e-01</td>\n      <td>1.375708e-01</td>\n      <td>-1.671542e-02</td>\n      <td>1.192341e-01</td>\n      <td>1.003865e-01</td>\n    </tr>\n    <tr>\n      <th>AllDjob</th>\n      <td>1.261984e-01</td>\n      <td>-1.738983e-01</td>\n      <td>8.849877e-02</td>\n      <td>1.102654e-01</td>\n      <td>1.141470e-01</td>\n      <td>1.062046e-01</td>\n      <td>4.278625e-02</td>\n      <td>2.141618e+07</td>\n      <td>1.507785e-01</td>\n      <td>2.903708e-01</td>\n      <td>1.491769e-01</td>\n      <td>2.760665e-01</td>\n      <td>3.704727e-01</td>\n      <td>3.050467e-01</td>\n    </tr>\n    <tr>\n      <th>AllwithClass m1</th>\n      <td>1.708028e-01</td>\n      <td>2.245999e-03</td>\n      <td>1.298640e-01</td>\n      <td>1.294877e-01</td>\n      <td>1.821222e-01</td>\n      <td>1.177668e-01</td>\n      <td>1.857660e-02</td>\n      <td>1.274438e+07</td>\n      <td>1.375708e-01</td>\n      <td>1.491769e-01</td>\n      <td>1.954835e-01</td>\n      <td>1.480463e-01</td>\n      <td>1.998966e-01</td>\n      <td>1.836194e-01</td>\n    </tr>\n    <tr>\n      <th>WithfeatureInfoDjob</th>\n      <td>1.978812e-01</td>\n      <td>-2.545559e-01</td>\n      <td>1.344865e-01</td>\n      <td>1.412833e-01</td>\n      <td>-2.497683e-03</td>\n      <td>6.613855e-02</td>\n      <td>2.719316e-02</td>\n      <td>2.467954e+07</td>\n      <td>-1.671542e-02</td>\n      <td>2.760665e-01</td>\n      <td>1.480463e-01</td>\n      <td>3.865495e-01</td>\n      <td>3.540461e-01</td>\n      <td>3.358847e-01</td>\n    </tr>\n    <tr>\n      <th>m1flipDjob</th>\n      <td>1.546410e-01</td>\n      <td>-2.056318e-01</td>\n      <td>1.191163e-01</td>\n      <td>1.346592e-01</td>\n      <td>1.436610e-01</td>\n      <td>1.256773e-01</td>\n      <td>2.479578e-01</td>\n      <td>2.811421e+07</td>\n      <td>1.192341e-01</td>\n      <td>3.704727e-01</td>\n      <td>1.998966e-01</td>\n      <td>3.540461e-01</td>\n      <td>6.256636e-01</td>\n      <td>4.069031e-01</td>\n    </tr>\n    <tr>\n      <th>final</th>\n      <td>1.691578e-01</td>\n      <td>-2.138407e-01</td>\n      <td>1.176141e-01</td>\n      <td>1.243708e-01</td>\n      <td>1.411069e-01</td>\n      <td>1.155755e-01</td>\n      <td>3.889080e-02</td>\n      <td>2.619264e+07</td>\n      <td>1.003865e-01</td>\n      <td>3.050467e-01</td>\n      <td>1.836194e-01</td>\n      <td>3.358847e-01</td>\n      <td>4.069031e-01</td>\n      <td>3.686476e-01</td>\n    </tr>\n  </tbody>\n</table>\n</div>"
          },
          "metadata": {}
        }
      ]
    },
    {
      "metadata": {
        "trusted": true,
        "_uuid": "a0238c4baed1d763b0530b6e903ec5ecf218cded"
      },
      "cell_type": "code",
      "source": "test6.cov() #AllDjob,WithfeatureInfoDjob, x2, m1flipDjob",
      "execution_count": 2,
      "outputs": [
        {
          "output_type": "execute_result",
          "execution_count": 2,
          "data": {
            "text/plain": "                          max_iter      ...              final\nmax_iter              1.135963e+00      ...       1.784722e-01\nrandom_state                   NaN      ...                NaN\nn_jobs               -3.386026e-02      ...      -2.242286e-01\nn_samples            -1.023539e-02      ...       1.316614e-01\nn_features           -2.360599e-02      ...       1.463160e-01\nn_classes            -3.579958e-02      ...       1.490612e-01\nn_clusters_per_class -6.246698e-02      ...      -2.642998e-02\nn_informative        -4.410686e-04      ...       1.220505e-01\nflip_y               -3.277760e-03      ...       3.559264e-02\nscale                 1.901209e-01      ...       4.195457e-01\ntime                           NaN      ...                NaN\nn1                    5.530894e-01      ...       2.542146e-01\nWithFeature           2.695119e-01      ...       1.908637e-01\nfeatureInfo          -3.026933e-02      ...       1.748873e-01\nWithInfo              4.838405e-01      ...       2.438968e-01\nWithflip              4.158715e-01      ...       2.121439e-01\ntotal clusters       -8.811000e-02      ...       9.629093e-02\nclusterInfo          -4.839402e-02      ...       1.087205e-01\nAll                   1.298769e-01      ...       1.736560e-01\nAllDjob               1.319950e-01      ...       3.538868e-01\nAllDDjob              8.996708e-02      ...       3.129093e-01\nAllwithFlip           1.185532e-01      ...       3.922851e-01\nAllwithClass m1       1.782665e-01      ...       2.262517e-01\nflipwithcluster      -6.050149e-02      ...       9.904282e-02\nWithfeatureInfo       2.381210e-01      ...       2.263494e-01\nm1flip                1.643410e-01      ...       2.506208e-01\nWithfeatureInfoMflip  1.822623e-01      ...       2.172523e-01\nWithfeatureInfoDjob   2.057260e-01      ...       4.002277e-01\nx2                    7.217995e+08      ...       1.779228e+09\nm1flipDjob            1.607872e-01      ...       4.577995e-01\nfinal                 1.784722e-01      ...       4.429042e-01\n\n[31 rows x 31 columns]",
            "text/html": "<div>\n<style scoped>\n    .dataframe tbody tr th:only-of-type {\n        vertical-align: middle;\n    }\n\n    .dataframe tbody tr th {\n        vertical-align: top;\n    }\n\n    .dataframe thead th {\n        text-align: right;\n    }\n</style>\n<table border=\"1\" class=\"dataframe\">\n  <thead>\n    <tr style=\"text-align: right;\">\n      <th></th>\n      <th>max_iter</th>\n      <th>random_state</th>\n      <th>n_jobs</th>\n      <th>n_samples</th>\n      <th>n_features</th>\n      <th>n_classes</th>\n      <th>n_clusters_per_class</th>\n      <th>n_informative</th>\n      <th>flip_y</th>\n      <th>scale</th>\n      <th>time</th>\n      <th>n1</th>\n      <th>WithFeature</th>\n      <th>featureInfo</th>\n      <th>WithInfo</th>\n      <th>Withflip</th>\n      <th>total clusters</th>\n      <th>clusterInfo</th>\n      <th>All</th>\n      <th>AllDjob</th>\n      <th>AllDDjob</th>\n      <th>AllwithFlip</th>\n      <th>AllwithClass m1</th>\n      <th>flipwithcluster</th>\n      <th>WithfeatureInfo</th>\n      <th>m1flip</th>\n      <th>WithfeatureInfoMflip</th>\n      <th>WithfeatureInfoDjob</th>\n      <th>x2</th>\n      <th>m1flipDjob</th>\n      <th>final</th>\n    </tr>\n  </thead>\n  <tbody>\n    <tr>\n      <th>max_iter</th>\n      <td>1.135963e+00</td>\n      <td>NaN</td>\n      <td>-3.386026e-02</td>\n      <td>-1.023539e-02</td>\n      <td>-2.360599e-02</td>\n      <td>-3.579958e-02</td>\n      <td>-6.246698e-02</td>\n      <td>-4.410686e-04</td>\n      <td>-3.277760e-03</td>\n      <td>1.901209e-01</td>\n      <td>NaN</td>\n      <td>5.530894e-01</td>\n      <td>2.695119e-01</td>\n      <td>-3.026933e-02</td>\n      <td>4.838405e-01</td>\n      <td>4.158715e-01</td>\n      <td>-8.811000e-02</td>\n      <td>-4.839402e-02</td>\n      <td>1.298769e-01</td>\n      <td>1.319950e-01</td>\n      <td>8.996708e-02</td>\n      <td>1.185532e-01</td>\n      <td>1.782665e-01</td>\n      <td>-6.050149e-02</td>\n      <td>2.381210e-01</td>\n      <td>1.643410e-01</td>\n      <td>1.822623e-01</td>\n      <td>2.057260e-01</td>\n      <td>7.217995e+08</td>\n      <td>1.607872e-01</td>\n      <td>1.784722e-01</td>\n    </tr>\n    <tr>\n      <th>random_state</th>\n      <td>NaN</td>\n      <td>NaN</td>\n      <td>NaN</td>\n      <td>NaN</td>\n      <td>NaN</td>\n      <td>NaN</td>\n      <td>NaN</td>\n      <td>NaN</td>\n      <td>NaN</td>\n      <td>NaN</td>\n      <td>NaN</td>\n      <td>NaN</td>\n      <td>NaN</td>\n      <td>NaN</td>\n      <td>NaN</td>\n      <td>NaN</td>\n      <td>NaN</td>\n      <td>NaN</td>\n      <td>NaN</td>\n      <td>NaN</td>\n      <td>NaN</td>\n      <td>NaN</td>\n      <td>NaN</td>\n      <td>NaN</td>\n      <td>NaN</td>\n      <td>NaN</td>\n      <td>NaN</td>\n      <td>NaN</td>\n      <td>NaN</td>\n      <td>NaN</td>\n      <td>NaN</td>\n    </tr>\n    <tr>\n      <th>n_jobs</th>\n      <td>-3.386026e-02</td>\n      <td>NaN</td>\n      <td>9.914508e-01</td>\n      <td>-3.062225e-03</td>\n      <td>7.414490e-03</td>\n      <td>7.430915e-02</td>\n      <td>2.526594e-02</td>\n      <td>-4.223213e-03</td>\n      <td>-3.307776e-03</td>\n      <td>-2.434896e-01</td>\n      <td>NaN</td>\n      <td>-4.071968e-02</td>\n      <td>-5.099056e-03</td>\n      <td>-9.056778e-03</td>\n      <td>-2.342595e-02</td>\n      <td>-5.159688e-02</td>\n      <td>6.977519e-02</td>\n      <td>3.335656e-02</td>\n      <td>2.016587e-03</td>\n      <td>-1.829447e-01</td>\n      <td>-1.661885e-01</td>\n      <td>-1.726183e-01</td>\n      <td>-2.043958e-03</td>\n      <td>3.867033e-02</td>\n      <td>-1.115017e-02</td>\n      <td>-2.507559e-02</td>\n      <td>-3.110856e-02</td>\n      <td>-2.642499e-01</td>\n      <td>-1.195736e+09</td>\n      <td>-2.129698e-01</td>\n      <td>-2.242286e-01</td>\n    </tr>\n    <tr>\n      <th>n_samples</th>\n      <td>-1.023539e-02</td>\n      <td>NaN</td>\n      <td>-3.062225e-03</td>\n      <td>5.738656e-01</td>\n      <td>1.708324e-02</td>\n      <td>5.624777e-03</td>\n      <td>-3.038704e-02</td>\n      <td>7.746716e-03</td>\n      <td>2.386358e-02</td>\n      <td>1.546173e-01</td>\n      <td>NaN</td>\n      <td>4.194493e-01</td>\n      <td>2.233539e-01</td>\n      <td>3.448185e-02</td>\n      <td>3.657269e-01</td>\n      <td>3.059599e-01</td>\n      <td>-2.761398e-03</td>\n      <td>4.333366e-03</td>\n      <td>1.204662e-01</td>\n      <td>9.849794e-02</td>\n      <td>6.390351e-02</td>\n      <td>9.845610e-02</td>\n      <td>1.527456e-01</td>\n      <td>2.458052e-02</td>\n      <td>2.048114e-01</td>\n      <td>1.340844e-01</td>\n      <td>1.653438e-01</td>\n      <td>1.513669e-01</td>\n      <td>5.117042e+08</td>\n      <td>1.304521e-01</td>\n      <td>1.316614e-01</td>\n    </tr>\n    <tr>\n      <th>n_features</th>\n      <td>-2.360599e-02</td>\n      <td>NaN</td>\n      <td>7.414490e-03</td>\n      <td>1.708324e-02</td>\n      <td>6.373605e-01</td>\n      <td>2.584562e-02</td>\n      <td>2.381514e-02</td>\n      <td>-3.450141e-02</td>\n      <td>2.203557e-02</td>\n      <td>1.771703e-01</td>\n      <td>NaN</td>\n      <td>-1.505781e-03</td>\n      <td>2.109344e-01</td>\n      <td>4.957174e-01</td>\n      <td>-9.226100e-03</td>\n      <td>-8.874743e-03</td>\n      <td>3.245259e-02</td>\n      <td>1.450371e-02</td>\n      <td>1.292640e-01</td>\n      <td>1.292996e-01</td>\n      <td>9.465125e-02</td>\n      <td>1.421612e-01</td>\n      <td>1.486872e-01</td>\n      <td>4.425506e-02</td>\n      <td>1.963677e-01</td>\n      <td>1.403024e-01</td>\n      <td>1.594664e-01</td>\n      <td>1.631163e-01</td>\n      <td>6.186517e+08</td>\n      <td>1.558459e-01</td>\n      <td>1.463160e-01</td>\n    </tr>\n    <tr>\n      <th>n_classes</th>\n      <td>-3.579958e-02</td>\n      <td>NaN</td>\n      <td>7.430915e-02</td>\n      <td>5.624777e-03</td>\n      <td>2.584562e-02</td>\n      <td>1.021985e+00</td>\n      <td>7.264299e-04</td>\n      <td>4.320706e-01</td>\n      <td>2.994838e-02</td>\n      <td>1.313440e-01</td>\n      <td>NaN</td>\n      <td>7.272298e-04</td>\n      <td>-1.265150e-02</td>\n      <td>1.009335e-01</td>\n      <td>8.699061e-02</td>\n      <td>1.427312e-02</td>\n      <td>8.220674e-01</td>\n      <td>7.439472e-01</td>\n      <td>1.461086e-01</td>\n      <td>1.172805e-01</td>\n      <td>6.906134e-02</td>\n      <td>1.184378e-01</td>\n      <td>1.870236e-01</td>\n      <td>4.707116e-01</td>\n      <td>4.332272e-02</td>\n      <td>1.742143e-01</td>\n      <td>4.393258e-02</td>\n      <td>3.135703e-03</td>\n      <td>-7.831579e+07</td>\n      <td>1.490545e-01</td>\n      <td>1.490612e-01</td>\n    </tr>\n    <tr>\n      <th>n_clusters_per_class</th>\n      <td>-6.246698e-02</td>\n      <td>NaN</td>\n      <td>2.526594e-02</td>\n      <td>-3.038704e-02</td>\n      <td>2.381514e-02</td>\n      <td>7.264299e-04</td>\n      <td>9.491363e-01</td>\n      <td>2.841367e-01</td>\n      <td>-2.974114e-02</td>\n      <td>-3.362566e-02</td>\n      <td>NaN</td>\n      <td>-7.458219e-02</td>\n      <td>-3.567808e-02</td>\n      <td>7.367765e-02</td>\n      <td>-1.569244e-02</td>\n      <td>-3.932342e-02</td>\n      <td>6.268960e-01</td>\n      <td>5.460496e-01</td>\n      <td>7.951839e-02</td>\n      <td>7.318408e-02</td>\n      <td>5.307653e-02</td>\n      <td>8.841345e-02</td>\n      <td>-1.760991e-02</td>\n      <td>3.458297e-01</td>\n      <td>-1.651792e-02</td>\n      <td>-1.628074e-04</td>\n      <td>2.232123e-03</td>\n      <td>-2.111339e-02</td>\n      <td>-6.357993e+07</td>\n      <td>-8.872190e-04</td>\n      <td>-2.642998e-02</td>\n    </tr>\n    <tr>\n      <th>n_informative</th>\n      <td>-4.410686e-04</td>\n      <td>NaN</td>\n      <td>-4.223213e-03</td>\n      <td>7.746716e-03</td>\n      <td>-3.450141e-02</td>\n      <td>4.320706e-01</td>\n      <td>2.841367e-01</td>\n      <td>1.194611e+00</td>\n      <td>4.604601e-02</td>\n      <td>5.599281e-02</td>\n      <td>NaN</td>\n      <td>-3.838780e-03</td>\n      <td>-2.648073e-02</td>\n      <td>2.125668e-01</td>\n      <td>1.861752e-01</td>\n      <td>4.111559e-02</td>\n      <td>5.465865e-01</td>\n      <td>7.148060e-01</td>\n      <td>1.257685e-01</td>\n      <td>1.164618e-01</td>\n      <td>7.450153e-02</td>\n      <td>1.191391e-01</td>\n      <td>1.303310e-01</td>\n      <td>3.475276e-01</td>\n      <td>8.219862e-02</td>\n      <td>1.406771e-01</td>\n      <td>8.959183e-02</td>\n      <td>6.463330e-02</td>\n      <td>2.049656e+08</td>\n      <td>1.292161e-01</td>\n      <td>1.220505e-01</td>\n    </tr>\n    <tr>\n      <th>flip_y</th>\n      <td>-3.277760e-03</td>\n      <td>NaN</td>\n      <td>-3.307776e-03</td>\n      <td>2.386358e-02</td>\n      <td>2.203557e-02</td>\n      <td>2.994838e-02</td>\n      <td>-2.974114e-02</td>\n      <td>4.604601e-02</td>\n      <td>1.070534e+00</td>\n      <td>3.611924e-02</td>\n      <td>NaN</td>\n      <td>2.844491e-02</td>\n      <td>1.177797e-02</td>\n      <td>3.156274e-02</td>\n      <td>4.253698e-02</td>\n      <td>5.812630e-01</td>\n      <td>1.046624e-02</td>\n      <td>1.697126e-02</td>\n      <td>2.114850e-02</td>\n      <td>3.897622e-02</td>\n      <td>2.667717e-02</td>\n      <td>2.125794e-01</td>\n      <td>1.845362e-02</td>\n      <td>7.558511e-01</td>\n      <td>1.719110e-02</td>\n      <td>2.520297e-01</td>\n      <td>2.867967e-01</td>\n      <td>2.467305e-02</td>\n      <td>4.873526e+07</td>\n      <td>2.512903e-01</td>\n      <td>3.559264e-02</td>\n    </tr>\n    <tr>\n      <th>scale</th>\n      <td>1.901209e-01</td>\n      <td>NaN</td>\n      <td>-2.434896e-01</td>\n      <td>1.546173e-01</td>\n      <td>1.771703e-01</td>\n      <td>1.313440e-01</td>\n      <td>-3.362566e-02</td>\n      <td>5.599281e-02</td>\n      <td>3.611924e-02</td>\n      <td>4.443264e-01</td>\n      <td>NaN</td>\n      <td>2.612719e-01</td>\n      <td>2.072081e-01</td>\n      <td>1.654849e-01</td>\n      <td>2.353162e-01</td>\n      <td>2.110824e-01</td>\n      <td>7.987206e-02</td>\n      <td>7.787862e-02</td>\n      <td>1.620034e-01</td>\n      <td>3.392037e-01</td>\n      <td>3.058637e-01</td>\n      <td>3.752758e-01</td>\n      <td>2.076005e-01</td>\n      <td>8.789804e-02</td>\n      <td>2.170984e-01</td>\n      <td>2.272429e-01</td>\n      <td>2.044819e-01</td>\n      <td>3.955330e-01</td>\n      <td>1.798243e+09</td>\n      <td>4.384811e-01</td>\n      <td>4.195457e-01</td>\n    </tr>\n    <tr>\n      <th>time</th>\n      <td>NaN</td>\n      <td>NaN</td>\n      <td>NaN</td>\n      <td>NaN</td>\n      <td>NaN</td>\n      <td>NaN</td>\n      <td>NaN</td>\n      <td>NaN</td>\n      <td>NaN</td>\n      <td>NaN</td>\n      <td>NaN</td>\n      <td>NaN</td>\n      <td>NaN</td>\n      <td>NaN</td>\n      <td>NaN</td>\n      <td>NaN</td>\n      <td>NaN</td>\n      <td>NaN</td>\n      <td>NaN</td>\n      <td>NaN</td>\n      <td>NaN</td>\n      <td>NaN</td>\n      <td>NaN</td>\n      <td>NaN</td>\n      <td>NaN</td>\n      <td>NaN</td>\n      <td>NaN</td>\n      <td>NaN</td>\n      <td>NaN</td>\n      <td>NaN</td>\n      <td>NaN</td>\n    </tr>\n    <tr>\n      <th>n1</th>\n      <td>5.530894e-01</td>\n      <td>NaN</td>\n      <td>-4.071968e-02</td>\n      <td>4.194493e-01</td>\n      <td>-1.505781e-03</td>\n      <td>7.272298e-04</td>\n      <td>-7.458219e-02</td>\n      <td>-3.838780e-03</td>\n      <td>2.844491e-02</td>\n      <td>2.612719e-01</td>\n      <td>NaN</td>\n      <td>7.221979e-01</td>\n      <td>3.598206e-01</td>\n      <td>2.836632e-03</td>\n      <td>6.182648e-01</td>\n      <td>5.418033e-01</td>\n      <td>-4.947759e-02</td>\n      <td>-2.658005e-02</td>\n      <td>1.836803e-01</td>\n      <td>1.818265e-01</td>\n      <td>1.239653e-01</td>\n      <td>1.737264e-01</td>\n      <td>2.517597e-01</td>\n      <td>3.947225e-03</td>\n      <td>3.305957e-01</td>\n      <td>2.346360e-01</td>\n      <td>2.676882e-01</td>\n      <td>2.843839e-01</td>\n      <td>1.001969e+09</td>\n      <td>2.351181e-01</td>\n      <td>2.542146e-01</td>\n    </tr>\n    <tr>\n      <th>WithFeature</th>\n      <td>2.695119e-01</td>\n      <td>NaN</td>\n      <td>-5.099056e-03</td>\n      <td>2.233539e-01</td>\n      <td>2.109344e-01</td>\n      <td>-1.265150e-02</td>\n      <td>-3.567808e-02</td>\n      <td>-2.648073e-02</td>\n      <td>1.177797e-02</td>\n      <td>2.072081e-01</td>\n      <td>NaN</td>\n      <td>3.598206e-01</td>\n      <td>3.090010e-01</td>\n      <td>1.753176e-01</td>\n      <td>2.975113e-01</td>\n      <td>2.574121e-01</td>\n      <td>-3.544612e-02</td>\n      <td>-2.835087e-02</td>\n      <td>1.560699e-01</td>\n      <td>1.520767e-01</td>\n      <td>1.039513e-01</td>\n      <td>1.612635e-01</td>\n      <td>1.984504e-01</td>\n      <td>2.108800e-03</td>\n      <td>2.689245e-01</td>\n      <td>1.875187e-01</td>\n      <td>2.186955e-01</td>\n      <td>2.178606e-01</td>\n      <td>7.612209e+08</td>\n      <td>1.932909e-01</td>\n      <td>1.908637e-01</td>\n    </tr>\n    <tr>\n      <th>featureInfo</th>\n      <td>-3.026933e-02</td>\n      <td>NaN</td>\n      <td>-9.056778e-03</td>\n      <td>3.448185e-02</td>\n      <td>4.957174e-01</td>\n      <td>1.009335e-01</td>\n      <td>7.367765e-02</td>\n      <td>2.125668e-01</td>\n      <td>3.156274e-02</td>\n      <td>1.654849e-01</td>\n      <td>NaN</td>\n      <td>2.836632e-03</td>\n      <td>1.753176e-01</td>\n      <td>5.011711e-01</td>\n      <td>3.806385e-02</td>\n      <td>7.507560e-03</td>\n      <td>1.216398e-01</td>\n      <td>1.448971e-01</td>\n      <td>1.489897e-01</td>\n      <td>1.537584e-01</td>\n      <td>1.107003e-01</td>\n      <td>1.666302e-01</td>\n      <td>1.723419e-01</td>\n      <td>1.041644e-01</td>\n      <td>2.049762e-01</td>\n      <td>1.711944e-01</td>\n      <td>1.765832e-01</td>\n      <td>1.735927e-01</td>\n      <td>6.405016e+08</td>\n      <td>1.836986e-01</td>\n      <td>1.748873e-01</td>\n    </tr>\n    <tr>\n      <th>WithInfo</th>\n      <td>4.838405e-01</td>\n      <td>NaN</td>\n      <td>-2.342595e-02</td>\n      <td>3.657269e-01</td>\n      <td>-9.226100e-03</td>\n      <td>8.699061e-02</td>\n      <td>-1.569244e-02</td>\n      <td>1.861752e-01</td>\n      <td>4.253698e-02</td>\n      <td>2.353162e-01</td>\n      <td>NaN</td>\n      <td>6.182648e-01</td>\n      <td>2.975113e-01</td>\n      <td>3.806385e-02</td>\n      <td>5.955190e-01</td>\n      <td>4.869545e-01</td>\n      <td>5.382491e-02</td>\n      <td>9.880977e-02</td>\n      <td>1.897845e-01</td>\n      <td>1.831065e-01</td>\n      <td>1.234591e-01</td>\n      <td>1.851721e-01</td>\n      <td>2.492450e-01</td>\n      <td>7.548355e-02</td>\n      <td>3.007586e-01</td>\n      <td>2.419641e-01</td>\n      <td>2.523212e-01</td>\n      <td>2.537855e-01</td>\n      <td>8.882471e+08</td>\n      <td>2.427343e-01</td>\n      <td>2.438968e-01</td>\n    </tr>\n    <tr>\n      <th>Withflip</th>\n      <td>4.158715e-01</td>\n      <td>NaN</td>\n      <td>-5.159688e-02</td>\n      <td>3.059599e-01</td>\n      <td>-8.874743e-03</td>\n      <td>1.427312e-02</td>\n      <td>-3.932342e-02</td>\n      <td>4.111559e-02</td>\n      <td>5.812630e-01</td>\n      <td>2.110824e-01</td>\n      <td>NaN</td>\n      <td>5.418033e-01</td>\n      <td>2.574121e-01</td>\n      <td>7.507560e-03</td>\n      <td>4.869545e-01</td>\n      <td>8.698015e-01</td>\n      <td>-1.480980e-02</td>\n      <td>7.495008e-03</td>\n      <td>1.485545e-01</td>\n      <td>1.675001e-01</td>\n      <td>1.128503e-01</td>\n      <td>3.079180e-01</td>\n      <td>1.946363e-01</td>\n      <td>3.938301e-01</td>\n      <td>2.500550e-01</td>\n      <td>3.793747e-01</td>\n      <td>4.298935e-01</td>\n      <td>2.198604e-01</td>\n      <td>7.019839e+08</td>\n      <td>3.932940e-01</td>\n      <td>2.121439e-01</td>\n    </tr>\n    <tr>\n      <th>total clusters</th>\n      <td>-8.811000e-02</td>\n      <td>NaN</td>\n      <td>6.977519e-02</td>\n      <td>-2.761398e-03</td>\n      <td>3.245259e-02</td>\n      <td>8.220674e-01</td>\n      <td>6.268960e-01</td>\n      <td>5.465865e-01</td>\n      <td>1.046624e-02</td>\n      <td>7.987206e-02</td>\n      <td>NaN</td>\n      <td>-4.947759e-02</td>\n      <td>-3.544612e-02</td>\n      <td>1.216398e-01</td>\n      <td>5.382491e-02</td>\n      <td>-1.480980e-02</td>\n      <td>1.159923e+00</td>\n      <td>1.026827e+00</td>\n      <td>1.775937e-01</td>\n      <td>1.480511e-01</td>\n      <td>9.496921e-02</td>\n      <td>1.600599e-01</td>\n      <td>1.332528e-01</td>\n      <td>6.535323e-01</td>\n      <td>1.800381e-02</td>\n      <td>1.353498e-01</td>\n      <td>3.119611e-02</td>\n      <td>-2.033078e-02</td>\n      <td>-1.424955e+08</td>\n      <td>1.145942e-01</td>\n      <td>9.629093e-02</td>\n    </tr>\n    <tr>\n      <th>clusterInfo</th>\n      <td>-4.839402e-02</td>\n      <td>NaN</td>\n      <td>3.335656e-02</td>\n      <td>4.333366e-03</td>\n      <td>1.450371e-02</td>\n      <td>7.439472e-01</td>\n      <td>5.460496e-01</td>\n      <td>7.148060e-01</td>\n      <td>1.697126e-02</td>\n      <td>7.787862e-02</td>\n      <td>NaN</td>\n      <td>-2.658005e-02</td>\n      <td>-2.835087e-02</td>\n      <td>1.448971e-01</td>\n      <td>9.880977e-02</td>\n      <td>7.495008e-03</td>\n      <td>1.026827e+00</td>\n      <td>9.922955e-01</td>\n      <td>1.716308e-01</td>\n      <td>1.500981e-01</td>\n      <td>9.821701e-02</td>\n      <td>1.628383e-01</td>\n      <td>1.380926e-01</td>\n      <td>5.851379e-01</td>\n      <td>3.664660e-02</td>\n      <td>1.417432e-01</td>\n      <td>4.887372e-02</td>\n      <td>2.695400e-03</td>\n      <td>-5.161160e+07</td>\n      <td>1.260866e-01</td>\n      <td>1.087205e-01</td>\n    </tr>\n    <tr>\n      <th>All</th>\n      <td>1.298769e-01</td>\n      <td>NaN</td>\n      <td>2.016587e-03</td>\n      <td>1.204662e-01</td>\n      <td>1.292640e-01</td>\n      <td>1.461086e-01</td>\n      <td>7.951839e-02</td>\n      <td>1.257685e-01</td>\n      <td>2.114850e-02</td>\n      <td>1.620034e-01</td>\n      <td>NaN</td>\n      <td>1.836803e-01</td>\n      <td>1.560699e-01</td>\n      <td>1.489897e-01</td>\n      <td>1.897845e-01</td>\n      <td>1.485545e-01</td>\n      <td>1.775937e-01</td>\n      <td>1.716308e-01</td>\n      <td>1.564817e-01</td>\n      <td>1.597154e-01</td>\n      <td>1.103611e-01</td>\n      <td>1.867308e-01</td>\n      <td>1.750884e-01</td>\n      <td>1.285736e-01</td>\n      <td>1.754093e-01</td>\n      <td>1.773417e-01</td>\n      <td>1.557011e-01</td>\n      <td>1.418224e-01</td>\n      <td>4.695599e+08</td>\n      <td>1.981946e-01</td>\n      <td>1.736560e-01</td>\n    </tr>\n    <tr>\n      <th>AllDjob</th>\n      <td>1.319950e-01</td>\n      <td>NaN</td>\n      <td>-1.829447e-01</td>\n      <td>9.849794e-02</td>\n      <td>1.292996e-01</td>\n      <td>1.172805e-01</td>\n      <td>7.318408e-02</td>\n      <td>1.164618e-01</td>\n      <td>3.897622e-02</td>\n      <td>3.392037e-01</td>\n      <td>NaN</td>\n      <td>1.818265e-01</td>\n      <td>1.520767e-01</td>\n      <td>1.537584e-01</td>\n      <td>1.831065e-01</td>\n      <td>1.675001e-01</td>\n      <td>1.480511e-01</td>\n      <td>1.500981e-01</td>\n      <td>1.597154e-01</td>\n      <td>3.265323e-01</td>\n      <td>2.933612e-01</td>\n      <td>3.924348e-01</td>\n      <td>1.771311e-01</td>\n      <td>1.350523e-01</td>\n      <td>1.778910e-01</td>\n      <td>2.136701e-01</td>\n      <td>1.857306e-01</td>\n      <td>3.200469e-01</td>\n      <td>1.438974e+09</td>\n      <td>4.066987e-01</td>\n      <td>3.538868e-01</td>\n    </tr>\n    <tr>\n      <th>AllDDjob</th>\n      <td>8.996708e-02</td>\n      <td>NaN</td>\n      <td>-1.661885e-01</td>\n      <td>6.390351e-02</td>\n      <td>9.465125e-02</td>\n      <td>6.906134e-02</td>\n      <td>5.307653e-02</td>\n      <td>7.450153e-02</td>\n      <td>2.667717e-02</td>\n      <td>3.058637e-01</td>\n      <td>NaN</td>\n      <td>1.239653e-01</td>\n      <td>1.039513e-01</td>\n      <td>1.107003e-01</td>\n      <td>1.234591e-01</td>\n      <td>1.128503e-01</td>\n      <td>9.496921e-02</td>\n      <td>9.821701e-02</td>\n      <td>1.103611e-01</td>\n      <td>2.933612e-01</td>\n      <td>2.898385e-01</td>\n      <td>3.570104e-01</td>\n      <td>1.184191e-01</td>\n      <td>9.332265e-02</td>\n      <td>1.215728e-01</td>\n      <td>1.514575e-01</td>\n      <td>1.320766e-01</td>\n      <td>2.919928e-01</td>\n      <td>1.449967e+09</td>\n      <td>3.591432e-01</td>\n      <td>3.129093e-01</td>\n    </tr>\n    <tr>\n      <th>AllwithFlip</th>\n      <td>1.185532e-01</td>\n      <td>NaN</td>\n      <td>-1.726183e-01</td>\n      <td>9.845610e-02</td>\n      <td>1.421612e-01</td>\n      <td>1.184378e-01</td>\n      <td>8.841345e-02</td>\n      <td>1.191391e-01</td>\n      <td>2.125794e-01</td>\n      <td>3.752758e-01</td>\n      <td>NaN</td>\n      <td>1.737264e-01</td>\n      <td>1.612635e-01</td>\n      <td>1.666302e-01</td>\n      <td>1.851721e-01</td>\n      <td>3.079180e-01</td>\n      <td>1.600599e-01</td>\n      <td>1.628383e-01</td>\n      <td>1.867308e-01</td>\n      <td>3.924348e-01</td>\n      <td>3.570104e-01</td>\n      <td>6.027304e-01</td>\n      <td>1.936974e-01</td>\n      <td>2.957343e-01</td>\n      <td>1.895772e-01</td>\n      <td>3.282034e-01</td>\n      <td>2.932597e-01</td>\n      <td>3.398804e-01</td>\n      <td>1.513306e+09</td>\n      <td>6.094675e-01</td>\n      <td>3.922851e-01</td>\n    </tr>\n    <tr>\n      <th>AllwithClass m1</th>\n      <td>1.782665e-01</td>\n      <td>NaN</td>\n      <td>-2.043958e-03</td>\n      <td>1.527456e-01</td>\n      <td>1.486872e-01</td>\n      <td>1.870236e-01</td>\n      <td>-1.760991e-02</td>\n      <td>1.303310e-01</td>\n      <td>1.845362e-02</td>\n      <td>2.076005e-01</td>\n      <td>NaN</td>\n      <td>2.517597e-01</td>\n      <td>1.984504e-01</td>\n      <td>1.723419e-01</td>\n      <td>2.492450e-01</td>\n      <td>1.946363e-01</td>\n      <td>1.332528e-01</td>\n      <td>1.380926e-01</td>\n      <td>1.750884e-01</td>\n      <td>1.771311e-01</td>\n      <td>1.184191e-01</td>\n      <td>1.936974e-01</td>\n      <td>2.267856e-01</td>\n      <td>9.716639e-02</td>\n      <td>2.239257e-01</td>\n      <td>2.211751e-01</td>\n      <td>1.921660e-01</td>\n      <td>1.848356e-01</td>\n      <td>6.079251e+08</td>\n      <td>2.366739e-01</td>\n      <td>2.262517e-01</td>\n    </tr>\n    <tr>\n      <th>flipwithcluster</th>\n      <td>-6.050149e-02</td>\n      <td>NaN</td>\n      <td>3.867033e-02</td>\n      <td>2.458052e-02</td>\n      <td>4.425506e-02</td>\n      <td>4.707116e-01</td>\n      <td>3.458297e-01</td>\n      <td>3.475276e-01</td>\n      <td>7.558511e-01</td>\n      <td>8.789804e-02</td>\n      <td>NaN</td>\n      <td>3.947225e-03</td>\n      <td>2.108800e-03</td>\n      <td>1.041644e-01</td>\n      <td>7.548355e-02</td>\n      <td>3.938301e-01</td>\n      <td>6.535323e-01</td>\n      <td>5.851379e-01</td>\n      <td>1.285736e-01</td>\n      <td>1.350523e-01</td>\n      <td>9.332265e-02</td>\n      <td>2.957343e-01</td>\n      <td>9.716639e-02</td>\n      <td>1.050268e+00</td>\n      <td>3.261168e-02</td>\n      <td>2.915007e-01</td>\n      <td>2.306910e-01</td>\n      <td>2.349025e-02</td>\n      <td>3.729586e+07</td>\n      <td>2.818121e-01</td>\n      <td>9.904282e-02</td>\n    </tr>\n    <tr>\n      <th>WithfeatureInfo</th>\n      <td>2.381210e-01</td>\n      <td>NaN</td>\n      <td>-1.115017e-02</td>\n      <td>2.048114e-01</td>\n      <td>1.963677e-01</td>\n      <td>4.332272e-02</td>\n      <td>-1.651792e-02</td>\n      <td>8.219862e-02</td>\n      <td>1.719110e-02</td>\n      <td>2.170984e-01</td>\n      <td>NaN</td>\n      <td>3.305957e-01</td>\n      <td>2.689245e-01</td>\n      <td>2.049762e-01</td>\n      <td>3.007586e-01</td>\n      <td>2.500550e-01</td>\n      <td>1.800381e-02</td>\n      <td>3.664660e-02</td>\n      <td>1.754093e-01</td>\n      <td>1.778910e-01</td>\n      <td>1.215728e-01</td>\n      <td>1.895772e-01</td>\n      <td>2.239257e-01</td>\n      <td>3.261168e-02</td>\n      <td>2.772794e-01</td>\n      <td>2.179540e-01</td>\n      <td>2.328643e-01</td>\n      <td>2.338532e-01</td>\n      <td>8.147518e+08</td>\n      <td>2.317004e-01</td>\n      <td>2.263494e-01</td>\n    </tr>\n    <tr>\n      <th>m1flip</th>\n      <td>1.643410e-01</td>\n      <td>NaN</td>\n      <td>-2.507559e-02</td>\n      <td>1.340844e-01</td>\n      <td>1.403024e-01</td>\n      <td>1.742143e-01</td>\n      <td>-1.628074e-04</td>\n      <td>1.406771e-01</td>\n      <td>2.520297e-01</td>\n      <td>2.272429e-01</td>\n      <td>NaN</td>\n      <td>2.346360e-01</td>\n      <td>1.875187e-01</td>\n      <td>1.711944e-01</td>\n      <td>2.419641e-01</td>\n      <td>3.793747e-01</td>\n      <td>1.353498e-01</td>\n      <td>1.417432e-01</td>\n      <td>1.773417e-01</td>\n      <td>2.136701e-01</td>\n      <td>1.514575e-01</td>\n      <td>3.282034e-01</td>\n      <td>2.211751e-01</td>\n      <td>2.915007e-01</td>\n      <td>2.179540e-01</td>\n      <td>3.466635e-01</td>\n      <td>3.141445e-01</td>\n      <td>2.022322e-01</td>\n      <td>6.630506e+08</td>\n      <td>3.871662e-01</td>\n      <td>2.506208e-01</td>\n    </tr>\n    <tr>\n      <th>WithfeatureInfoMflip</th>\n      <td>1.822623e-01</td>\n      <td>NaN</td>\n      <td>-3.110856e-02</td>\n      <td>1.653438e-01</td>\n      <td>1.594664e-01</td>\n      <td>4.393258e-02</td>\n      <td>2.232123e-03</td>\n      <td>8.959183e-02</td>\n      <td>2.867967e-01</td>\n      <td>2.044819e-01</td>\n      <td>NaN</td>\n      <td>2.676882e-01</td>\n      <td>2.186955e-01</td>\n      <td>1.765832e-01</td>\n      <td>2.523212e-01</td>\n      <td>4.298935e-01</td>\n      <td>3.119611e-02</td>\n      <td>4.887372e-02</td>\n      <td>1.557011e-01</td>\n      <td>1.857306e-01</td>\n      <td>1.320766e-01</td>\n      <td>2.932597e-01</td>\n      <td>1.921660e-01</td>\n      <td>2.306910e-01</td>\n      <td>2.328643e-01</td>\n      <td>3.141445e-01</td>\n      <td>3.376499e-01</td>\n      <td>2.139360e-01</td>\n      <td>7.259630e+08</td>\n      <td>3.464824e-01</td>\n      <td>2.172523e-01</td>\n    </tr>\n    <tr>\n      <th>WithfeatureInfoDjob</th>\n      <td>2.057260e-01</td>\n      <td>NaN</td>\n      <td>-2.642499e-01</td>\n      <td>1.513669e-01</td>\n      <td>1.631163e-01</td>\n      <td>3.135703e-03</td>\n      <td>-2.111339e-02</td>\n      <td>6.463330e-02</td>\n      <td>2.467305e-02</td>\n      <td>3.955330e-01</td>\n      <td>NaN</td>\n      <td>2.843839e-01</td>\n      <td>2.178606e-01</td>\n      <td>1.735927e-01</td>\n      <td>2.537855e-01</td>\n      <td>2.198604e-01</td>\n      <td>-2.033078e-02</td>\n      <td>2.695400e-03</td>\n      <td>1.418224e-01</td>\n      <td>3.200469e-01</td>\n      <td>2.919928e-01</td>\n      <td>3.398804e-01</td>\n      <td>1.848356e-01</td>\n      <td>2.349025e-02</td>\n      <td>2.338532e-01</td>\n      <td>2.022322e-01</td>\n      <td>2.139360e-01</td>\n      <td>4.434507e-01</td>\n      <td>2.043316e+09</td>\n      <td>3.983772e-01</td>\n      <td>4.002277e-01</td>\n    </tr>\n    <tr>\n      <th>x2</th>\n      <td>7.217995e+08</td>\n      <td>NaN</td>\n      <td>-1.195736e+09</td>\n      <td>5.117042e+08</td>\n      <td>6.186517e+08</td>\n      <td>-7.831579e+07</td>\n      <td>-6.357993e+07</td>\n      <td>2.049656e+08</td>\n      <td>4.873526e+07</td>\n      <td>1.798243e+09</td>\n      <td>NaN</td>\n      <td>1.001969e+09</td>\n      <td>7.612209e+08</td>\n      <td>6.405016e+08</td>\n      <td>8.882471e+08</td>\n      <td>7.019839e+08</td>\n      <td>-1.424955e+08</td>\n      <td>-5.161160e+07</td>\n      <td>4.695599e+08</td>\n      <td>1.438974e+09</td>\n      <td>1.449967e+09</td>\n      <td>1.513306e+09</td>\n      <td>6.079251e+08</td>\n      <td>3.729586e+07</td>\n      <td>8.147518e+08</td>\n      <td>6.630506e+08</td>\n      <td>7.259630e+08</td>\n      <td>2.043316e+09</td>\n      <td>1.029263e+19</td>\n      <td>1.718618e+09</td>\n      <td>1.779228e+09</td>\n    </tr>\n    <tr>\n      <th>m1flipDjob</th>\n      <td>1.607872e-01</td>\n      <td>NaN</td>\n      <td>-2.129698e-01</td>\n      <td>1.304521e-01</td>\n      <td>1.558459e-01</td>\n      <td>1.490545e-01</td>\n      <td>-8.872190e-04</td>\n      <td>1.292161e-01</td>\n      <td>2.512903e-01</td>\n      <td>4.384811e-01</td>\n      <td>NaN</td>\n      <td>2.351181e-01</td>\n      <td>1.932909e-01</td>\n      <td>1.836986e-01</td>\n      <td>2.427343e-01</td>\n      <td>3.932940e-01</td>\n      <td>1.145942e-01</td>\n      <td>1.260866e-01</td>\n      <td>1.981946e-01</td>\n      <td>4.066987e-01</td>\n      <td>3.591432e-01</td>\n      <td>6.094675e-01</td>\n      <td>2.366739e-01</td>\n      <td>2.818121e-01</td>\n      <td>2.317004e-01</td>\n      <td>3.871662e-01</td>\n      <td>3.464824e-01</td>\n      <td>3.983772e-01</td>\n      <td>1.718618e+09</td>\n      <td>6.837824e-01</td>\n      <td>4.577995e-01</td>\n    </tr>\n    <tr>\n      <th>final</th>\n      <td>1.784722e-01</td>\n      <td>NaN</td>\n      <td>-2.242286e-01</td>\n      <td>1.316614e-01</td>\n      <td>1.463160e-01</td>\n      <td>1.490612e-01</td>\n      <td>-2.642998e-02</td>\n      <td>1.220505e-01</td>\n      <td>3.559264e-02</td>\n      <td>4.195457e-01</td>\n      <td>NaN</td>\n      <td>2.542146e-01</td>\n      <td>1.908637e-01</td>\n      <td>1.748873e-01</td>\n      <td>2.438968e-01</td>\n      <td>2.121439e-01</td>\n      <td>9.629093e-02</td>\n      <td>1.087205e-01</td>\n      <td>1.736560e-01</td>\n      <td>3.538868e-01</td>\n      <td>3.129093e-01</td>\n      <td>3.922851e-01</td>\n      <td>2.262517e-01</td>\n      <td>9.904282e-02</td>\n      <td>2.263494e-01</td>\n      <td>2.506208e-01</td>\n      <td>2.172523e-01</td>\n      <td>4.002277e-01</td>\n      <td>1.779228e+09</td>\n      <td>4.577995e-01</td>\n      <td>4.429042e-01</td>\n    </tr>\n  </tbody>\n</table>\n</div>"
          },
          "metadata": {}
        }
      ]
    },
    {
      "metadata": {
        "trusted": true,
        "_uuid": "ab48fb77290af5694d2ceaf45aea49a9930434be"
      },
      "cell_type": "code",
      "source": "test6.describe()",
      "execution_count": 3,
      "outputs": [
        {
          "output_type": "execute_result",
          "execution_count": 3,
          "data": {
            "text/plain": "         max_iter  random_state     ...      m1flipDjob       final\ncount  440.000000           0.0     ...      440.000000  440.000000\nmean     0.154046           NaN     ...       -0.184547   -0.232944\nstd      1.065815           NaN     ...        0.826911    0.665510\nmin     -1.628817           NaN     ...       -0.510629   -0.583718\n25%     -0.777936           NaN     ...       -0.488055   -0.542446\n50%      0.029002           NaN     ...       -0.424894   -0.448320\n75%      1.088608           NaN     ...       -0.254161   -0.202337\nmax      1.946479           NaN     ...       10.138849    5.428708\n\n[8 rows x 31 columns]",
            "text/html": "<div>\n<style scoped>\n    .dataframe tbody tr th:only-of-type {\n        vertical-align: middle;\n    }\n\n    .dataframe tbody tr th {\n        vertical-align: top;\n    }\n\n    .dataframe thead th {\n        text-align: right;\n    }\n</style>\n<table border=\"1\" class=\"dataframe\">\n  <thead>\n    <tr style=\"text-align: right;\">\n      <th></th>\n      <th>max_iter</th>\n      <th>random_state</th>\n      <th>n_jobs</th>\n      <th>n_samples</th>\n      <th>n_features</th>\n      <th>n_classes</th>\n      <th>n_clusters_per_class</th>\n      <th>n_informative</th>\n      <th>flip_y</th>\n      <th>scale</th>\n      <th>time</th>\n      <th>n1</th>\n      <th>WithFeature</th>\n      <th>featureInfo</th>\n      <th>WithInfo</th>\n      <th>Withflip</th>\n      <th>total clusters</th>\n      <th>clusterInfo</th>\n      <th>All</th>\n      <th>AllDjob</th>\n      <th>AllDDjob</th>\n      <th>AllwithFlip</th>\n      <th>AllwithClass m1</th>\n      <th>flipwithcluster</th>\n      <th>WithfeatureInfo</th>\n      <th>m1flip</th>\n      <th>WithfeatureInfoMflip</th>\n      <th>WithfeatureInfoDjob</th>\n      <th>x2</th>\n      <th>m1flipDjob</th>\n      <th>final</th>\n    </tr>\n  </thead>\n  <tbody>\n    <tr>\n      <th>count</th>\n      <td>440.000000</td>\n      <td>0.0</td>\n      <td>440.000000</td>\n      <td>440.000000</td>\n      <td>440.000000</td>\n      <td>440.000000</td>\n      <td>440.000000</td>\n      <td>440.000000</td>\n      <td>440.000000</td>\n      <td>440.000000</td>\n      <td>0.0</td>\n      <td>440.000000</td>\n      <td>440.000000</td>\n      <td>440.000000</td>\n      <td>440.000000</td>\n      <td>440.000000</td>\n      <td>440.000000</td>\n      <td>440.000000</td>\n      <td>440.000000</td>\n      <td>440.000000</td>\n      <td>440.000000</td>\n      <td>440.000000</td>\n      <td>440.000000</td>\n      <td>440.000000</td>\n      <td>440.000000</td>\n      <td>440.000000</td>\n      <td>440.000000</td>\n      <td>440.000000</td>\n      <td>4.400000e+02</td>\n      <td>440.000000</td>\n      <td>440.000000</td>\n    </tr>\n    <tr>\n      <th>mean</th>\n      <td>0.154046</td>\n      <td>NaN</td>\n      <td>-0.171795</td>\n      <td>-0.512413</td>\n      <td>-0.620083</td>\n      <td>-0.107947</td>\n      <td>0.062845</td>\n      <td>0.129564</td>\n      <td>-0.130814</td>\n      <td>-0.238768</td>\n      <td>NaN</td>\n      <td>-0.268672</td>\n      <td>-0.502344</td>\n      <td>-0.561444</td>\n      <td>-0.251554</td>\n      <td>-0.222124</td>\n      <td>0.012505</td>\n      <td>-0.007391</td>\n      <td>-0.357935</td>\n      <td>-0.213837</td>\n      <td>-0.126224</td>\n      <td>-0.165615</td>\n      <td>-0.383898</td>\n      <td>-0.093710</td>\n      <td>-0.457486</td>\n      <td>-0.331815</td>\n      <td>-0.364460</td>\n      <td>-0.216043</td>\n      <td>1.400436e+09</td>\n      <td>-0.184547</td>\n      <td>-0.232944</td>\n    </tr>\n    <tr>\n      <th>std</th>\n      <td>1.065815</td>\n      <td>NaN</td>\n      <td>0.995716</td>\n      <td>0.757539</td>\n      <td>0.798349</td>\n      <td>1.010933</td>\n      <td>0.974236</td>\n      <td>1.092983</td>\n      <td>1.034666</td>\n      <td>0.666578</td>\n      <td>NaN</td>\n      <td>0.849822</td>\n      <td>0.555879</td>\n      <td>0.707934</td>\n      <td>0.771699</td>\n      <td>0.932632</td>\n      <td>1.076997</td>\n      <td>0.996140</td>\n      <td>0.395578</td>\n      <td>0.571430</td>\n      <td>0.538366</td>\n      <td>0.776357</td>\n      <td>0.476220</td>\n      <td>1.024826</td>\n      <td>0.526573</td>\n      <td>0.588781</td>\n      <td>0.581077</td>\n      <td>0.665921</td>\n      <td>3.208213e+09</td>\n      <td>0.826911</td>\n      <td>0.665510</td>\n    </tr>\n    <tr>\n      <th>min</th>\n      <td>-1.628817</td>\n      <td>NaN</td>\n      <td>-1.110083</td>\n      <td>-1.656116</td>\n      <td>-1.868865</td>\n      <td>-1.659572</td>\n      <td>-1.214197</td>\n      <td>-2.065675</td>\n      <td>-1.781798</td>\n      <td>-0.626220</td>\n      <td>NaN</td>\n      <td>-1.366848</td>\n      <td>-1.066268</td>\n      <td>-1.698241</td>\n      <td>-1.233506</td>\n      <td>-1.069507</td>\n      <td>-1.578201</td>\n      <td>-1.405037</td>\n      <td>-0.670677</td>\n      <td>-0.502589</td>\n      <td>-0.322563</td>\n      <td>-0.430600</td>\n      <td>-0.763943</td>\n      <td>-1.239785</td>\n      <td>-0.963871</td>\n      <td>-0.691720</td>\n      <td>-0.779695</td>\n      <td>-0.619845</td>\n      <td>-5.755055e-01</td>\n      <td>-0.510629</td>\n      <td>-0.583718</td>\n    </tr>\n    <tr>\n      <th>25%</th>\n      <td>-0.777936</td>\n      <td>NaN</td>\n      <td>-0.924450</td>\n      <td>-1.114700</td>\n      <td>-1.288612</td>\n      <td>-0.855905</td>\n      <td>-0.327922</td>\n      <td>-0.334662</td>\n      <td>-1.092594</td>\n      <td>-0.578641</td>\n      <td>NaN</td>\n      <td>-0.922513</td>\n      <td>-0.887815</td>\n      <td>-1.128365</td>\n      <td>-0.827804</td>\n      <td>-0.882233</td>\n      <td>-0.612940</td>\n      <td>-0.787988</td>\n      <td>-0.603973</td>\n      <td>-0.469150</td>\n      <td>-0.317450</td>\n      <td>-0.412109</td>\n      <td>-0.674979</td>\n      <td>-0.877624</td>\n      <td>-0.818664</td>\n      <td>-0.644005</td>\n      <td>-0.706643</td>\n      <td>-0.562921</td>\n      <td>4.391375e+07</td>\n      <td>-0.488055</td>\n      <td>-0.542446</td>\n    </tr>\n    <tr>\n      <th>50%</th>\n      <td>0.029002</td>\n      <td>NaN</td>\n      <td>-0.553185</td>\n      <td>-0.585422</td>\n      <td>-0.673917</td>\n      <td>-0.052238</td>\n      <td>-0.327922</td>\n      <td>0.242342</td>\n      <td>-0.178069</td>\n      <td>-0.472764</td>\n      <td>NaN</td>\n      <td>-0.508895</td>\n      <td>-0.701427</td>\n      <td>-0.646331</td>\n      <td>-0.423371</td>\n      <td>-0.513464</td>\n      <td>-0.226836</td>\n      <td>-0.154262</td>\n      <td>-0.495241</td>\n      <td>-0.395110</td>\n      <td>-0.296995</td>\n      <td>-0.365065</td>\n      <td>-0.556214</td>\n      <td>-0.384698</td>\n      <td>-0.634625</td>\n      <td>-0.537222</td>\n      <td>-0.558366</td>\n      <td>-0.450629</td>\n      <td>2.050154e+08</td>\n      <td>-0.424894</td>\n      <td>-0.448320</td>\n    </tr>\n    <tr>\n      <th>75%</th>\n      <td>1.088608</td>\n      <td>NaN</td>\n      <td>0.189345</td>\n      <td>-0.011496</td>\n      <td>-0.045349</td>\n      <td>0.751428</td>\n      <td>0.558354</td>\n      <td>0.819346</td>\n      <td>0.781618</td>\n      <td>-0.206126</td>\n      <td>NaN</td>\n      <td>0.191935</td>\n      <td>-0.260965</td>\n      <td>-0.086969</td>\n      <td>0.185499</td>\n      <td>0.078693</td>\n      <td>0.641898</td>\n      <td>0.387740</td>\n      <td>-0.290306</td>\n      <td>-0.217853</td>\n      <td>-0.196703</td>\n      <td>-0.215241</td>\n      <td>-0.277654</td>\n      <td>0.452358</td>\n      <td>-0.253436</td>\n      <td>-0.269782</td>\n      <td>-0.305423</td>\n      <td>-0.189786</td>\n      <td>1.139160e+09</td>\n      <td>-0.254161</td>\n      <td>-0.202337</td>\n    </tr>\n    <tr>\n      <th>max</th>\n      <td>1.946479</td>\n      <td>NaN</td>\n      <td>1.674406</td>\n      <td>1.116417</td>\n      <td>1.171605</td>\n      <td>1.555095</td>\n      <td>1.444629</td>\n      <td>4.281371</td>\n      <td>1.627838</td>\n      <td>4.837588</td>\n      <td>NaN</td>\n      <td>3.281885</td>\n      <td>2.076381</td>\n      <td>1.406161</td>\n      <td>3.586827</td>\n      <td>4.623426</td>\n      <td>2.861997</td>\n      <td>3.464646</td>\n      <td>2.566675</td>\n      <td>6.787371</td>\n      <td>7.132319</td>\n      <td>12.079050</td>\n      <td>3.742925</td>\n      <td>4.060535</td>\n      <td>3.583792</td>\n      <td>5.459429</td>\n      <td>4.653918</td>\n      <td>3.963474</td>\n      <td>2.295402e+10</td>\n      <td>10.138849</td>\n      <td>5.428708</td>\n    </tr>\n  </tbody>\n</table>\n</div>"
          },
          "metadata": {}
        }
      ]
    },
    {
      "metadata": {
        "trusted": true,
        "_uuid": "d67058cf316faaf2b49ce58031e4f1bbaeff85f5"
      },
      "cell_type": "code",
      "source": "test3.describe()",
      "execution_count": 4,
      "outputs": [
        {
          "output_type": "execute_result",
          "execution_count": 4,
          "data": {
            "text/plain": "         max_iter      n_jobs     ...      m1flipDjob       final\ncount  440.000000  440.000000     ...      440.000000  440.000000\nmean     0.152049   -0.171795     ...       -0.195095   -0.246661\nstd      1.068678    0.995716     ...        0.790989    0.607164\nmin     -1.628817   -1.110083     ...       -0.510629   -0.583718\n25%     -0.778935   -0.924450     ...       -0.488055   -0.542754\n50%      0.029002   -0.553185     ...       -0.424894   -0.449404\n75%      1.088608    0.189345     ...       -0.254405   -0.205558\nmax      1.946479    1.674406     ...       10.138849    5.428708\n\n[8 rows x 14 columns]",
            "text/html": "<div>\n<style scoped>\n    .dataframe tbody tr th:only-of-type {\n        vertical-align: middle;\n    }\n\n    .dataframe tbody tr th {\n        vertical-align: top;\n    }\n\n    .dataframe thead th {\n        text-align: right;\n    }\n</style>\n<table border=\"1\" class=\"dataframe\">\n  <thead>\n    <tr style=\"text-align: right;\">\n      <th></th>\n      <th>max_iter</th>\n      <th>n_jobs</th>\n      <th>n_samples</th>\n      <th>n_features</th>\n      <th>n_classes</th>\n      <th>n_informative</th>\n      <th>flip_y</th>\n      <th>scale</th>\n      <th>total clusters</th>\n      <th>AllDjob</th>\n      <th>AllwithClass m1</th>\n      <th>WithfeatureInfoDjob</th>\n      <th>m1flipDjob</th>\n      <th>final</th>\n    </tr>\n  </thead>\n  <tbody>\n    <tr>\n      <th>count</th>\n      <td>440.000000</td>\n      <td>440.000000</td>\n      <td>440.000000</td>\n      <td>440.000000</td>\n      <td>440.000000</td>\n      <td>440.000000</td>\n      <td>440.000000</td>\n      <td>4.400000e+02</td>\n      <td>440.000000</td>\n      <td>440.000000</td>\n      <td>440.000000</td>\n      <td>440.000000</td>\n      <td>440.000000</td>\n      <td>440.000000</td>\n    </tr>\n    <tr>\n      <th>mean</th>\n      <td>0.152049</td>\n      <td>-0.171795</td>\n      <td>-0.572028</td>\n      <td>-0.666737</td>\n      <td>-0.107947</td>\n      <td>0.061372</td>\n      <td>-0.132439</td>\n      <td>2.594295e+07</td>\n      <td>-0.017331</td>\n      <td>-0.226697</td>\n      <td>-0.395225</td>\n      <td>-0.229493</td>\n      <td>-0.195095</td>\n      <td>-0.246661</td>\n    </tr>\n    <tr>\n      <th>std</th>\n      <td>1.068678</td>\n      <td>0.995716</td>\n      <td>0.655019</td>\n      <td>0.718062</td>\n      <td>1.010933</td>\n      <td>0.883273</td>\n      <td>1.036451</td>\n      <td>4.386501e+07</td>\n      <td>1.093817</td>\n      <td>0.538861</td>\n      <td>0.442135</td>\n      <td>0.621731</td>\n      <td>0.790989</td>\n      <td>0.607164</td>\n    </tr>\n    <tr>\n      <th>min</th>\n      <td>-1.628817</td>\n      <td>-1.110083</td>\n      <td>-1.656116</td>\n      <td>-1.868865</td>\n      <td>-1.659572</td>\n      <td>-2.065675</td>\n      <td>-1.781798</td>\n      <td>4.328100e+04</td>\n      <td>-1.578201</td>\n      <td>-0.502589</td>\n      <td>-0.763943</td>\n      <td>-0.619845</td>\n      <td>-0.510629</td>\n      <td>-0.583718</td>\n    </tr>\n    <tr>\n      <th>25%</th>\n      <td>-0.778935</td>\n      <td>-0.924450</td>\n      <td>-1.114700</td>\n      <td>-1.288612</td>\n      <td>-0.855905</td>\n      <td>-0.334662</td>\n      <td>-1.092594</td>\n      <td>3.268368e+06</td>\n      <td>-0.805992</td>\n      <td>-0.470174</td>\n      <td>-0.675903</td>\n      <td>-0.565150</td>\n      <td>-0.488055</td>\n      <td>-0.542754</td>\n    </tr>\n    <tr>\n      <th>50%</th>\n      <td>0.029002</td>\n      <td>-0.553185</td>\n      <td>-0.585422</td>\n      <td>-0.673917</td>\n      <td>-0.052238</td>\n      <td>0.242342</td>\n      <td>-0.178069</td>\n      <td>1.086647e+07</td>\n      <td>-0.226836</td>\n      <td>-0.398406</td>\n      <td>-0.556994</td>\n      <td>-0.450629</td>\n      <td>-0.424894</td>\n      <td>-0.449404</td>\n    </tr>\n    <tr>\n      <th>75%</th>\n      <td>1.088608</td>\n      <td>0.189345</td>\n      <td>-0.011496</td>\n      <td>-0.045349</td>\n      <td>0.751428</td>\n      <td>0.819346</td>\n      <td>0.781618</td>\n      <td>2.928092e+07</td>\n      <td>0.641898</td>\n      <td>-0.222616</td>\n      <td>-0.278433</td>\n      <td>-0.189786</td>\n      <td>-0.254405</td>\n      <td>-0.205558</td>\n    </tr>\n    <tr>\n      <th>max</th>\n      <td>1.946479</td>\n      <td>1.674406</td>\n      <td>0.592774</td>\n      <td>0.593743</td>\n      <td>1.555095</td>\n      <td>1.973354</td>\n      <td>1.627838</td>\n      <td>3.804553e+08</td>\n      <td>2.861997</td>\n      <td>6.787371</td>\n      <td>2.648247</td>\n      <td>3.900684</td>\n      <td>10.138849</td>\n      <td>5.428708</td>\n    </tr>\n  </tbody>\n</table>\n</div>"
          },
          "metadata": {}
        }
      ]
    },
    {
      "metadata": {
        "trusted": true,
        "_uuid": "f99f29101d346d0637750c17c2fd7e5cdba56df1"
      },
      "cell_type": "code",
      "source": "test3.describe(include=[np.number])",
      "execution_count": 5,
      "outputs": [
        {
          "output_type": "execute_result",
          "execution_count": 5,
          "data": {
            "text/plain": "         max_iter      n_jobs     ...      m1flipDjob       final\ncount  440.000000  440.000000     ...      440.000000  440.000000\nmean     0.152049   -0.171795     ...       -0.195095   -0.246661\nstd      1.068678    0.995716     ...        0.790989    0.607164\nmin     -1.628817   -1.110083     ...       -0.510629   -0.583718\n25%     -0.778935   -0.924450     ...       -0.488055   -0.542754\n50%      0.029002   -0.553185     ...       -0.424894   -0.449404\n75%      1.088608    0.189345     ...       -0.254405   -0.205558\nmax      1.946479    1.674406     ...       10.138849    5.428708\n\n[8 rows x 14 columns]",
            "text/html": "<div>\n<style scoped>\n    .dataframe tbody tr th:only-of-type {\n        vertical-align: middle;\n    }\n\n    .dataframe tbody tr th {\n        vertical-align: top;\n    }\n\n    .dataframe thead th {\n        text-align: right;\n    }\n</style>\n<table border=\"1\" class=\"dataframe\">\n  <thead>\n    <tr style=\"text-align: right;\">\n      <th></th>\n      <th>max_iter</th>\n      <th>n_jobs</th>\n      <th>n_samples</th>\n      <th>n_features</th>\n      <th>n_classes</th>\n      <th>n_informative</th>\n      <th>flip_y</th>\n      <th>scale</th>\n      <th>total clusters</th>\n      <th>AllDjob</th>\n      <th>AllwithClass m1</th>\n      <th>WithfeatureInfoDjob</th>\n      <th>m1flipDjob</th>\n      <th>final</th>\n    </tr>\n  </thead>\n  <tbody>\n    <tr>\n      <th>count</th>\n      <td>440.000000</td>\n      <td>440.000000</td>\n      <td>440.000000</td>\n      <td>440.000000</td>\n      <td>440.000000</td>\n      <td>440.000000</td>\n      <td>440.000000</td>\n      <td>4.400000e+02</td>\n      <td>440.000000</td>\n      <td>440.000000</td>\n      <td>440.000000</td>\n      <td>440.000000</td>\n      <td>440.000000</td>\n      <td>440.000000</td>\n    </tr>\n    <tr>\n      <th>mean</th>\n      <td>0.152049</td>\n      <td>-0.171795</td>\n      <td>-0.572028</td>\n      <td>-0.666737</td>\n      <td>-0.107947</td>\n      <td>0.061372</td>\n      <td>-0.132439</td>\n      <td>2.594295e+07</td>\n      <td>-0.017331</td>\n      <td>-0.226697</td>\n      <td>-0.395225</td>\n      <td>-0.229493</td>\n      <td>-0.195095</td>\n      <td>-0.246661</td>\n    </tr>\n    <tr>\n      <th>std</th>\n      <td>1.068678</td>\n      <td>0.995716</td>\n      <td>0.655019</td>\n      <td>0.718062</td>\n      <td>1.010933</td>\n      <td>0.883273</td>\n      <td>1.036451</td>\n      <td>4.386501e+07</td>\n      <td>1.093817</td>\n      <td>0.538861</td>\n      <td>0.442135</td>\n      <td>0.621731</td>\n      <td>0.790989</td>\n      <td>0.607164</td>\n    </tr>\n    <tr>\n      <th>min</th>\n      <td>-1.628817</td>\n      <td>-1.110083</td>\n      <td>-1.656116</td>\n      <td>-1.868865</td>\n      <td>-1.659572</td>\n      <td>-2.065675</td>\n      <td>-1.781798</td>\n      <td>4.328100e+04</td>\n      <td>-1.578201</td>\n      <td>-0.502589</td>\n      <td>-0.763943</td>\n      <td>-0.619845</td>\n      <td>-0.510629</td>\n      <td>-0.583718</td>\n    </tr>\n    <tr>\n      <th>25%</th>\n      <td>-0.778935</td>\n      <td>-0.924450</td>\n      <td>-1.114700</td>\n      <td>-1.288612</td>\n      <td>-0.855905</td>\n      <td>-0.334662</td>\n      <td>-1.092594</td>\n      <td>3.268368e+06</td>\n      <td>-0.805992</td>\n      <td>-0.470174</td>\n      <td>-0.675903</td>\n      <td>-0.565150</td>\n      <td>-0.488055</td>\n      <td>-0.542754</td>\n    </tr>\n    <tr>\n      <th>50%</th>\n      <td>0.029002</td>\n      <td>-0.553185</td>\n      <td>-0.585422</td>\n      <td>-0.673917</td>\n      <td>-0.052238</td>\n      <td>0.242342</td>\n      <td>-0.178069</td>\n      <td>1.086647e+07</td>\n      <td>-0.226836</td>\n      <td>-0.398406</td>\n      <td>-0.556994</td>\n      <td>-0.450629</td>\n      <td>-0.424894</td>\n      <td>-0.449404</td>\n    </tr>\n    <tr>\n      <th>75%</th>\n      <td>1.088608</td>\n      <td>0.189345</td>\n      <td>-0.011496</td>\n      <td>-0.045349</td>\n      <td>0.751428</td>\n      <td>0.819346</td>\n      <td>0.781618</td>\n      <td>2.928092e+07</td>\n      <td>0.641898</td>\n      <td>-0.222616</td>\n      <td>-0.278433</td>\n      <td>-0.189786</td>\n      <td>-0.254405</td>\n      <td>-0.205558</td>\n    </tr>\n    <tr>\n      <th>max</th>\n      <td>1.946479</td>\n      <td>1.674406</td>\n      <td>0.592774</td>\n      <td>0.593743</td>\n      <td>1.555095</td>\n      <td>1.973354</td>\n      <td>1.627838</td>\n      <td>3.804553e+08</td>\n      <td>2.861997</td>\n      <td>6.787371</td>\n      <td>2.648247</td>\n      <td>3.900684</td>\n      <td>10.138849</td>\n      <td>5.428708</td>\n    </tr>\n  </tbody>\n</table>\n</div>"
          },
          "metadata": {}
        }
      ]
    },
    {
      "metadata": {
        "trusted": true,
        "_uuid": "a649eed2199be8571de90b0f6964cd2c12ee5418"
      },
      "cell_type": "code",
      "source": "# df2.describe(include=[np.number])\n# label = df2[\"time\"]\n# #label = label.drop(label.index[[4,39,180,286,408,426,435]])\n\npen = df2[\"penalty\"]\n# #pen = pen.drop(pen.index[[4,39,180,286,408,426,435]])\npen1 = df1[\"penalty\"]",
      "execution_count": 6,
      "outputs": []
    },
    {
      "metadata": {
        "trusted": true,
        "_uuid": "799d56d6ca196491725ebc7d6d4a598316c59932"
      },
      "cell_type": "code",
      "source": "numerics = ['int16', 'int32', 'int64', 'float16', 'float32', 'float64']\n\nnewdf1 = df1.select_dtypes(include=numerics)\n\ntest = (newdf1 - newdf1.mean())/newdf1.std(ddof=0)\n#del test[\"time\"]\ntest = test.join(pen1)\ntest.head()",
      "execution_count": 7,
      "outputs": [
        {
          "output_type": "execute_result",
          "execution_count": 7,
          "data": {
            "text/plain": "   max_iter    n_jobs  n_samples     ...            n2        n3     penalty\n0  0.364560 -0.587885   0.556362     ...     -0.431680 -0.414203          l2\n1  0.044981 -0.587885  -0.792625     ...      0.136216  0.275448  elasticnet\n2 -0.450367  1.382678  -0.870652     ...     -0.494780 -0.461359          l2\n3 -0.286583  1.382678   1.598446     ...     -0.715628 -0.608720        none\n4 -0.929737 -0.587885   1.336624     ...      0.293965  0.128086        none\n\n[5 rows x 11 columns]",
            "text/html": "<div>\n<style scoped>\n    .dataframe tbody tr th:only-of-type {\n        vertical-align: middle;\n    }\n\n    .dataframe tbody tr th {\n        vertical-align: top;\n    }\n\n    .dataframe thead th {\n        text-align: right;\n    }\n</style>\n<table border=\"1\" class=\"dataframe\">\n  <thead>\n    <tr style=\"text-align: right;\">\n      <th></th>\n      <th>max_iter</th>\n      <th>n_jobs</th>\n      <th>n_samples</th>\n      <th>n_features</th>\n      <th>n_classes</th>\n      <th>n_clusters_per_class</th>\n      <th>n_informative</th>\n      <th>n1</th>\n      <th>n2</th>\n      <th>n3</th>\n      <th>penalty</th>\n    </tr>\n  </thead>\n  <tbody>\n    <tr>\n      <th>0</th>\n      <td>0.364560</td>\n      <td>-0.587885</td>\n      <td>0.556362</td>\n      <td>-0.016647</td>\n      <td>-1.257738</td>\n      <td>0.558354</td>\n      <td>-0.334662</td>\n      <td>0.206866</td>\n      <td>-0.431680</td>\n      <td>-0.414203</td>\n      <td>l2</td>\n    </tr>\n    <tr>\n      <th>1</th>\n      <td>0.044981</td>\n      <td>-0.587885</td>\n      <td>-0.792625</td>\n      <td>0.844405</td>\n      <td>1.555095</td>\n      <td>-0.327922</td>\n      <td>1.396350</td>\n      <td>-0.392126</td>\n      <td>0.136216</td>\n      <td>0.275448</td>\n      <td>elasticnet</td>\n    </tr>\n    <tr>\n      <th>2</th>\n      <td>-0.450367</td>\n      <td>1.382678</td>\n      <td>-0.870652</td>\n      <td>-0.150588</td>\n      <td>0.751428</td>\n      <td>1.444629</td>\n      <td>-0.334662</td>\n      <td>-0.690502</td>\n      <td>-0.494780</td>\n      <td>-0.461359</td>\n      <td>l2</td>\n    </tr>\n    <tr>\n      <th>3</th>\n      <td>-0.286583</td>\n      <td>1.382678</td>\n      <td>1.598446</td>\n      <td>0.444494</td>\n      <td>-1.257738</td>\n      <td>0.558354</td>\n      <td>0.819346</td>\n      <td>-0.502573</td>\n      <td>-0.715628</td>\n      <td>-0.608720</td>\n      <td>none</td>\n    </tr>\n    <tr>\n      <th>4</th>\n      <td>-0.929737</td>\n      <td>-0.587885</td>\n      <td>1.336624</td>\n      <td>0.848232</td>\n      <td>0.349595</td>\n      <td>1.444629</td>\n      <td>-0.334662</td>\n      <td>-0.165301</td>\n      <td>0.293965</td>\n      <td>0.128086</td>\n      <td>none</td>\n    </tr>\n  </tbody>\n</table>\n</div>"
          },
          "metadata": {}
        }
      ]
    },
    {
      "metadata": {
        "trusted": true,
        "_uuid": "00ead986d64a7d838e9a8d9ca6fd7905c16fa5ab"
      },
      "cell_type": "code",
      "source": "numerics = ['int16', 'int32', 'int64', 'float16', 'float32', 'float64']\nnewdf = df2.select_dtypes(include=numerics)\n#newdf3 = newdf.append(newdf1)\n\n#newdf = newdf.drop(newdf.index[[4,39,180,286,408,426,435]])\ntrain = (newdf - newdf1.mean())/newdf1.std(ddof=0)\ndel train[\"time\"]\ntrain = train.join(pen)\n#train = test3.join(pen)\n#newdf3.tail()",
      "execution_count": 8,
      "outputs": []
    },
    {
      "metadata": {
        "trusted": true,
        "_uuid": "b218bc40d705e56e7c75099a0dd27d6629041cba"
      },
      "cell_type": "code",
      "source": "\n# # newdfv2 = df2.select_dtypes(include=numerics)\n# # #newdfv2 = newdfv2.drop(newdfv2.index[[160,170,314,338,366,433]])\n# # train2 = (newdfv2.mean() - newdfv2)/newdfv2.std(ddof=0)\n# # del train2[\"time\"]\n# # train2 = train2.join(pen)\n\n# train.describe(include=[np.number])  \n# #train1 = train.drop(train.index[[4,39,180,286,408,426,435]])",
      "execution_count": 9,
      "outputs": []
    },
    {
      "metadata": {
        "trusted": true,
        "_uuid": "4744253ec47b98de968172f6414f77cf65c636db"
      },
      "cell_type": "code",
      "source": "#train1.describe(include=[np.number])  \n",
      "execution_count": 10,
      "outputs": []
    },
    {
      "metadata": {
        "trusted": true,
        "_uuid": "1e96105c66effe8f5ba76808f5248ad479c8b569"
      },
      "cell_type": "code",
      "source": "test6.describe(include=[np.number])  \n",
      "execution_count": 11,
      "outputs": [
        {
          "output_type": "execute_result",
          "execution_count": 11,
          "data": {
            "text/plain": "         max_iter  random_state     ...      m1flipDjob       final\ncount  440.000000           0.0     ...      440.000000  440.000000\nmean     0.154046           NaN     ...       -0.184547   -0.232944\nstd      1.065815           NaN     ...        0.826911    0.665510\nmin     -1.628817           NaN     ...       -0.510629   -0.583718\n25%     -0.777936           NaN     ...       -0.488055   -0.542446\n50%      0.029002           NaN     ...       -0.424894   -0.448320\n75%      1.088608           NaN     ...       -0.254161   -0.202337\nmax      1.946479           NaN     ...       10.138849    5.428708\n\n[8 rows x 31 columns]",
            "text/html": "<div>\n<style scoped>\n    .dataframe tbody tr th:only-of-type {\n        vertical-align: middle;\n    }\n\n    .dataframe tbody tr th {\n        vertical-align: top;\n    }\n\n    .dataframe thead th {\n        text-align: right;\n    }\n</style>\n<table border=\"1\" class=\"dataframe\">\n  <thead>\n    <tr style=\"text-align: right;\">\n      <th></th>\n      <th>max_iter</th>\n      <th>random_state</th>\n      <th>n_jobs</th>\n      <th>n_samples</th>\n      <th>n_features</th>\n      <th>n_classes</th>\n      <th>n_clusters_per_class</th>\n      <th>n_informative</th>\n      <th>flip_y</th>\n      <th>scale</th>\n      <th>time</th>\n      <th>n1</th>\n      <th>WithFeature</th>\n      <th>featureInfo</th>\n      <th>WithInfo</th>\n      <th>Withflip</th>\n      <th>total clusters</th>\n      <th>clusterInfo</th>\n      <th>All</th>\n      <th>AllDjob</th>\n      <th>AllDDjob</th>\n      <th>AllwithFlip</th>\n      <th>AllwithClass m1</th>\n      <th>flipwithcluster</th>\n      <th>WithfeatureInfo</th>\n      <th>m1flip</th>\n      <th>WithfeatureInfoMflip</th>\n      <th>WithfeatureInfoDjob</th>\n      <th>x2</th>\n      <th>m1flipDjob</th>\n      <th>final</th>\n    </tr>\n  </thead>\n  <tbody>\n    <tr>\n      <th>count</th>\n      <td>440.000000</td>\n      <td>0.0</td>\n      <td>440.000000</td>\n      <td>440.000000</td>\n      <td>440.000000</td>\n      <td>440.000000</td>\n      <td>440.000000</td>\n      <td>440.000000</td>\n      <td>440.000000</td>\n      <td>440.000000</td>\n      <td>0.0</td>\n      <td>440.000000</td>\n      <td>440.000000</td>\n      <td>440.000000</td>\n      <td>440.000000</td>\n      <td>440.000000</td>\n      <td>440.000000</td>\n      <td>440.000000</td>\n      <td>440.000000</td>\n      <td>440.000000</td>\n      <td>440.000000</td>\n      <td>440.000000</td>\n      <td>440.000000</td>\n      <td>440.000000</td>\n      <td>440.000000</td>\n      <td>440.000000</td>\n      <td>440.000000</td>\n      <td>440.000000</td>\n      <td>4.400000e+02</td>\n      <td>440.000000</td>\n      <td>440.000000</td>\n    </tr>\n    <tr>\n      <th>mean</th>\n      <td>0.154046</td>\n      <td>NaN</td>\n      <td>-0.171795</td>\n      <td>-0.512413</td>\n      <td>-0.620083</td>\n      <td>-0.107947</td>\n      <td>0.062845</td>\n      <td>0.129564</td>\n      <td>-0.130814</td>\n      <td>-0.238768</td>\n      <td>NaN</td>\n      <td>-0.268672</td>\n      <td>-0.502344</td>\n      <td>-0.561444</td>\n      <td>-0.251554</td>\n      <td>-0.222124</td>\n      <td>0.012505</td>\n      <td>-0.007391</td>\n      <td>-0.357935</td>\n      <td>-0.213837</td>\n      <td>-0.126224</td>\n      <td>-0.165615</td>\n      <td>-0.383898</td>\n      <td>-0.093710</td>\n      <td>-0.457486</td>\n      <td>-0.331815</td>\n      <td>-0.364460</td>\n      <td>-0.216043</td>\n      <td>1.400436e+09</td>\n      <td>-0.184547</td>\n      <td>-0.232944</td>\n    </tr>\n    <tr>\n      <th>std</th>\n      <td>1.065815</td>\n      <td>NaN</td>\n      <td>0.995716</td>\n      <td>0.757539</td>\n      <td>0.798349</td>\n      <td>1.010933</td>\n      <td>0.974236</td>\n      <td>1.092983</td>\n      <td>1.034666</td>\n      <td>0.666578</td>\n      <td>NaN</td>\n      <td>0.849822</td>\n      <td>0.555879</td>\n      <td>0.707934</td>\n      <td>0.771699</td>\n      <td>0.932632</td>\n      <td>1.076997</td>\n      <td>0.996140</td>\n      <td>0.395578</td>\n      <td>0.571430</td>\n      <td>0.538366</td>\n      <td>0.776357</td>\n      <td>0.476220</td>\n      <td>1.024826</td>\n      <td>0.526573</td>\n      <td>0.588781</td>\n      <td>0.581077</td>\n      <td>0.665921</td>\n      <td>3.208213e+09</td>\n      <td>0.826911</td>\n      <td>0.665510</td>\n    </tr>\n    <tr>\n      <th>min</th>\n      <td>-1.628817</td>\n      <td>NaN</td>\n      <td>-1.110083</td>\n      <td>-1.656116</td>\n      <td>-1.868865</td>\n      <td>-1.659572</td>\n      <td>-1.214197</td>\n      <td>-2.065675</td>\n      <td>-1.781798</td>\n      <td>-0.626220</td>\n      <td>NaN</td>\n      <td>-1.366848</td>\n      <td>-1.066268</td>\n      <td>-1.698241</td>\n      <td>-1.233506</td>\n      <td>-1.069507</td>\n      <td>-1.578201</td>\n      <td>-1.405037</td>\n      <td>-0.670677</td>\n      <td>-0.502589</td>\n      <td>-0.322563</td>\n      <td>-0.430600</td>\n      <td>-0.763943</td>\n      <td>-1.239785</td>\n      <td>-0.963871</td>\n      <td>-0.691720</td>\n      <td>-0.779695</td>\n      <td>-0.619845</td>\n      <td>-5.755055e-01</td>\n      <td>-0.510629</td>\n      <td>-0.583718</td>\n    </tr>\n    <tr>\n      <th>25%</th>\n      <td>-0.777936</td>\n      <td>NaN</td>\n      <td>-0.924450</td>\n      <td>-1.114700</td>\n      <td>-1.288612</td>\n      <td>-0.855905</td>\n      <td>-0.327922</td>\n      <td>-0.334662</td>\n      <td>-1.092594</td>\n      <td>-0.578641</td>\n      <td>NaN</td>\n      <td>-0.922513</td>\n      <td>-0.887815</td>\n      <td>-1.128365</td>\n      <td>-0.827804</td>\n      <td>-0.882233</td>\n      <td>-0.612940</td>\n      <td>-0.787988</td>\n      <td>-0.603973</td>\n      <td>-0.469150</td>\n      <td>-0.317450</td>\n      <td>-0.412109</td>\n      <td>-0.674979</td>\n      <td>-0.877624</td>\n      <td>-0.818664</td>\n      <td>-0.644005</td>\n      <td>-0.706643</td>\n      <td>-0.562921</td>\n      <td>4.391375e+07</td>\n      <td>-0.488055</td>\n      <td>-0.542446</td>\n    </tr>\n    <tr>\n      <th>50%</th>\n      <td>0.029002</td>\n      <td>NaN</td>\n      <td>-0.553185</td>\n      <td>-0.585422</td>\n      <td>-0.673917</td>\n      <td>-0.052238</td>\n      <td>-0.327922</td>\n      <td>0.242342</td>\n      <td>-0.178069</td>\n      <td>-0.472764</td>\n      <td>NaN</td>\n      <td>-0.508895</td>\n      <td>-0.701427</td>\n      <td>-0.646331</td>\n      <td>-0.423371</td>\n      <td>-0.513464</td>\n      <td>-0.226836</td>\n      <td>-0.154262</td>\n      <td>-0.495241</td>\n      <td>-0.395110</td>\n      <td>-0.296995</td>\n      <td>-0.365065</td>\n      <td>-0.556214</td>\n      <td>-0.384698</td>\n      <td>-0.634625</td>\n      <td>-0.537222</td>\n      <td>-0.558366</td>\n      <td>-0.450629</td>\n      <td>2.050154e+08</td>\n      <td>-0.424894</td>\n      <td>-0.448320</td>\n    </tr>\n    <tr>\n      <th>75%</th>\n      <td>1.088608</td>\n      <td>NaN</td>\n      <td>0.189345</td>\n      <td>-0.011496</td>\n      <td>-0.045349</td>\n      <td>0.751428</td>\n      <td>0.558354</td>\n      <td>0.819346</td>\n      <td>0.781618</td>\n      <td>-0.206126</td>\n      <td>NaN</td>\n      <td>0.191935</td>\n      <td>-0.260965</td>\n      <td>-0.086969</td>\n      <td>0.185499</td>\n      <td>0.078693</td>\n      <td>0.641898</td>\n      <td>0.387740</td>\n      <td>-0.290306</td>\n      <td>-0.217853</td>\n      <td>-0.196703</td>\n      <td>-0.215241</td>\n      <td>-0.277654</td>\n      <td>0.452358</td>\n      <td>-0.253436</td>\n      <td>-0.269782</td>\n      <td>-0.305423</td>\n      <td>-0.189786</td>\n      <td>1.139160e+09</td>\n      <td>-0.254161</td>\n      <td>-0.202337</td>\n    </tr>\n    <tr>\n      <th>max</th>\n      <td>1.946479</td>\n      <td>NaN</td>\n      <td>1.674406</td>\n      <td>1.116417</td>\n      <td>1.171605</td>\n      <td>1.555095</td>\n      <td>1.444629</td>\n      <td>4.281371</td>\n      <td>1.627838</td>\n      <td>4.837588</td>\n      <td>NaN</td>\n      <td>3.281885</td>\n      <td>2.076381</td>\n      <td>1.406161</td>\n      <td>3.586827</td>\n      <td>4.623426</td>\n      <td>2.861997</td>\n      <td>3.464646</td>\n      <td>2.566675</td>\n      <td>6.787371</td>\n      <td>7.132319</td>\n      <td>12.079050</td>\n      <td>3.742925</td>\n      <td>4.060535</td>\n      <td>3.583792</td>\n      <td>5.459429</td>\n      <td>4.653918</td>\n      <td>3.963474</td>\n      <td>2.295402e+10</td>\n      <td>10.138849</td>\n      <td>5.428708</td>\n    </tr>\n  </tbody>\n</table>\n</div>"
          },
          "metadata": {}
        }
      ]
    },
    {
      "metadata": {
        "trusted": true,
        "_uuid": "d741693d481af8df297ba7ac39335b9c14898af6"
      },
      "cell_type": "code",
      "source": "output = test6[test6[\"scale\"] < -0.578641]\noutput =  output[output[\"flip_y\"] < -1.092594]\noutput =  output[output[\"final\"] < -0.542446]\n#output =  output[output[\"AllwithClass\"] < -0.675903]\noutput #4,39,180,286,408,426,435",
      "execution_count": 12,
      "outputs": [
        {
          "output_type": "execute_result",
          "execution_count": 12,
          "data": {
            "text/plain": "     max_iter  random_state    ...     m1flipDjob     final\n15  -1.628817           NaN    ...      -0.510192 -0.579748\n20  -1.189395           NaN    ...      -0.510607 -0.580092\n37  -0.981668           NaN    ...      -0.508122 -0.571522\n43   1.606926           NaN    ...      -0.505754 -0.567574\n54  -1.245322           NaN    ...      -0.509423 -0.570855\n65  -0.941721           NaN    ...      -0.508264 -0.567652\n86   0.847924           NaN    ...      -0.506575 -0.563128\n87  -0.270604           NaN    ...      -0.506878 -0.571802\n100 -0.110814           NaN    ...      -0.506251 -0.568461\n107 -1.025611           NaN    ...      -0.504901 -0.547564\n111 -0.130788           NaN    ...      -0.509842 -0.566689\n112 -0.777936           NaN    ...      -0.508023 -0.568873\n113  0.508371           NaN    ...      -0.504760 -0.560036\n143 -0.258620           NaN    ...      -0.504736 -0.564303\n150  0.001039           NaN    ...      -0.506082 -0.566786\n154 -1.157437           NaN    ...      -0.501905 -0.559212\n163 -1.225348           NaN    ...      -0.510229 -0.580169\n188  1.083614           NaN    ...      -0.506106 -0.565723\n230  0.172813           NaN    ...      -0.510060 -0.577393\n293 -0.354494           NaN    ...      -0.505541 -0.543645\n296 -0.678068           NaN    ...      -0.507809 -0.576024\n305 -1.009632           NaN    ...      -0.508824 -0.556372\n328 -1.481011           NaN    ...      -0.509936 -0.580230\n343 -1.445059           NaN    ...      -0.507819 -0.554595\n348  1.630894           NaN    ...      -0.502361 -0.557060\n349 -1.417096           NaN    ...      -0.508821 -0.563362\n408 -1.217358           NaN    ...      -0.507726 -0.572154\n419 -0.853837           NaN    ...      -0.506528 -0.571368\n430  1.926505           NaN    ...      -0.504474 -0.567053\n\n[29 rows x 31 columns]",
            "text/html": "<div>\n<style scoped>\n    .dataframe tbody tr th:only-of-type {\n        vertical-align: middle;\n    }\n\n    .dataframe tbody tr th {\n        vertical-align: top;\n    }\n\n    .dataframe thead th {\n        text-align: right;\n    }\n</style>\n<table border=\"1\" class=\"dataframe\">\n  <thead>\n    <tr style=\"text-align: right;\">\n      <th></th>\n      <th>max_iter</th>\n      <th>random_state</th>\n      <th>n_jobs</th>\n      <th>n_samples</th>\n      <th>n_features</th>\n      <th>n_classes</th>\n      <th>n_clusters_per_class</th>\n      <th>n_informative</th>\n      <th>flip_y</th>\n      <th>scale</th>\n      <th>time</th>\n      <th>n1</th>\n      <th>WithFeature</th>\n      <th>featureInfo</th>\n      <th>WithInfo</th>\n      <th>Withflip</th>\n      <th>total clusters</th>\n      <th>clusterInfo</th>\n      <th>All</th>\n      <th>AllDjob</th>\n      <th>AllDDjob</th>\n      <th>AllwithFlip</th>\n      <th>AllwithClass m1</th>\n      <th>flipwithcluster</th>\n      <th>WithfeatureInfo</th>\n      <th>m1flip</th>\n      <th>WithfeatureInfoMflip</th>\n      <th>WithfeatureInfoDjob</th>\n      <th>x2</th>\n      <th>m1flipDjob</th>\n      <th>final</th>\n    </tr>\n  </thead>\n  <tbody>\n    <tr>\n      <th>15</th>\n      <td>-1.628817</td>\n      <td>NaN</td>\n      <td>-0.924450</td>\n      <td>-1.637043</td>\n      <td>-0.982939</td>\n      <td>-1.257738</td>\n      <td>-0.327922</td>\n      <td>-0.334662</td>\n      <td>-1.582918</td>\n      <td>-0.621504</td>\n      <td>NaN</td>\n      <td>-1.366848</td>\n      <td>-1.058973</td>\n      <td>-0.929931</td>\n      <td>-1.233506</td>\n      <td>-1.067074</td>\n      <td>-1.095571</td>\n      <td>-0.938081</td>\n      <td>-0.670576</td>\n      <td>-0.499702</td>\n      <td>-0.320910</td>\n      <td>-0.430283</td>\n      <td>-0.763802</td>\n      <td>-1.179085</td>\n      <td>-0.957413</td>\n      <td>-0.691342</td>\n      <td>-0.778846</td>\n      <td>-0.610127</td>\n      <td>2.583589e+07</td>\n      <td>-0.510192</td>\n      <td>-0.579748</td>\n    </tr>\n    <tr>\n      <th>20</th>\n      <td>-1.189395</td>\n      <td>NaN</td>\n      <td>-0.553185</td>\n      <td>-1.444578</td>\n      <td>-1.757885</td>\n      <td>-0.052238</td>\n      <td>0.558354</td>\n      <td>-0.334662</td>\n      <td>-1.754637</td>\n      <td>-0.620341</td>\n      <td>NaN</td>\n      <td>-1.266914</td>\n      <td>-1.059918</td>\n      <td>-1.610494</td>\n      <td>-1.151272</td>\n      <td>-1.068236</td>\n      <td>0.352320</td>\n      <td>0.062539</td>\n      <td>-0.666627</td>\n      <td>-0.498941</td>\n      <td>-0.321555</td>\n      <td>-0.430561</td>\n      <td>-0.760618</td>\n      <td>-1.216702</td>\n      <td>-0.958182</td>\n      <td>-0.691647</td>\n      <td>-0.779694</td>\n      <td>-0.615603</td>\n      <td>5.967482e+06</td>\n      <td>-0.510607</td>\n      <td>-0.580092</td>\n    </tr>\n    <tr>\n      <th>37</th>\n      <td>-0.981668</td>\n      <td>NaN</td>\n      <td>0.189345</td>\n      <td>-0.785690</td>\n      <td>-1.065217</td>\n      <td>-1.257738</td>\n      <td>0.558354</td>\n      <td>-0.911667</td>\n      <td>-1.405316</td>\n      <td>-0.609329</td>\n      <td>NaN</td>\n      <td>-0.954051</td>\n      <td>-0.911137</td>\n      <td>-1.097013</td>\n      <td>-0.939599</td>\n      <td>-0.994751</td>\n      <td>-0.419888</td>\n      <td>-0.838019</td>\n      <td>-0.619116</td>\n      <td>-0.486510</td>\n      <td>-0.320483</td>\n      <td>-0.427426</td>\n      <td>-0.725147</td>\n      <td>-1.035768</td>\n      <td>-0.853401</td>\n      <td>-0.682911</td>\n      <td>-0.758986</td>\n      <td>-0.591571</td>\n      <td>1.823538e+07</td>\n      <td>-0.508122</td>\n      <td>-0.571522</td>\n    </tr>\n    <tr>\n      <th>43</th>\n      <td>1.606926</td>\n      <td>NaN</td>\n      <td>1.674406</td>\n      <td>-1.259049</td>\n      <td>-0.537105</td>\n      <td>-1.257738</td>\n      <td>-0.327922</td>\n      <td>-0.911667</td>\n      <td>-1.226672</td>\n      <td>-0.601712</td>\n      <td>NaN</td>\n      <td>-0.561462</td>\n      <td>-0.612519</td>\n      <td>-0.819435</td>\n      <td>-0.656976</td>\n      <td>-0.861490</td>\n      <td>-1.095571</td>\n      <td>-1.013127</td>\n      <td>-0.593464</td>\n      <td>-0.490846</td>\n      <td>-0.321813</td>\n      <td>-0.427155</td>\n      <td>-0.656451</td>\n      <td>-1.070837</td>\n      <td>-0.668553</td>\n      <td>-0.657632</td>\n      <td>-0.699439</td>\n      <td>-0.582667</td>\n      <td>1.194327e+07</td>\n      <td>-0.505754</td>\n      <td>-0.567574</td>\n    </tr>\n    <tr>\n      <th>54</th>\n      <td>-1.245322</td>\n      <td>NaN</td>\n      <td>0.189345</td>\n      <td>-0.725003</td>\n      <td>-1.285263</td>\n      <td>-1.257738</td>\n      <td>0.558354</td>\n      <td>0.242342</td>\n      <td>-1.607538</td>\n      <td>-0.615995</td>\n      <td>NaN</td>\n      <td>-0.933890</td>\n      <td>-0.971683</td>\n      <td>-1.092234</td>\n      <td>-0.932674</td>\n      <td>-1.033377</td>\n      <td>-0.419888</td>\n      <td>-0.637895</td>\n      <td>-0.616279</td>\n      <td>-0.485647</td>\n      <td>-0.320372</td>\n      <td>-0.429057</td>\n      <td>-0.722925</td>\n      <td>-1.145007</td>\n      <td>-0.847423</td>\n      <td>-0.687427</td>\n      <td>-0.769624</td>\n      <td>-0.590066</td>\n      <td>1.919062e+07</td>\n      <td>-0.509423</td>\n      <td>-0.570855</td>\n    </tr>\n    <tr>\n      <th>65</th>\n      <td>-0.941721</td>\n      <td>NaN</td>\n      <td>0.189345</td>\n      <td>-0.803029</td>\n      <td>-1.474695</td>\n      <td>-0.454072</td>\n      <td>-0.327922</td>\n      <td>0.242342</td>\n      <td>-1.509603</td>\n      <td>-0.609080</td>\n      <td>NaN</td>\n      <td>-0.944936</td>\n      <td>-0.973884</td>\n      <td>-1.262566</td>\n      <td>-0.839702</td>\n      <td>-1.014373</td>\n      <td>-0.516414</td>\n      <td>-0.412756</td>\n      <td>-0.633554</td>\n      <td>-0.490902</td>\n      <td>-0.321044</td>\n      <td>-0.428924</td>\n      <td>-0.712262</td>\n      <td>-1.101347</td>\n      <td>-0.878246</td>\n      <td>-0.683405</td>\n      <td>-0.768019</td>\n      <td>-0.597827</td>\n      <td>1.426536e+07</td>\n      <td>-0.508264</td>\n      <td>-0.567652</td>\n    </tr>\n    <tr>\n      <th>86</th>\n      <td>0.847924</td>\n      <td>NaN</td>\n      <td>1.674406</td>\n      <td>-0.751011</td>\n      <td>-0.826036</td>\n      <td>-1.659572</td>\n      <td>1.444629</td>\n      <td>0.819346</td>\n      <td>-1.417261</td>\n      <td>-0.606484</td>\n      <td>NaN</td>\n      <td>-0.145230</td>\n      <td>-0.513102</td>\n      <td>-0.554091</td>\n      <td>0.029399</td>\n      <td>-0.864700</td>\n      <td>-0.999045</td>\n      <td>-0.704603</td>\n      <td>-0.504814</td>\n      <td>-0.477362</td>\n      <td>-0.320951</td>\n      <td>-0.425809</td>\n      <td>-0.626845</td>\n      <td>-1.116388</td>\n      <td>-0.399574</td>\n      <td>-0.663335</td>\n      <td>-0.679395</td>\n      <td>-0.548805</td>\n      <td>2.268865e+07</td>\n      <td>-0.506575</td>\n      <td>-0.563128</td>\n    </tr>\n    <tr>\n      <th>87</th>\n      <td>-0.270604</td>\n      <td>NaN</td>\n      <td>1.674406</td>\n      <td>-1.194894</td>\n      <td>-0.127627</td>\n      <td>-1.257738</td>\n      <td>-0.327922</td>\n      <td>-0.911667</td>\n      <td>-1.208216</td>\n      <td>-0.609717</td>\n      <td>NaN</td>\n      <td>-0.946781</td>\n      <td>-0.757936</td>\n      <td>-0.441301</td>\n      <td>-0.934366</td>\n      <td>-0.953688</td>\n      <td>-1.095571</td>\n      <td>-1.013127</td>\n      <td>-0.613686</td>\n      <td>-0.493921</td>\n      <td>-0.322009</td>\n      <td>-0.427947</td>\n      <td>-0.684603</td>\n      <td>-1.065229</td>\n      <td>-0.744306</td>\n      <td>-0.665434</td>\n      <td>-0.717817</td>\n      <td>-0.592203</td>\n      <td>8.917060e+06</td>\n      <td>-0.506878</td>\n      <td>-0.571802</td>\n    </tr>\n    <tr>\n      <th>100</th>\n      <td>-0.110814</td>\n      <td>NaN</td>\n      <td>1.674406</td>\n      <td>1.116417</td>\n      <td>-1.830596</td>\n      <td>-0.052238</td>\n      <td>-0.327922</td>\n      <td>0.242342</td>\n      <td>-1.254884</td>\n      <td>-0.604711</td>\n      <td>NaN</td>\n      <td>0.350112</td>\n      <td>-0.916888</td>\n      <td>-1.582584</td>\n      <td>0.221371</td>\n      <td>-0.656611</td>\n      <td>-0.226836</td>\n      <td>-0.187616</td>\n      <td>-0.597705</td>\n      <td>-0.491491</td>\n      <td>-0.321854</td>\n      <td>-0.427505</td>\n      <td>-0.662355</td>\n      <td>-0.918820</td>\n      <td>-0.825979</td>\n      <td>-0.661083</td>\n      <td>-0.743696</td>\n      <td>-0.602485</td>\n      <td>5.654325e+06</td>\n      <td>-0.506251</td>\n      <td>-0.568461</td>\n    </tr>\n    <tr>\n      <th>107</th>\n      <td>-1.025611</td>\n      <td>NaN</td>\n      <td>1.674406</td>\n      <td>-1.550347</td>\n      <td>-0.257742</td>\n      <td>-0.052238</td>\n      <td>0.558354</td>\n      <td>1.396350</td>\n      <td>-1.486349</td>\n      <td>-0.618848</td>\n      <td>NaN</td>\n      <td>-0.944897</td>\n      <td>-0.777613</td>\n      <td>0.195675</td>\n      <td>-0.746323</td>\n      <td>-1.009649</td>\n      <td>0.352320</td>\n      <td>0.262663</td>\n      <td>-0.439250</td>\n      <td>-0.467391</td>\n      <td>-0.320314</td>\n      <td>-0.425198</td>\n      <td>-0.523211</td>\n      <td>-0.999312</td>\n      <td>-0.638775</td>\n      <td>-0.651715</td>\n      <td>-0.732662</td>\n      <td>-0.578918</td>\n      <td>1.313288e+07</td>\n      <td>-0.504901</td>\n      <td>-0.547564</td>\n    </tr>\n    <tr>\n      <th>111</th>\n      <td>-0.130788</td>\n      <td>NaN</td>\n      <td>-0.553185</td>\n      <td>-1.392561</td>\n      <td>-1.155149</td>\n      <td>-1.659572</td>\n      <td>0.558354</td>\n      <td>-0.334662</td>\n      <td>-1.694226</td>\n      <td>-0.610785</td>\n      <td>NaN</td>\n      <td>-0.951470</td>\n      <td>-0.961118</td>\n      <td>-1.076749</td>\n      <td>-0.983613</td>\n      <td>-1.052098</td>\n      <td>-1.192097</td>\n      <td>-1.405037</td>\n      <td>-0.645259</td>\n      <td>-0.485941</td>\n      <td>-0.318231</td>\n      <td>-0.429841</td>\n      <td>-0.738307</td>\n      <td>-1.215917</td>\n      <td>-0.849459</td>\n      <td>-0.690318</td>\n      <td>-0.774740</td>\n      <td>-0.560853</td>\n      <td>7.546108e+07</td>\n      <td>-0.509842</td>\n      <td>-0.566689</td>\n    </tr>\n    <tr>\n      <th>112</th>\n      <td>-0.777936</td>\n      <td>NaN</td>\n      <td>-0.553185</td>\n      <td>-0.603628</td>\n      <td>-1.505310</td>\n      <td>-1.659572</td>\n      <td>0.558354</td>\n      <td>-0.334662</td>\n      <td>-1.458332</td>\n      <td>-0.608324</td>\n      <td>NaN</td>\n      <td>-0.775979</td>\n      <td>-0.944357</td>\n      <td>-1.347445</td>\n      <td>-0.747371</td>\n      <td>-0.979409</td>\n      <td>-1.192097</td>\n      <td>-1.405037</td>\n      <td>-0.648741</td>\n      <td>-0.488059</td>\n      <td>-0.318773</td>\n      <td>-0.428132</td>\n      <td>-0.741942</td>\n      <td>-1.152204</td>\n      <td>-0.864133</td>\n      <td>-0.687164</td>\n      <td>-0.763593</td>\n      <td>-0.568242</td>\n      <td>6.608215e+07</td>\n      <td>-0.508023</td>\n      <td>-0.568873</td>\n    </tr>\n    <tr>\n      <th>113</th>\n      <td>0.508371</td>\n      <td>NaN</td>\n      <td>-0.553185</td>\n      <td>-1.059649</td>\n      <td>-1.794241</td>\n      <td>-0.454072</td>\n      <td>-0.327922</td>\n      <td>-0.334662</td>\n      <td>-1.322465</td>\n      <td>-0.597614</td>\n      <td>NaN</td>\n      <td>-0.609139</td>\n      <td>-0.991392</td>\n      <td>-1.578378</td>\n      <td>-0.610097</td>\n      <td>-0.907183</td>\n      <td>-0.516414</td>\n      <td>-0.204293</td>\n      <td>-0.644307</td>\n      <td>-0.485362</td>\n      <td>-0.318083</td>\n      <td>-0.426455</td>\n      <td>-0.727231</td>\n      <td>-1.006575</td>\n      <td>-0.902413</td>\n      <td>-0.681503</td>\n      <td>-0.765331</td>\n      <td>-0.587519</td>\n      <td>4.161391e+07</td>\n      <td>-0.504760</td>\n      <td>-0.560036</td>\n    </tr>\n    <tr>\n      <th>143</th>\n      <td>-0.258620</td>\n      <td>NaN</td>\n      <td>0.189345</td>\n      <td>-0.378219</td>\n      <td>-1.287177</td>\n      <td>-1.257738</td>\n      <td>-0.327922</td>\n      <td>-1.488671</td>\n      <td>-1.221647</td>\n      <td>-0.594723</td>\n      <td>NaN</td>\n      <td>-0.358195</td>\n      <td>-0.778470</td>\n      <td>-1.331387</td>\n      <td>-0.617654</td>\n      <td>-0.808547</td>\n      <td>-1.095571</td>\n      <td>-1.088174</td>\n      <td>-0.625545</td>\n      <td>-0.488466</td>\n      <td>-0.320733</td>\n      <td>-0.426438</td>\n      <td>-0.701111</td>\n      <td>-1.069311</td>\n      <td>-0.788727</td>\n      <td>-0.671165</td>\n      <td>-0.731317</td>\n      <td>-0.575287</td>\n      <td>2.857002e+07</td>\n      <td>-0.504736</td>\n      <td>-0.564303</td>\n    </tr>\n    <tr>\n      <th>150</th>\n      <td>0.001039</td>\n      <td>NaN</td>\n      <td>1.674406</td>\n      <td>-0.542941</td>\n      <td>-1.799981</td>\n      <td>0.751428</td>\n      <td>-0.327922</td>\n      <td>1.396350</td>\n      <td>-1.287250</td>\n      <td>-0.611570</td>\n      <td>NaN</td>\n      <td>-0.341861</td>\n      <td>-0.966468</td>\n      <td>-1.499234</td>\n      <td>-0.064130</td>\n      <td>-0.835449</td>\n      <td>0.352320</td>\n      <td>0.262663</td>\n      <td>-0.589692</td>\n      <td>-0.490272</td>\n      <td>-0.321776</td>\n      <td>-0.427386</td>\n      <td>-0.651200</td>\n      <td>-0.837986</td>\n      <td>-0.850108</td>\n      <td>-0.659908</td>\n      <td>-0.751690</td>\n      <td>-0.605523</td>\n      <td>4.690390e+06</td>\n      <td>-0.506082</td>\n      <td>-0.566786</td>\n    </tr>\n    <tr>\n      <th>154</th>\n      <td>-1.157437</td>\n      <td>NaN</td>\n      <td>1.674406</td>\n      <td>-0.900128</td>\n      <td>-0.826036</td>\n      <td>1.555095</td>\n      <td>1.444629</td>\n      <td>0.242342</td>\n      <td>-1.122260</td>\n      <td>-0.599988</td>\n      <td>NaN</td>\n      <td>-1.068538</td>\n      <td>-0.924332</td>\n      <td>-0.679308</td>\n      <td>-0.954106</td>\n      <td>-0.972314</td>\n      <td>2.861997</td>\n      <td>2.213871</td>\n      <td>-0.473592</td>\n      <td>-0.472614</td>\n      <td>-0.320647</td>\n      <td>-0.420323</td>\n      <td>-0.600766</td>\n      <td>-0.123952</td>\n      <td>-0.832878</td>\n      <td>-0.630922</td>\n      <td>-0.736832</td>\n      <td>-0.603354</td>\n      <td>5.378727e+06</td>\n      <td>-0.501905</td>\n      <td>-0.559212</td>\n    </tr>\n    <tr>\n      <th>163</th>\n      <td>-1.225348</td>\n      <td>NaN</td>\n      <td>1.674406</td>\n      <td>-1.541677</td>\n      <td>-0.542845</td>\n      <td>-0.052238</td>\n      <td>0.558354</td>\n      <td>-0.911667</td>\n      <td>-1.579230</td>\n      <td>-0.621298</td>\n      <td>NaN</td>\n      <td>-1.304459</td>\n      <td>-1.019850</td>\n      <td>-0.731688</td>\n      <td>-1.191760</td>\n      <td>-1.061325</td>\n      <td>0.352320</td>\n      <td>-0.137585</td>\n      <td>-0.647184</td>\n      <td>-0.499016</td>\n      <td>-0.322335</td>\n      <td>-0.430205</td>\n      <td>-0.740316</td>\n      <td>-1.074572</td>\n      <td>-0.930869</td>\n      <td>-0.688689</td>\n      <td>-0.776210</td>\n      <td>-0.615690</td>\n      <td>1.464112e+06</td>\n      <td>-0.510229</td>\n      <td>-0.580169</td>\n    </tr>\n    <tr>\n      <th>188</th>\n      <td>1.083614</td>\n      <td>NaN</td>\n      <td>1.674406</td>\n      <td>-1.295461</td>\n      <td>0.201486</td>\n      <td>-1.257738</td>\n      <td>1.444629</td>\n      <td>-1.488671</td>\n      <td>-1.318135</td>\n      <td>-0.597017</td>\n      <td>NaN</td>\n      <td>-0.727367</td>\n      <td>-0.527236</td>\n      <td>-0.439007</td>\n      <td>-0.845454</td>\n      <td>-0.930253</td>\n      <td>-0.516414</td>\n      <td>-0.787988</td>\n      <td>-0.525498</td>\n      <td>-0.480508</td>\n      <td>-0.321152</td>\n      <td>-0.425257</td>\n      <td>-0.644122</td>\n      <td>-1.004382</td>\n      <td>-0.635379</td>\n      <td>-0.660074</td>\n      <td>-0.705191</td>\n      <td>-0.578490</td>\n      <td>1.326856e+07</td>\n      <td>-0.506106</td>\n      <td>-0.565723</td>\n    </tr>\n    <tr>\n      <th>230</th>\n      <td>0.172813</td>\n      <td>NaN</td>\n      <td>1.674406</td>\n      <td>-1.505265</td>\n      <td>-1.237427</td>\n      <td>-0.052238</td>\n      <td>0.558354</td>\n      <td>-0.911667</td>\n      <td>-1.615254</td>\n      <td>-0.617460</td>\n      <td>NaN</td>\n      <td>-1.109953</td>\n      <td>-0.984994</td>\n      <td>-1.217450</td>\n      <td>-1.051832</td>\n      <td>-1.048219</td>\n      <td>0.352320</td>\n      <td>-0.137585</td>\n      <td>-0.629477</td>\n      <td>-0.496323</td>\n      <td>-0.322163</td>\n      <td>-0.430046</td>\n      <td>-0.721829</td>\n      <td>-1.103763</td>\n      <td>-0.905996</td>\n      <td>-0.687515</td>\n      <td>-0.774828</td>\n      <td>-0.612559</td>\n      <td>2.457767e+06</td>\n      <td>-0.510060</td>\n      <td>-0.577393</td>\n    </tr>\n    <tr>\n      <th>293</th>\n      <td>-0.354494</td>\n      <td>NaN</td>\n      <td>1.674406</td>\n      <td>-0.870652</td>\n      <td>-0.933189</td>\n      <td>1.153262</td>\n      <td>-1.214197</td>\n      <td>0.242342</td>\n      <td>-1.544767</td>\n      <td>-0.583218</td>\n      <td>NaN</td>\n      <td>-0.748244</td>\n      <td>-0.806447</td>\n      <td>-0.775657</td>\n      <td>-0.657649</td>\n      <td>-1.000520</td>\n      <td>-0.226836</td>\n      <td>-0.187616</td>\n      <td>-0.543763</td>\n      <td>-0.483286</td>\n      <td>-0.321329</td>\n      <td>-0.428210</td>\n      <td>-0.497110</td>\n      <td>-1.094986</td>\n      <td>-0.724945</td>\n      <td>-0.656154</td>\n      <td>-0.751868</td>\n      <td>-0.589766</td>\n      <td>9.690486e+06</td>\n      <td>-0.505541</td>\n      <td>-0.543645</td>\n    </tr>\n    <tr>\n      <th>296</th>\n      <td>-0.678068</td>\n      <td>NaN</td>\n      <td>1.674406</td>\n      <td>0.039655</td>\n      <td>-1.415378</td>\n      <td>-1.257738</td>\n      <td>0.558354</td>\n      <td>-1.488671</td>\n      <td>-1.126859</td>\n      <td>-0.613663</td>\n      <td>NaN</td>\n      <td>-0.374094</td>\n      <td>-0.753812</td>\n      <td>-1.408237</td>\n      <td>-0.627465</td>\n      <td>-0.769109</td>\n      <td>-0.419888</td>\n      <td>-0.938081</td>\n      <td>-0.603241</td>\n      <td>-0.492333</td>\n      <td>-0.321908</td>\n      <td>-0.427034</td>\n      <td>-0.712716</td>\n      <td>-0.885348</td>\n      <td>-0.819951</td>\n      <td>-0.671894</td>\n      <td>-0.733033</td>\n      <td>-0.601727</td>\n      <td>5.895118e+06</td>\n      <td>-0.507809</td>\n      <td>-0.576024</td>\n    </tr>\n    <tr>\n      <th>305</th>\n      <td>-1.009632</td>\n      <td>NaN</td>\n      <td>0.189345</td>\n      <td>-0.204828</td>\n      <td>-0.540932</td>\n      <td>-1.659572</td>\n      <td>0.558354</td>\n      <td>0.819346</td>\n      <td>-1.658300</td>\n      <td>-0.599933</td>\n      <td>NaN</td>\n      <td>-0.724886</td>\n      <td>-0.703003</td>\n      <td>-0.269249</td>\n      <td>-0.566731</td>\n      <td>-1.032238</td>\n      <td>-1.192097</td>\n      <td>-0.871373</td>\n      <td>-0.584347</td>\n      <td>-0.475934</td>\n      <td>-0.319131</td>\n      <td>-0.428885</td>\n      <td>-0.674708</td>\n      <td>-1.206214</td>\n      <td>-0.592760</td>\n      <td>-0.685350</td>\n      <td>-0.757183</td>\n      <td>-0.525946</td>\n      <td>5.988444e+07</td>\n      <td>-0.508824</td>\n      <td>-0.556372</td>\n    </tr>\n    <tr>\n      <th>328</th>\n      <td>-1.481011</td>\n      <td>NaN</td>\n      <td>-0.553185</td>\n      <td>-0.272450</td>\n      <td>-1.863125</td>\n      <td>-1.257738</td>\n      <td>-1.214197</td>\n      <td>-2.065675</td>\n      <td>-1.438997</td>\n      <td>-0.621043</td>\n      <td>NaN</td>\n      <td>-0.936797</td>\n      <td>-1.044464</td>\n      <td>-1.698241</td>\n      <td>-1.079519</td>\n      <td>-0.998792</td>\n      <td>-1.385149</td>\n      <td>-1.288298</td>\n      <td>-0.670061</td>\n      <td>-0.501029</td>\n      <td>-0.322089</td>\n      <td>-0.430275</td>\n      <td>-0.760848</td>\n      <td>-1.170236</td>\n      <td>-0.949465</td>\n      <td>-0.690482</td>\n      <td>-0.776821</td>\n      <td>-0.611213</td>\n      <td>1.153937e+07</td>\n      <td>-0.509936</td>\n      <td>-0.580230</td>\n    </tr>\n    <tr>\n      <th>343</th>\n      <td>-1.445059</td>\n      <td>NaN</td>\n      <td>-0.924450</td>\n      <td>-0.352210</td>\n      <td>-1.750231</td>\n      <td>-0.855905</td>\n      <td>0.558354</td>\n      <td>0.242342</td>\n      <td>-1.601750</td>\n      <td>-0.602672</td>\n      <td>NaN</td>\n      <td>-0.933374</td>\n      <td>-1.030005</td>\n      <td>-1.510321</td>\n      <td>-0.932197</td>\n      <td>-1.032132</td>\n      <td>-0.419888</td>\n      <td>-0.337709</td>\n      <td>-0.649625</td>\n      <td>-0.474210</td>\n      <td>-0.307877</td>\n      <td>-0.427940</td>\n      <td>-0.742866</td>\n      <td>-1.141880</td>\n      <td>-0.917689</td>\n      <td>-0.689283</td>\n      <td>-0.775453</td>\n      <td>-0.570119</td>\n      <td>1.274004e+08</td>\n      <td>-0.507819</td>\n      <td>-0.554595</td>\n    </tr>\n    <tr>\n      <th>348</th>\n      <td>1.630894</td>\n      <td>NaN</td>\n      <td>-0.924450</td>\n      <td>-1.498329</td>\n      <td>-1.648819</td>\n      <td>-1.257738</td>\n      <td>-1.214197</td>\n      <td>-0.334662</td>\n      <td>-1.206283</td>\n      <td>-0.594007</td>\n      <td>NaN</td>\n      <td>-0.909456</td>\n      <td>-0.996535</td>\n      <td>-1.462147</td>\n      <td>-0.857179</td>\n      <td>-0.943665</td>\n      <td>-1.385149</td>\n      <td>-1.138205</td>\n      <td>-0.662432</td>\n      <td>-0.489792</td>\n      <td>-0.315844</td>\n      <td>-0.426716</td>\n      <td>-0.744917</td>\n      <td>-1.123095</td>\n      <td>-0.906599</td>\n      <td>-0.684549</td>\n      <td>-0.762844</td>\n      <td>-0.558950</td>\n      <td>1.557543e+08</td>\n      <td>-0.502361</td>\n      <td>-0.557060</td>\n    </tr>\n    <tr>\n      <th>349</th>\n      <td>-1.417096</td>\n      <td>NaN</td>\n      <td>1.674406</td>\n      <td>-0.702462</td>\n      <td>-0.116146</td>\n      <td>0.349595</td>\n      <td>0.558354</td>\n      <td>-0.334662</td>\n      <td>-1.616145</td>\n      <td>-0.601645</td>\n      <td>NaN</td>\n      <td>-1.116079</td>\n      <td>-0.874214</td>\n      <td>-0.237132</td>\n      <td>-1.027061</td>\n      <td>-1.048792</td>\n      <td>0.738424</td>\n      <td>0.329371</td>\n      <td>-0.539995</td>\n      <td>-0.482713</td>\n      <td>-0.321293</td>\n      <td>-0.428882</td>\n      <td>-0.628400</td>\n      <td>-1.081898</td>\n      <td>-0.807042</td>\n      <td>-0.678917</td>\n      <td>-0.766862</td>\n      <td>-0.600101</td>\n      <td>6.410825e+06</td>\n      <td>-0.508821</td>\n      <td>-0.563362</td>\n    </tr>\n    <tr>\n      <th>408</th>\n      <td>-1.217358</td>\n      <td>NaN</td>\n      <td>-0.924450</td>\n      <td>-1.454982</td>\n      <td>-1.639251</td>\n      <td>-0.052238</td>\n      <td>0.558354</td>\n      <td>-0.911667</td>\n      <td>-1.323775</td>\n      <td>-0.609888</td>\n      <td>NaN</td>\n      <td>-1.276987</td>\n      <td>-1.052352</td>\n      <td>-1.498469</td>\n      <td>-1.172079</td>\n      <td>-1.044911</td>\n      <td>0.352320</td>\n      <td>-0.137585</td>\n      <td>-0.663623</td>\n      <td>-0.491241</td>\n      <td>-0.316584</td>\n      <td>-0.427852</td>\n      <td>-0.757480</td>\n      <td>-0.867581</td>\n      <td>-0.953962</td>\n      <td>-0.689202</td>\n      <td>-0.776815</td>\n      <td>-0.606650</td>\n      <td>3.466152e+07</td>\n      <td>-0.507726</td>\n      <td>-0.572154</td>\n    </tr>\n    <tr>\n      <th>419</th>\n      <td>-0.853837</td>\n      <td>NaN</td>\n      <td>-0.924450</td>\n      <td>-1.108198</td>\n      <td>-1.767452</td>\n      <td>-1.659572</td>\n      <td>1.444629</td>\n      <td>0.819346</td>\n      <td>-1.176349</td>\n      <td>-0.615766</td>\n      <td>NaN</td>\n      <td>-1.014598</td>\n      <td>-1.039263</td>\n      <td>-1.494646</td>\n      <td>-0.864676</td>\n      <td>-0.965658</td>\n      <td>-0.999045</td>\n      <td>-0.704603</td>\n      <td>-0.660427</td>\n      <td>-0.487353</td>\n      <td>-0.314596</td>\n      <td>-0.425754</td>\n      <td>-0.756826</td>\n      <td>-1.035052</td>\n      <td>-0.924208</td>\n      <td>-0.688163</td>\n      <td>-0.767126</td>\n      <td>-0.576684</td>\n      <td>1.107339e+08</td>\n      <td>-0.506528</td>\n      <td>-0.571368</td>\n    </tr>\n    <tr>\n      <th>430</th>\n      <td>1.926505</td>\n      <td>NaN</td>\n      <td>0.189345</td>\n      <td>-0.933073</td>\n      <td>-1.685174</td>\n      <td>-0.855905</td>\n      <td>0.558354</td>\n      <td>-0.334662</td>\n      <td>-1.103062</td>\n      <td>-0.597548</td>\n      <td>NaN</td>\n      <td>0.032254</td>\n      <td>-0.870954</td>\n      <td>-1.582966</td>\n      <td>-0.082400</td>\n      <td>-0.634581</td>\n      <td>-0.419888</td>\n      <td>-0.137585</td>\n      <td>-0.618404</td>\n      <td>-0.486294</td>\n      <td>-0.320455</td>\n      <td>-0.424797</td>\n      <td>-0.710267</td>\n      <td>-0.872494</td>\n      <td>-0.851902</td>\n      <td>-0.670255</td>\n      <td>-0.741835</td>\n      <td>-0.591194</td>\n      <td>1.847487e+07</td>\n      <td>-0.504474</td>\n      <td>-0.567053</td>\n    </tr>\n  </tbody>\n</table>\n</div>"
          },
          "metadata": {}
        }
      ]
    },
    {
      "metadata": {
        "trusted": true,
        "_uuid": "0e947f0c3264d5e38aad6c52437f9501c017caf2"
      },
      "cell_type": "code",
      "source": "# newdf1v2 = df1.select_dtypes(include=numerics)\n# test2 = (newdfv2.mean() - newdf1v2)/newdfv2.std(ddof=0)\n# del test2[\"time\"]\n# test2 = test2.join(pen1)",
      "execution_count": 13,
      "outputs": []
    },
    {
      "metadata": {
        "trusted": true,
        "_uuid": "c529120047184890808ae35184968698cc45ebde"
      },
      "cell_type": "code",
      "source": "#train.describe(include=[np.number])  \n",
      "execution_count": 14,
      "outputs": []
    },
    {
      "metadata": {
        "trusted": true,
        "_uuid": "a373891b158b5bdcd233fee759465f7bbfcc0a26"
      },
      "cell_type": "code",
      "source": "#test.describe(include=[np.number])",
      "execution_count": 15,
      "outputs": []
    },
    {
      "metadata": {
        "trusted": true,
        "_uuid": "eda6988ef67d01e238616267b20533137e33cfda"
      },
      "cell_type": "code",
      "source": "",
      "execution_count": null,
      "outputs": []
    },
    {
      "metadata": {
        "trusted": true,
        "_uuid": "0e891809afedab0956000c1cd669105d2439003a"
      },
      "cell_type": "code",
      "source": "",
      "execution_count": null,
      "outputs": []
    },
    {
      "metadata": {
        "trusted": true,
        "_uuid": "cbabfce7e3ec664c9a3177e848af2269e5f0814a"
      },
      "cell_type": "code",
      "source": "",
      "execution_count": null,
      "outputs": []
    },
    {
      "metadata": {
        "trusted": true,
        "_uuid": "df589c096aa06a8d4388f95fd19ab44380cfe1ab"
      },
      "cell_type": "code",
      "source": "test3.head()",
      "execution_count": 16,
      "outputs": [
        {
          "output_type": "execute_result",
          "execution_count": 16,
          "data": {
            "text/plain": "   max_iter    n_jobs    ...     m1flipDjob     final\n0 -0.374467  1.674406    ...      -0.490499 -0.569346\n1  0.268686 -1.110083    ...      -0.125714 -0.310552\n2  0.308634 -0.924450    ...      -0.453993 -0.480457\n3  1.271367 -0.553185    ...      -0.368679 -0.447124\n4 -1.373153 -0.924450    ...      -0.432462 -0.525596\n\n[5 rows x 14 columns]",
            "text/html": "<div>\n<style scoped>\n    .dataframe tbody tr th:only-of-type {\n        vertical-align: middle;\n    }\n\n    .dataframe tbody tr th {\n        vertical-align: top;\n    }\n\n    .dataframe thead th {\n        text-align: right;\n    }\n</style>\n<table border=\"1\" class=\"dataframe\">\n  <thead>\n    <tr style=\"text-align: right;\">\n      <th></th>\n      <th>max_iter</th>\n      <th>n_jobs</th>\n      <th>n_samples</th>\n      <th>n_features</th>\n      <th>n_classes</th>\n      <th>n_informative</th>\n      <th>flip_y</th>\n      <th>scale</th>\n      <th>total clusters</th>\n      <th>AllDjob</th>\n      <th>AllwithClass m1</th>\n      <th>WithfeatureInfoDjob</th>\n      <th>m1flipDjob</th>\n      <th>final</th>\n    </tr>\n  </thead>\n  <tbody>\n    <tr>\n      <th>0</th>\n      <td>-0.374467</td>\n      <td>1.674406</td>\n      <td>0.058728</td>\n      <td>-1.453647</td>\n      <td>-0.855905</td>\n      <td>-0.911667</td>\n      <td>0.771675</td>\n      <td>1.482944e+06</td>\n      <td>-0.805992</td>\n      <td>-0.492134</td>\n      <td>-0.668245</td>\n      <td>-0.595073</td>\n      <td>-0.490499</td>\n      <td>-0.569346</td>\n    </tr>\n    <tr>\n      <th>1</th>\n      <td>0.268686</td>\n      <td>-1.110083</td>\n      <td>-0.459713</td>\n      <td>-1.365628</td>\n      <td>-0.855905</td>\n      <td>-0.911667</td>\n      <td>0.873570</td>\n      <td>2.721431e+07</td>\n      <td>-0.033784</td>\n      <td>-0.171129</td>\n      <td>-0.653649</td>\n      <td>-0.157268</td>\n      <td>-0.125714</td>\n      <td>-0.310552</td>\n    </tr>\n    <tr>\n      <th>2</th>\n      <td>0.308634</td>\n      <td>-0.924450</td>\n      <td>-1.087391</td>\n      <td>0.212967</td>\n      <td>-1.659572</td>\n      <td>-1.488671</td>\n      <td>-0.751899</td>\n      <td>1.204346e+07</td>\n      <td>-0.999045</td>\n      <td>-0.377129</td>\n      <td>-0.681158</td>\n      <td>-0.269092</td>\n      <td>-0.453993</td>\n      <td>-0.480457</td>\n    </tr>\n    <tr>\n      <th>3</th>\n      <td>1.271367</td>\n      <td>-0.553185</td>\n      <td>-0.308863</td>\n      <td>-1.480435</td>\n      <td>-0.052238</td>\n      <td>-0.911667</td>\n      <td>0.172624</td>\n      <td>1.363525e+07</td>\n      <td>0.931476</td>\n      <td>-0.336714</td>\n      <td>-0.539270</td>\n      <td>-0.465640</td>\n      <td>-0.368679</td>\n      <td>-0.447124</td>\n    </tr>\n    <tr>\n      <th>4</th>\n      <td>-1.373153</td>\n      <td>-0.924450</td>\n      <td>-1.454982</td>\n      <td>-1.765539</td>\n      <td>0.751428</td>\n      <td>1.396350</td>\n      <td>0.735116</td>\n      <td>9.452501e+05</td>\n      <td>1.896737</td>\n      <td>-0.431857</td>\n      <td>-0.718729</td>\n      <td>-0.570682</td>\n      <td>-0.432462</td>\n      <td>-0.525596</td>\n    </tr>\n  </tbody>\n</table>\n</div>"
          },
          "metadata": {}
        }
      ]
    },
    {
      "metadata": {
        "trusted": true,
        "_uuid": "c21a2cf434e89f9e94b90979e151c521a428ebe5"
      },
      "cell_type": "code",
      "source": "# input_train2 = tf.estimator.inputs.pandas_input_fn(x=X_train2,y=y_train2,batch_size=BATCH_SIZE,num_epochs=num_epochs,shuffle=True)\n# input_test2 = tf.estimator.inputs.pandas_input_fn(x=X_test2,y=y_test2,batch_size=BATCH_SIZE,num_epochs=num_epochs,shuffle=True)\ntest3.columns = [\"max_iter\",\"n_jobs\",\"n_samples\",\"n_features\",\"n_classes\",\"n_informative\",\"flip_y\",\"scale\",\"total\",\"AllDjob\",\"AllwithClass\",\"WithfeatureInfoDjob\",\"m1flipDjob\",\"final\"]\n#test3.head()\n#test4.columns = [\"total\",\"AllDjob\",\"AllwithClass\",\"WithfeatureInfoDjob\",\"m1flipDjob\",\"final\"]\ntrain[\"total\"] = test3[\"total\"]\ntrain[\"AllDjob\"] = test3[\"AllDjob\"]\ntrain[\"AllwithClass\"] = test3[\"AllwithClass\"]\ntrain[\"WithfeatureInfoDjob\"] = test3[\"WithfeatureInfoDjob\"]\ntrain[\"m1flipDjob\"] = test3[\"m1flipDjob\"]\ntrain[\"final\"] = test3[\"final\"]\ntrain[\"scale\"] = test6[\"scale\"]\ntrain[\"flip_y\"] = test3[\"flip_y\"]\n\n\n",
      "execution_count": 17,
      "outputs": []
    },
    {
      "metadata": {
        "trusted": true,
        "_uuid": "63a463c6fee6f04b79b75632f985cd2a92ef6055"
      },
      "cell_type": "code",
      "source": "test4.columns = [\"max_iter\",\"n_jobs\",\"n_samples\",\"n_features\",\"n_classes\",\"n_informative\",\"flip_y\",\"scale\",\"total\",\"AllDjob\",\"AllwithClass\",\"WithfeatureInfoDjob\",\"m1flipDjob\",\"final\"]\ntest4.head()\n",
      "execution_count": 18,
      "outputs": [
        {
          "output_type": "execute_result",
          "execution_count": 18,
          "data": {
            "text/plain": "   max_iter    n_jobs    ...     m1flipDjob     final\n0  0.364560 -0.553185    ...      -0.237811 -0.276756\n1  0.044981 -0.553185    ...       0.052805  0.168564\n2 -0.450367  1.674406    ...      -0.505157 -0.533328\n3 -0.286583  1.674406    ...      -0.504069 -0.461068\n4 -0.929737 -0.553185    ...       0.054977  0.039807\n\n[5 rows x 14 columns]",
            "text/html": "<div>\n<style scoped>\n    .dataframe tbody tr th:only-of-type {\n        vertical-align: middle;\n    }\n\n    .dataframe tbody tr th {\n        vertical-align: top;\n    }\n\n    .dataframe thead th {\n        text-align: right;\n    }\n</style>\n<table border=\"1\" class=\"dataframe\">\n  <thead>\n    <tr style=\"text-align: right;\">\n      <th></th>\n      <th>max_iter</th>\n      <th>n_jobs</th>\n      <th>n_samples</th>\n      <th>n_features</th>\n      <th>n_classes</th>\n      <th>n_informative</th>\n      <th>flip_y</th>\n      <th>scale</th>\n      <th>total</th>\n      <th>AllDjob</th>\n      <th>AllwithClass</th>\n      <th>WithfeatureInfoDjob</th>\n      <th>m1flipDjob</th>\n      <th>final</th>\n    </tr>\n  </thead>\n  <tbody>\n    <tr>\n      <th>0</th>\n      <td>0.364560</td>\n      <td>-0.553185</td>\n      <td>0.556362</td>\n      <td>-0.016647</td>\n      <td>-1.257738</td>\n      <td>-0.334662</td>\n      <td>-0.107100</td>\n      <td>-0.254303</td>\n      <td>-0.805992</td>\n      <td>-0.204720</td>\n      <td>-0.255666</td>\n      <td>0.073308</td>\n      <td>-0.237811</td>\n      <td>-0.276756</td>\n    </tr>\n    <tr>\n      <th>1</th>\n      <td>0.044981</td>\n      <td>-0.553185</td>\n      <td>-0.792625</td>\n      <td>0.844405</td>\n      <td>1.555095</td>\n      <td>1.396350</td>\n      <td>-0.369411</td>\n      <td>0.036563</td>\n      <td>0.931476</td>\n      <td>0.044668</td>\n      <td>0.485643</td>\n      <td>-0.110878</td>\n      <td>0.052805</td>\n      <td>0.168564</td>\n    </tr>\n    <tr>\n      <th>2</th>\n      <td>-0.450367</td>\n      <td>1.674406</td>\n      <td>-0.870652</td>\n      <td>-0.150588</td>\n      <td>0.751428</td>\n      <td>-0.334662</td>\n      <td>-1.578886</td>\n      <td>-0.565246</td>\n      <td>1.896737</td>\n      <td>-0.441232</td>\n      <td>-0.428415</td>\n      <td>-0.577222</td>\n      <td>-0.505157</td>\n      <td>-0.533328</td>\n    </tr>\n    <tr>\n      <th>3</th>\n      <td>-0.286583</td>\n      <td>1.674406</td>\n      <td>1.598446</td>\n      <td>0.444494</td>\n      <td>-1.257738</td>\n      <td>0.819346</td>\n      <td>-1.682157</td>\n      <td>-0.507533</td>\n      <td>-0.805992</td>\n      <td>-0.383494</td>\n      <td>0.052737</td>\n      <td>-0.342429</td>\n      <td>-0.504069</td>\n      <td>-0.461068</td>\n    </tr>\n    <tr>\n      <th>4</th>\n      <td>-0.929737</td>\n      <td>-0.553185</td>\n      <td>1.336624</td>\n      <td>0.848232</td>\n      <td>0.349595</td>\n      <td>-0.334662</td>\n      <td>-0.071104</td>\n      <td>0.129345</td>\n      <td>1.414106</td>\n      <td>0.253659</td>\n      <td>0.271304</td>\n      <td>-0.017022</td>\n      <td>0.054977</td>\n      <td>0.039807</td>\n    </tr>\n  </tbody>\n</table>\n</div>"
          },
          "metadata": {}
        }
      ]
    },
    {
      "metadata": {
        "trusted": true,
        "_uuid": "735b401b7c3791a57fc678f51ea4216ceb9aaeb2"
      },
      "cell_type": "code",
      "source": "test[\"total\"] = test4[\"total\"]\ntest[\"AllDjob\"] = test4[\"AllDjob\"]\ntest[\"AllwithClass\"] = test4[\"AllwithClass\"]\ntest[\"WithfeatureInfoDjob\"] = test4[\"WithfeatureInfoDjob\"]\ntest[\"m1flipDjob\"] = test4[\"m1flipDjob\"]\ntest[\"final\"] = test4[\"final\"]\ntest[\"scale\"] = test4[\"scale\"]\ntest[\"flip_y\"] = test4[\"flip_y\"]",
      "execution_count": 19,
      "outputs": []
    },
    {
      "metadata": {
        "trusted": true,
        "_uuid": "50324e242b8ebd82ef46a528a4ce12890237b15d"
      },
      "cell_type": "code",
      "source": "",
      "execution_count": null,
      "outputs": []
    },
    {
      "metadata": {
        "trusted": true,
        "_uuid": "652bf4c9bc5c701dedb6ba732b09ae8f9d492b72"
      },
      "cell_type": "code",
      "source": "#del train[\"n_clusters_per_class\"], train[\"n_classes\"], train[\"n_informative\"] \n#del test[\"n_clusters_per_class\"], test[\"n_classes\"], test[\"n_informative\"] \ntrain.head()",
      "execution_count": 20,
      "outputs": [
        {
          "output_type": "execute_result",
          "execution_count": 20,
          "data": {
            "text/plain": "   max_iter        n1        n2    ...        final     scale    flip_y\n0 -0.374467 -0.622613 -0.715628    ...    -0.569346 -0.606314  0.771675\n1  0.268686  1.365091  1.713706    ...    -0.310552 -0.247873  0.873570\n2  0.308634 -0.170290 -0.179282    ...    -0.480457 -0.459205 -0.751899\n3  1.271367  0.089296  0.136216    ...    -0.447124 -0.437031  0.172624\n5  1.898542  0.842885 -0.557879    ...    -0.177568  0.032497  1.546599\n\n[5 rows x 19 columns]",
            "text/html": "<div>\n<style scoped>\n    .dataframe tbody tr th:only-of-type {\n        vertical-align: middle;\n    }\n\n    .dataframe tbody tr th {\n        vertical-align: top;\n    }\n\n    .dataframe thead th {\n        text-align: right;\n    }\n</style>\n<table border=\"1\" class=\"dataframe\">\n  <thead>\n    <tr style=\"text-align: right;\">\n      <th></th>\n      <th>max_iter</th>\n      <th>n1</th>\n      <th>n2</th>\n      <th>n3</th>\n      <th>n_classes</th>\n      <th>n_clusters_per_class</th>\n      <th>n_features</th>\n      <th>n_informative</th>\n      <th>n_jobs</th>\n      <th>n_samples</th>\n      <th>penalty</th>\n      <th>total</th>\n      <th>AllDjob</th>\n      <th>AllwithClass</th>\n      <th>WithfeatureInfoDjob</th>\n      <th>m1flipDjob</th>\n      <th>final</th>\n      <th>scale</th>\n      <th>flip_y</th>\n    </tr>\n  </thead>\n  <tbody>\n    <tr>\n      <th>0</th>\n      <td>-0.374467</td>\n      <td>-0.622613</td>\n      <td>-0.715628</td>\n      <td>-0.635245</td>\n      <td>-0.855905</td>\n      <td>-0.327922</td>\n      <td>-1.453647</td>\n      <td>-0.911667</td>\n      <td>1.382678</td>\n      <td>0.058728</td>\n      <td>none</td>\n      <td>-0.805992</td>\n      <td>-0.492134</td>\n      <td>-0.668245</td>\n      <td>-0.595073</td>\n      <td>-0.490499</td>\n      <td>-0.569346</td>\n      <td>-0.606314</td>\n      <td>0.771675</td>\n    </tr>\n    <tr>\n      <th>1</th>\n      <td>0.268686</td>\n      <td>1.365091</td>\n      <td>1.713706</td>\n      <td>0.953310</td>\n      <td>-0.855905</td>\n      <td>1.444629</td>\n      <td>-1.365628</td>\n      <td>-0.911667</td>\n      <td>-1.080525</td>\n      <td>-0.459713</td>\n      <td>l1</td>\n      <td>-0.033784</td>\n      <td>-0.171129</td>\n      <td>-0.653649</td>\n      <td>-0.157268</td>\n      <td>-0.125714</td>\n      <td>-0.310552</td>\n      <td>-0.247873</td>\n      <td>0.873570</td>\n    </tr>\n    <tr>\n      <th>2</th>\n      <td>0.308634</td>\n      <td>-0.170290</td>\n      <td>-0.179282</td>\n      <td>-0.343470</td>\n      <td>-1.659572</td>\n      <td>1.444629</td>\n      <td>0.212967</td>\n      <td>-1.488671</td>\n      <td>-0.916312</td>\n      <td>-1.087391</td>\n      <td>none</td>\n      <td>-0.999045</td>\n      <td>-0.377129</td>\n      <td>-0.681158</td>\n      <td>-0.269092</td>\n      <td>-0.453993</td>\n      <td>-0.480457</td>\n      <td>-0.459205</td>\n      <td>-0.751899</td>\n    </tr>\n    <tr>\n      <th>3</th>\n      <td>1.271367</td>\n      <td>0.089296</td>\n      <td>0.136216</td>\n      <td>-0.078219</td>\n      <td>-0.052238</td>\n      <td>1.444629</td>\n      <td>-1.480435</td>\n      <td>-0.911667</td>\n      <td>-0.587885</td>\n      <td>-0.308863</td>\n      <td>none</td>\n      <td>0.931476</td>\n      <td>-0.336714</td>\n      <td>-0.539270</td>\n      <td>-0.465640</td>\n      <td>-0.368679</td>\n      <td>-0.447124</td>\n      <td>-0.437031</td>\n      <td>0.172624</td>\n    </tr>\n    <tr>\n      <th>5</th>\n      <td>1.898542</td>\n      <td>0.842885</td>\n      <td>-0.557879</td>\n      <td>-0.555670</td>\n      <td>-0.855905</td>\n      <td>-1.214197</td>\n      <td>-0.431865</td>\n      <td>-1.488671</td>\n      <td>-0.587885</td>\n      <td>0.591040</td>\n      <td>l1</td>\n      <td>-1.192097</td>\n      <td>-0.305748</td>\n      <td>-0.090552</td>\n      <td>0.067703</td>\n      <td>0.206211</td>\n      <td>-0.177568</td>\n      <td>0.032497</td>\n      <td>1.546599</td>\n    </tr>\n  </tbody>\n</table>\n</div>"
          },
          "metadata": {}
        }
      ]
    },
    {
      "metadata": {
        "trusted": true,
        "_uuid": "ff306d2b9ab1daf2fced7a722d911ed3beabb366"
      },
      "cell_type": "code",
      "source": "train = train.drop(columns=[\"AllwithClass\",\"WithfeatureInfoDjob\",\"m1flipDjob\",\"AllDjob\",\"total\"])\ntest = test.drop(columns=[\"AllwithClass\",\"WithfeatureInfoDjob\",\"m1flipDjob\",\"AllDjob\",\"total\"])",
      "execution_count": 21,
      "outputs": []
    },
    {
      "metadata": {
        "trusted": true,
        "_uuid": "a88237d96152ada152a7fa1b2db66a4521edc2ea"
      },
      "cell_type": "code",
      "source": "#train[\"scale\"] = (train[\"scale\"] - train[\"scale\"].mean())/train[\"scale\"].std(ddof=0)\ntrain.describe()",
      "execution_count": 22,
      "outputs": [
        {
          "output_type": "execute_result",
          "execution_count": 22,
          "data": {
            "text/plain": "         max_iter          n1     ...           scale      flip_y\ncount  433.000000  433.000000     ...      433.000000  433.000000\nmean     0.192593   -0.012415     ...       -0.233557   -0.132170\nstd      1.049708    0.981556     ...        0.670662    1.031984\nmin     -1.628817   -0.747224     ...       -0.626220   -1.781798\n25%     -0.678068   -0.610414     ...       -0.578379   -1.086093\n50%      0.100907   -0.392551     ...       -0.471255   -0.191793\n75%      1.107583    0.172482     ...       -0.203642    0.780386\nmax      1.946479    5.536320     ...        4.837588    1.627838\n\n[8 rows x 13 columns]",
            "text/html": "<div>\n<style scoped>\n    .dataframe tbody tr th:only-of-type {\n        vertical-align: middle;\n    }\n\n    .dataframe tbody tr th {\n        vertical-align: top;\n    }\n\n    .dataframe thead th {\n        text-align: right;\n    }\n</style>\n<table border=\"1\" class=\"dataframe\">\n  <thead>\n    <tr style=\"text-align: right;\">\n      <th></th>\n      <th>max_iter</th>\n      <th>n1</th>\n      <th>n2</th>\n      <th>n3</th>\n      <th>n_classes</th>\n      <th>n_clusters_per_class</th>\n      <th>n_features</th>\n      <th>n_informative</th>\n      <th>n_jobs</th>\n      <th>n_samples</th>\n      <th>final</th>\n      <th>scale</th>\n      <th>flip_y</th>\n    </tr>\n  </thead>\n  <tbody>\n    <tr>\n      <th>count</th>\n      <td>433.000000</td>\n      <td>433.000000</td>\n      <td>433.000000</td>\n      <td>433.000000</td>\n      <td>433.000000</td>\n      <td>433.000000</td>\n      <td>433.000000</td>\n      <td>433.000000</td>\n      <td>433.000000</td>\n      <td>433.000000</td>\n      <td>433.000000</td>\n      <td>433.000000</td>\n      <td>433.000000</td>\n    </tr>\n    <tr>\n      <th>mean</th>\n      <td>0.192593</td>\n      <td>-0.012415</td>\n      <td>0.110222</td>\n      <td>0.079461</td>\n      <td>-0.123696</td>\n      <td>0.052788</td>\n      <td>-0.658443</td>\n      <td>0.055782</td>\n      <td>-0.239737</td>\n      <td>-0.543994</td>\n      <td>-0.242281</td>\n      <td>-0.233557</td>\n      <td>-0.132170</td>\n    </tr>\n    <tr>\n      <th>std</th>\n      <td>1.049708</td>\n      <td>0.981556</td>\n      <td>1.060019</td>\n      <td>0.956351</td>\n      <td>1.008910</td>\n      <td>0.970587</td>\n      <td>0.712678</td>\n      <td>0.881709</td>\n      <td>0.883602</td>\n      <td>0.638793</td>\n      <td>0.611052</td>\n      <td>0.670662</td>\n      <td>1.031984</td>\n    </tr>\n    <tr>\n      <th>min</th>\n      <td>-1.628817</td>\n      <td>-0.747224</td>\n      <td>-0.762953</td>\n      <td>-0.666191</td>\n      <td>-1.659572</td>\n      <td>-1.214197</td>\n      <td>-1.868865</td>\n      <td>-2.065675</td>\n      <td>-1.080525</td>\n      <td>-1.656116</td>\n      <td>-0.583718</td>\n      <td>-0.626220</td>\n      <td>-1.781798</td>\n    </tr>\n    <tr>\n      <th>25%</th>\n      <td>-0.678068</td>\n      <td>-0.610414</td>\n      <td>-0.573654</td>\n      <td>-0.511462</td>\n      <td>-0.855905</td>\n      <td>-0.327922</td>\n      <td>-1.273783</td>\n      <td>-0.334662</td>\n      <td>-0.916312</td>\n      <td>-1.075254</td>\n      <td>-0.542742</td>\n      <td>-0.578379</td>\n      <td>-1.086093</td>\n    </tr>\n    <tr>\n      <th>50%</th>\n      <td>0.100907</td>\n      <td>-0.392551</td>\n      <td>-0.258156</td>\n      <td>-0.263895</td>\n      <td>-0.052238</td>\n      <td>-0.327922</td>\n      <td>-0.678700</td>\n      <td>0.242342</td>\n      <td>-0.587885</td>\n      <td>-0.581088</td>\n      <td>-0.447666</td>\n      <td>-0.471255</td>\n      <td>-0.191793</td>\n    </tr>\n    <tr>\n      <th>75%</th>\n      <td>1.107583</td>\n      <td>0.172482</td>\n      <td>0.325515</td>\n      <td>0.257764</td>\n      <td>0.751428</td>\n      <td>0.558354</td>\n      <td>-0.043435</td>\n      <td>0.819346</td>\n      <td>0.068970</td>\n      <td>-0.005427</td>\n      <td>-0.202899</td>\n      <td>-0.203642</td>\n      <td>0.780386</td>\n    </tr>\n    <tr>\n      <th>max</th>\n      <td>1.946479</td>\n      <td>5.536320</td>\n      <td>5.499680</td>\n      <td>5.668871</td>\n      <td>1.555095</td>\n      <td>1.444629</td>\n      <td>0.593743</td>\n      <td>1.973354</td>\n      <td>1.382678</td>\n      <td>0.592774</td>\n      <td>5.428708</td>\n      <td>4.837588</td>\n      <td>1.627838</td>\n    </tr>\n  </tbody>\n</table>\n</div>"
          },
          "metadata": {}
        }
      ]
    },
    {
      "metadata": {
        "trusted": true,
        "_uuid": "f83b09c515d1830783b1bb7f13adb00fa2ff6a9f"
      },
      "cell_type": "code",
      "source": "test.describe()",
      "execution_count": 23,
      "outputs": [
        {
          "output_type": "execute_result",
          "execution_count": 23,
          "data": {
            "text/plain": "           max_iter        n_jobs      ...              scale        flip_y\ncount  1.000000e+02  1.000000e+02      ...       1.000000e+02  1.000000e+02\nmean  -1.554312e-17 -1.776357e-17      ...      -7.105427e-17 -4.041212e-16\nstd    1.005038e+00  1.005038e+00      ...       1.005038e+00  1.005038e+00\nmin   -1.624822e+00 -1.080525e+00      ...      -6.235300e-01 -1.779334e+00\n25%   -8.778051e-01 -9.163117e-01      ...      -5.491097e-01 -7.092756e-01\n50%   -9.882997e-02 -5.878846e-01      ...      -3.711468e-01 -1.997182e-02\n75%    8.698955e-01  1.382678e+00      ...       7.243730e-02  8.206214e-01\nmax    1.886558e+00  1.382678e+00      ...       5.535344e+00  1.616344e+00\n\n[8 rows x 13 columns]",
            "text/html": "<div>\n<style scoped>\n    .dataframe tbody tr th:only-of-type {\n        vertical-align: middle;\n    }\n\n    .dataframe tbody tr th {\n        vertical-align: top;\n    }\n\n    .dataframe thead th {\n        text-align: right;\n    }\n</style>\n<table border=\"1\" class=\"dataframe\">\n  <thead>\n    <tr style=\"text-align: right;\">\n      <th></th>\n      <th>max_iter</th>\n      <th>n_jobs</th>\n      <th>n_samples</th>\n      <th>n_features</th>\n      <th>n_classes</th>\n      <th>n_clusters_per_class</th>\n      <th>n_informative</th>\n      <th>n1</th>\n      <th>n2</th>\n      <th>n3</th>\n      <th>final</th>\n      <th>scale</th>\n      <th>flip_y</th>\n    </tr>\n  </thead>\n  <tbody>\n    <tr>\n      <th>count</th>\n      <td>1.000000e+02</td>\n      <td>1.000000e+02</td>\n      <td>1.000000e+02</td>\n      <td>1.000000e+02</td>\n      <td>1.000000e+02</td>\n      <td>1.000000e+02</td>\n      <td>1.000000e+02</td>\n      <td>1.000000e+02</td>\n      <td>1.000000e+02</td>\n      <td>1.000000e+02</td>\n      <td>1.000000e+02</td>\n      <td>1.000000e+02</td>\n      <td>1.000000e+02</td>\n    </tr>\n    <tr>\n      <th>mean</th>\n      <td>-1.554312e-17</td>\n      <td>-1.776357e-17</td>\n      <td>-1.953993e-16</td>\n      <td>-7.660539e-17</td>\n      <td>2.775558e-17</td>\n      <td>-1.287859e-16</td>\n      <td>-3.108624e-17</td>\n      <td>4.551914e-17</td>\n      <td>1.998401e-17</td>\n      <td>7.549517e-17</td>\n      <td>2.997602e-17</td>\n      <td>-7.105427e-17</td>\n      <td>-4.041212e-16</td>\n    </tr>\n    <tr>\n      <th>std</th>\n      <td>1.005038e+00</td>\n      <td>1.005038e+00</td>\n      <td>1.005038e+00</td>\n      <td>1.005038e+00</td>\n      <td>1.005038e+00</td>\n      <td>1.005038e+00</td>\n      <td>1.005038e+00</td>\n      <td>1.005038e+00</td>\n      <td>1.005038e+00</td>\n      <td>1.005038e+00</td>\n      <td>1.005038e+00</td>\n      <td>1.005038e+00</td>\n      <td>1.005038e+00</td>\n    </tr>\n    <tr>\n      <th>min</th>\n      <td>-1.624822e+00</td>\n      <td>-1.080525e+00</td>\n      <td>-1.628373e+00</td>\n      <td>-1.796154e+00</td>\n      <td>-1.659572e+00</td>\n      <td>-1.214197e+00</td>\n      <td>-2.065675e+00</td>\n      <td>-7.424933e-01</td>\n      <td>-7.787276e-01</td>\n      <td>-6.765063e-01</td>\n      <td>-5.824853e-01</td>\n      <td>-6.235300e-01</td>\n      <td>-1.779334e+00</td>\n    </tr>\n    <tr>\n      <th>25%</th>\n      <td>-8.778051e-01</td>\n      <td>-9.163117e-01</td>\n      <td>-9.205017e-01</td>\n      <td>-8.255574e-01</td>\n      <td>-8.559050e-01</td>\n      <td>-1.214197e+00</td>\n      <td>-9.116666e-01</td>\n      <td>-6.050291e-01</td>\n      <td>-5.618228e-01</td>\n      <td>-5.092512e-01</td>\n      <td>-5.202097e-01</td>\n      <td>-5.491097e-01</td>\n      <td>-7.092756e-01</td>\n    </tr>\n    <tr>\n      <th>50%</th>\n      <td>-9.882997e-02</td>\n      <td>-5.878846e-01</td>\n      <td>-4.617420e-02</td>\n      <td>5.893422e-02</td>\n      <td>-5.223833e-02</td>\n      <td>-3.279219e-01</td>\n      <td>-3.346624e-01</td>\n      <td>-3.972703e-01</td>\n      <td>-3.054808e-01</td>\n      <td>-3.434697e-01</td>\n      <td>-3.508625e-01</td>\n      <td>-3.711468e-01</td>\n      <td>-1.997182e-02</td>\n    </tr>\n    <tr>\n      <th>75%</th>\n      <td>8.698955e-01</td>\n      <td>1.382678e+00</td>\n      <td>9.265531e-01</td>\n      <td>7.932201e-01</td>\n      <td>7.514283e-01</td>\n      <td>5.583536e-01</td>\n      <td>8.193459e-01</td>\n      <td>3.192788e-01</td>\n      <td>1.362162e-01</td>\n      <td>1.582955e-01</td>\n      <td>2.790954e-02</td>\n      <td>7.243730e-02</td>\n      <td>8.206214e-01</td>\n    </tr>\n    <tr>\n      <th>max</th>\n      <td>1.886558e+00</td>\n      <td>1.382678e+00</td>\n      <td>1.626188e+00</td>\n      <td>1.734158e+00</td>\n      <td>1.555095e+00</td>\n      <td>1.444629e+00</td>\n      <td>1.973354e+00</td>\n      <td>4.113232e+00</td>\n      <td>4.237688e+00</td>\n      <td>4.961537e+00</td>\n      <td>5.378658e+00</td>\n      <td>5.535344e+00</td>\n      <td>1.616344e+00</td>\n    </tr>\n  </tbody>\n</table>\n</div>"
          },
          "metadata": {}
        }
      ]
    },
    {
      "metadata": {
        "trusted": true,
        "_uuid": "afc96a95942372ef2b9b49035493ab21ab4aff6c"
      },
      "cell_type": "code",
      "source": "",
      "execution_count": null,
      "outputs": []
    },
    {
      "metadata": {
        "trusted": true,
        "_uuid": "d9807efbfb982a10e3a6411bfb67a7264b437685"
      },
      "cell_type": "code",
      "source": "import tensorflow as tf\nfrom sklearn.model_selection import train_test_split\nBATCH_SIZE = 200\n\nnum_epochs = 2000\n\n#X_train, X_test, y_train, y_test = train_test_split(train, label, test_size=0.20) \n#X_train2, X_test2, y_train2, y_test2 = train_test_split(train2, label, test_size=0.30) \n\ninput_train = tf.estimator.inputs.pandas_input_fn(x=train,y=label,batch_size=BATCH_SIZE,num_epochs=num_epochs,shuffle=True)\n\n#input_test = tf.estimator.inputs.pandas_input_fn(x=X_test,y=y_test,batch_size=BATCH_SIZE,num_epochs=num_epochs,shuffle=True)",
      "execution_count": 24,
      "outputs": []
    },
    {
      "metadata": {
        "trusted": true,
        "_uuid": "2c08a5c032f4ab83c4636f97e12e8af1267d94db"
      },
      "cell_type": "code",
      "source": "train.head()",
      "execution_count": 25,
      "outputs": [
        {
          "output_type": "execute_result",
          "execution_count": 25,
          "data": {
            "text/plain": "   max_iter        n1        n2    ...        final     scale    flip_y\n0 -0.374467 -0.622613 -0.715628    ...    -0.569346 -0.606314  0.771675\n1  0.268686  1.365091  1.713706    ...    -0.310552 -0.247873  0.873570\n2  0.308634 -0.170290 -0.179282    ...    -0.480457 -0.459205 -0.751899\n3  1.271367  0.089296  0.136216    ...    -0.447124 -0.437031  0.172624\n5  1.898542  0.842885 -0.557879    ...    -0.177568  0.032497  1.546599\n\n[5 rows x 14 columns]",
            "text/html": "<div>\n<style scoped>\n    .dataframe tbody tr th:only-of-type {\n        vertical-align: middle;\n    }\n\n    .dataframe tbody tr th {\n        vertical-align: top;\n    }\n\n    .dataframe thead th {\n        text-align: right;\n    }\n</style>\n<table border=\"1\" class=\"dataframe\">\n  <thead>\n    <tr style=\"text-align: right;\">\n      <th></th>\n      <th>max_iter</th>\n      <th>n1</th>\n      <th>n2</th>\n      <th>n3</th>\n      <th>n_classes</th>\n      <th>n_clusters_per_class</th>\n      <th>n_features</th>\n      <th>n_informative</th>\n      <th>n_jobs</th>\n      <th>n_samples</th>\n      <th>penalty</th>\n      <th>final</th>\n      <th>scale</th>\n      <th>flip_y</th>\n    </tr>\n  </thead>\n  <tbody>\n    <tr>\n      <th>0</th>\n      <td>-0.374467</td>\n      <td>-0.622613</td>\n      <td>-0.715628</td>\n      <td>-0.635245</td>\n      <td>-0.855905</td>\n      <td>-0.327922</td>\n      <td>-1.453647</td>\n      <td>-0.911667</td>\n      <td>1.382678</td>\n      <td>0.058728</td>\n      <td>none</td>\n      <td>-0.569346</td>\n      <td>-0.606314</td>\n      <td>0.771675</td>\n    </tr>\n    <tr>\n      <th>1</th>\n      <td>0.268686</td>\n      <td>1.365091</td>\n      <td>1.713706</td>\n      <td>0.953310</td>\n      <td>-0.855905</td>\n      <td>1.444629</td>\n      <td>-1.365628</td>\n      <td>-0.911667</td>\n      <td>-1.080525</td>\n      <td>-0.459713</td>\n      <td>l1</td>\n      <td>-0.310552</td>\n      <td>-0.247873</td>\n      <td>0.873570</td>\n    </tr>\n    <tr>\n      <th>2</th>\n      <td>0.308634</td>\n      <td>-0.170290</td>\n      <td>-0.179282</td>\n      <td>-0.343470</td>\n      <td>-1.659572</td>\n      <td>1.444629</td>\n      <td>0.212967</td>\n      <td>-1.488671</td>\n      <td>-0.916312</td>\n      <td>-1.087391</td>\n      <td>none</td>\n      <td>-0.480457</td>\n      <td>-0.459205</td>\n      <td>-0.751899</td>\n    </tr>\n    <tr>\n      <th>3</th>\n      <td>1.271367</td>\n      <td>0.089296</td>\n      <td>0.136216</td>\n      <td>-0.078219</td>\n      <td>-0.052238</td>\n      <td>1.444629</td>\n      <td>-1.480435</td>\n      <td>-0.911667</td>\n      <td>-0.587885</td>\n      <td>-0.308863</td>\n      <td>none</td>\n      <td>-0.447124</td>\n      <td>-0.437031</td>\n      <td>0.172624</td>\n    </tr>\n    <tr>\n      <th>5</th>\n      <td>1.898542</td>\n      <td>0.842885</td>\n      <td>-0.557879</td>\n      <td>-0.555670</td>\n      <td>-0.855905</td>\n      <td>-1.214197</td>\n      <td>-0.431865</td>\n      <td>-1.488671</td>\n      <td>-0.587885</td>\n      <td>0.591040</td>\n      <td>l1</td>\n      <td>-0.177568</td>\n      <td>0.032497</td>\n      <td>1.546599</td>\n    </tr>\n  </tbody>\n</table>\n</div>"
          },
          "metadata": {}
        }
      ]
    },
    {
      "metadata": {
        "trusted": true,
        "_uuid": "afcef6d5fbf5f1dc49c15b28d9be546f27f8a5c4"
      },
      "cell_type": "code",
      "source": "label.head()",
      "execution_count": 26,
      "outputs": [
        {
          "output_type": "execute_result",
          "execution_count": 26,
          "data": {
            "text/plain": "0    0.409987\n1    3.950953\n2    0.368702\n3    1.004559\n5    7.916113\nName: time, dtype: float64"
          },
          "metadata": {}
        }
      ]
    },
    {
      "metadata": {
        "trusted": true,
        "_uuid": "f1e0c481e630893e128d35faf78c39dc5f09a106"
      },
      "cell_type": "code",
      "source": "",
      "execution_count": null,
      "outputs": []
    },
    {
      "metadata": {
        "trusted": true,
        "_uuid": "546b501d0801a6a2027e51b41b79957bdb6f9183"
      },
      "cell_type": "code",
      "source": "test3.head()",
      "execution_count": 27,
      "outputs": [
        {
          "output_type": "execute_result",
          "execution_count": 27,
          "data": {
            "text/plain": "   max_iter    n_jobs    ...     m1flipDjob     final\n0 -0.374467  1.674406    ...      -0.490499 -0.569346\n1  0.268686 -1.110083    ...      -0.125714 -0.310552\n2  0.308634 -0.924450    ...      -0.453993 -0.480457\n3  1.271367 -0.553185    ...      -0.368679 -0.447124\n4 -1.373153 -0.924450    ...      -0.432462 -0.525596\n\n[5 rows x 14 columns]",
            "text/html": "<div>\n<style scoped>\n    .dataframe tbody tr th:only-of-type {\n        vertical-align: middle;\n    }\n\n    .dataframe tbody tr th {\n        vertical-align: top;\n    }\n\n    .dataframe thead th {\n        text-align: right;\n    }\n</style>\n<table border=\"1\" class=\"dataframe\">\n  <thead>\n    <tr style=\"text-align: right;\">\n      <th></th>\n      <th>max_iter</th>\n      <th>n_jobs</th>\n      <th>n_samples</th>\n      <th>n_features</th>\n      <th>n_classes</th>\n      <th>n_informative</th>\n      <th>flip_y</th>\n      <th>scale</th>\n      <th>total</th>\n      <th>AllDjob</th>\n      <th>AllwithClass</th>\n      <th>WithfeatureInfoDjob</th>\n      <th>m1flipDjob</th>\n      <th>final</th>\n    </tr>\n  </thead>\n  <tbody>\n    <tr>\n      <th>0</th>\n      <td>-0.374467</td>\n      <td>1.674406</td>\n      <td>0.058728</td>\n      <td>-1.453647</td>\n      <td>-0.855905</td>\n      <td>-0.911667</td>\n      <td>0.771675</td>\n      <td>1.482944e+06</td>\n      <td>-0.805992</td>\n      <td>-0.492134</td>\n      <td>-0.668245</td>\n      <td>-0.595073</td>\n      <td>-0.490499</td>\n      <td>-0.569346</td>\n    </tr>\n    <tr>\n      <th>1</th>\n      <td>0.268686</td>\n      <td>-1.110083</td>\n      <td>-0.459713</td>\n      <td>-1.365628</td>\n      <td>-0.855905</td>\n      <td>-0.911667</td>\n      <td>0.873570</td>\n      <td>2.721431e+07</td>\n      <td>-0.033784</td>\n      <td>-0.171129</td>\n      <td>-0.653649</td>\n      <td>-0.157268</td>\n      <td>-0.125714</td>\n      <td>-0.310552</td>\n    </tr>\n    <tr>\n      <th>2</th>\n      <td>0.308634</td>\n      <td>-0.924450</td>\n      <td>-1.087391</td>\n      <td>0.212967</td>\n      <td>-1.659572</td>\n      <td>-1.488671</td>\n      <td>-0.751899</td>\n      <td>1.204346e+07</td>\n      <td>-0.999045</td>\n      <td>-0.377129</td>\n      <td>-0.681158</td>\n      <td>-0.269092</td>\n      <td>-0.453993</td>\n      <td>-0.480457</td>\n    </tr>\n    <tr>\n      <th>3</th>\n      <td>1.271367</td>\n      <td>-0.553185</td>\n      <td>-0.308863</td>\n      <td>-1.480435</td>\n      <td>-0.052238</td>\n      <td>-0.911667</td>\n      <td>0.172624</td>\n      <td>1.363525e+07</td>\n      <td>0.931476</td>\n      <td>-0.336714</td>\n      <td>-0.539270</td>\n      <td>-0.465640</td>\n      <td>-0.368679</td>\n      <td>-0.447124</td>\n    </tr>\n    <tr>\n      <th>4</th>\n      <td>-1.373153</td>\n      <td>-0.924450</td>\n      <td>-1.454982</td>\n      <td>-1.765539</td>\n      <td>0.751428</td>\n      <td>1.396350</td>\n      <td>0.735116</td>\n      <td>9.452501e+05</td>\n      <td>1.896737</td>\n      <td>-0.431857</td>\n      <td>-0.718729</td>\n      <td>-0.570682</td>\n      <td>-0.432462</td>\n      <td>-0.525596</td>\n    </tr>\n  </tbody>\n</table>\n</div>"
          },
          "metadata": {}
        }
      ]
    },
    {
      "metadata": {
        "trusted": true,
        "_uuid": "80ba4cb744a577f1f59c9373cc50adade2ed6745"
      },
      "cell_type": "code",
      "source": "total_clusters = tf.feature_column.numeric_column(\"total\")\nAllDjob = tf.feature_column.numeric_column(\"AllDjob\")\nAllwithClass = tf.feature_column.numeric_column(\"AllwithClass\")\nWithfeatureInfoDjob = tf.feature_column.numeric_column(\"WithfeatureInfoDjob\")\n#x2 = tf.feature_column.numeric_column(\"x2\")\nm1flipDjob = tf.feature_column.numeric_column(\"m1flipDjob\")\nfinal = tf.feature_column.numeric_column(\"final\")\nscale = tf.feature_column.numeric_column(\"scale\")\n\n\nmax_iter = tf.feature_column.numeric_column(\"max_iter\")\nn_samples = tf.feature_column.numeric_column(\"n_samples\")\nn_features = tf.feature_column.numeric_column(\"n_features\")\nn_classes = tf.feature_column.numeric_column(\"n_classes\")\nflip_y = tf.feature_column.numeric_column(\"flip_y\")\nn_informative = tf.feature_column.numeric_column(\"n_informative\")\nn2 = tf.feature_column.numeric_column(\"n2\")\nn1 = tf.feature_column.numeric_column(\"n1\")\nn3 = tf.feature_column.numeric_column(\"n3\")\npenalty = tf.feature_column.categorical_column_with_vocabulary_list(key=\"penalty\", vocabulary_list=[\"l2\", \"l1\", \"none\", \"elasticnet\"])",
      "execution_count": 28,
      "outputs": []
    },
    {
      "metadata": {
        "trusted": true,
        "_uuid": "63b0775aa161122a88b1dca9c5b23fbf73fb368f"
      },
      "cell_type": "code",
      "source": "#train.head(5)",
      "execution_count": 29,
      "outputs": []
    },
    {
      "metadata": {
        "trusted": true,
        "_uuid": "2ba147dec34ccc3a0400981ea8f3ab8ce2ab36af"
      },
      "cell_type": "code",
      "source": "Feature_columns = [\n    flip_y,\n    max_iter, \n    n_samples, \n    n_features, \n    n_classes, \n    n_informative,\n    scale,\n    tf.feature_column.indicator_column(penalty),\n#     total_clusters, \n#     AllDjob, \n#     AllwithClass, \n#     WithfeatureInfoDjob, \n#     #x2,\n#     m1flipDjob,\n]\n\n\n\n# Feature_columns = [\n    \n#     total_clusters, \n#     AllDjob, \n#     AllwithClass, \n#     WithfeatureInfoDjob, \n#     #x2,\n#     m1flipDjob,\n#     final,\n#     #tf.feature_column.indicator_column(penalty),\n# ]\n\n\n# BUCKET_BOUNDARIES_1 = [-1.711510e+00,-8.514319e-01,-6.013563e-02,8.687966e-01,1.715231e+00]\n# BUCKET_BOUNDARIES_2 = [-8.052417e-01,-6.034727e-01,1.414217e+00]\n# BUCKET_BOUNDARIES_3 = [-1.693000e+00,-8.566758e-01,-1.032306e-01,8.696556e-01,1.678667e+00]\n# BUCKET_BOUNDARIES_4 = [-9.433979e-01,-7.567544e-01,-3.834675e-01,3.631064e-01,1.856254e+00]\n# BUCKET_BOUNDARIES_5 = [-1.709393e+00,-8.203153e-01,-4.321515e-02,8.539577e-01,1.790255e+00]\n# BUCKET_BOUNDARIES_6 = [-1.704378e+00,-8.468749e-01,-2.302544e-02,8.620742e-01,1.760636e+00]\n# BUCKET_BOUNDARIES_7 = [-1.536592e+00,-7.407113e-01,5.516898e-02,8.510493e-01,1.646930e+00]\n# BUCKET_BOUNDARIES_8 = [-1.312306e+00,-4.015574e-01,5.091913e-01,1.419940e+00]\n# BUCKET_BOUNDARIES_9 = [-2.410884e+00,-4.488822e-01,2.051184e-01,8.591189e-01,2.167120e+00]\n# BUCKET_BOUNDARIES_10 = [-1.624499e+00,-9.295681e-01,-5.527595e-03,8.634360e-01,1.684898e+00]\n# BUCKET_BOUNDARIES_11 = [-1.703224e+00,-8.802514e-01,4.299174e-02,8.593679e-01,1.693877e+00]\n# bucketized_feature_1 = tf.feature_column.bucketized_column(\n#   tf.feature_column.numeric_column('l1_ratio'), BUCKET_BOUNDARIES_1)\n# bucketized_feature_2 = tf.feature_column.bucketized_column(\n#   tf.feature_column.numeric_column('alpha'), BUCKET_BOUNDARIES_2)\n# bucketized_feature_3 = tf.feature_column.bucketized_column(\n#   tf.feature_column.numeric_column('max_iter'), BUCKET_BOUNDARIES_3)\n# bucketized_feature_4 = tf.feature_column.bucketized_column(\n#   tf.feature_column.numeric_column('n_jobs'), BUCKET_BOUNDARIES_4)\n# bucketized_feature_5 = tf.feature_column.bucketized_column(\n#   tf.feature_column.numeric_column('n_samples'), BUCKET_BOUNDARIES_5)\n# bucketized_feature_6 = tf.feature_column.bucketized_column(\n#   tf.feature_column.numeric_column('n_features'), BUCKET_BOUNDARIES_6)\n# bucketized_feature_7 = tf.feature_column.bucketized_column(\n#   tf.feature_column.numeric_column('n_classes'), BUCKET_BOUNDARIES_7)\n# bucketized_feature_8 = tf.feature_column.bucketized_column(\n#   tf.feature_column.numeric_column('n_clusters_per_class'), BUCKET_BOUNDARIES_8)\n# bucketized_feature_9 = tf.feature_column.bucketized_column(\n#   tf.feature_column.numeric_column('n_informative'), BUCKET_BOUNDARIES_9)\n# bucketized_feature_10 = tf.feature_column.bucketized_column(\n#   tf.feature_column.numeric_column('flip_y'), BUCKET_BOUNDARIES_10)\n# bucketized_feature_11 = tf.feature_column.bucketized_column(\n#   tf.feature_column.numeric_column('scale'), BUCKET_BOUNDARIES_11)\n\n\n# Feature_columns2 = [\n#     bucketized_feature_1,\n#     bucketized_feature_2,\n#     bucketized_feature_3,\n#     bucketized_feature_4,\n#     bucketized_feature_5,\n#     bucketized_feature_6,\n#     bucketized_feature_7,\n#     bucketized_feature_8,\n#     bucketized_feature_9,\n#     bucketized_feature_10,\n#     bucketized_feature_11,\n#     tf.feature_column.indicator_column(penalty),\n# ]",
      "execution_count": 30,
      "outputs": []
    },
    {
      "metadata": {
        "trusted": true,
        "_uuid": "df54e8dfebe785d20f662f6a18ca79eb0caf5675"
      },
      "cell_type": "code",
      "source": "# wide_columns = [    \n#     n_jobs, \n#     n_samples, \n#     n_features, \n#     n1,\n#     n2,\n#     n3,\n#     n_classes,\n#     n_clusters_per_class,\n#     n_informative\n# ]\n\nwide_columns = [    \n#     total_clusters, \n#     AllDjob, \n#     AllwithClass, \n#     WithfeatureInfoDjob, \n#     #x2,\n#     m1flipDjob,\n    n_samples, \n    n_features, \n    n1,\n    n2,\n    n3,\n    n_classes,\n    n_informative,\n    flip_y,\n    scale,\n]\n\n\n",
      "execution_count": 31,
      "outputs": []
    },
    {
      "metadata": {
        "trusted": true,
        "_uuid": "5009e6e01cf9b4fcc999411d3a1b0e6cf8445c5a"
      },
      "cell_type": "code",
      "source": "tf.estimator.DNNRegressor",
      "execution_count": 32,
      "outputs": [
        {
          "output_type": "execute_result",
          "execution_count": 32,
          "data": {
            "text/plain": "tensorflow.python.estimator.canned.dnn.DNNRegressor"
          },
          "metadata": {}
        }
      ]
    },
    {
      "metadata": {
        "trusted": true,
        "_uuid": "093ed1f8541ab1eb8ccabf0639e00fc790878aa7"
      },
      "cell_type": "code",
      "source": "m = tf.estimator.DNNLinearCombinedRegressor(\n    linear_feature_columns=wide_columns,\n    dnn_feature_columns=Feature_columns,\n    dnn_hidden_units=[1000, 500, 240, 150, 75, 25, 14, 7],\n    #dnn_activation_fn=tf.nn.leaky_relu,\n    #dnn_dropout=0.05, #Dropout is hurting the accuracy a lot, maybe it in a shallow NN it is dropping important nodes\n    #batch_norm = True) #batch norm is hurting accuracy probably because not all the inputs are normalized to [0,1]\n    )",
      "execution_count": 33,
      "outputs": []
    },
    {
      "metadata": {
        "trusted": true,
        "_uuid": "e9a245c783f1b69a952f21efa593859c110906a3"
      },
      "cell_type": "code",
      "source": "m2 = tf.estimator.DNNLinearCombinedRegressor(\n    linear_feature_columns=wide_columns,\n    dnn_feature_columns=Feature_columns,\n    dnn_hidden_units=[1000, 500, 240, 150, 75, 25, 14],\n    #dnn_activation_fn=tf.nn.leaky_relu,\n    #dnn_dropout=0.05, #Dropout is hurting the accuracy a lot, maybe it in a shallow NN it is dropping important nodes\n    #batch_norm = True) #batch norm is hurting accuracy probably because not all the inputs are normalized to [0,1]\n    )",
      "execution_count": 34,
      "outputs": []
    },
    {
      "metadata": {
        "trusted": true,
        "_uuid": "acbf9b462bc6ba6a7f1bbcbeee6c06bcc170ad11"
      },
      "cell_type": "code",
      "source": "m3 = tf.estimator.DNNLinearCombinedRegressor(\n    linear_feature_columns=wide_columns,\n    dnn_feature_columns=Feature_columns,\n    dnn_hidden_units=[240, 150, 75, 25, 14],\n    #dnn_activation_fn=tf.abs,\n    #dnn_dropout=0.05, #Dropout is hurting the accuracy a lot, maybe it in a shallow NN it is dropping important nodes\n    #batch_norm = True) #batch norm is hurting accuracy probably because not all the inputs are normalized to [0,1]\n    )",
      "execution_count": 35,
      "outputs": []
    },
    {
      "metadata": {
        "trusted": true,
        "_uuid": "d4505c10c7cf949eb462b4b07b53547d912b7f66"
      },
      "cell_type": "code",
      "source": "m4 = tf.estimator.DNNLinearCombinedRegressor(\n    linear_feature_columns=wide_columns,\n    dnn_feature_columns=Feature_columns,\n    dnn_hidden_units=[1000, 500, 250, 150, 75, 25, 14],\n    dnn_activation_fn=tf.nn.relu,\n    #dnn_dropout=0.05, #Dropout is hurting the accuracy a lot, maybe it in a shallow NN it is dropping important nodes\n    #batch_norm = True) #batch norm is hurting accuracy probably because not all the inputs are normalized to [0,1]\n    )",
      "execution_count": 36,
      "outputs": []
    },
    {
      "metadata": {
        "trusted": true,
        "_uuid": "282b1ae19b39fd49bcc2d7e15be72b795e42b172"
      },
      "cell_type": "code",
      "source": "%%time \n\nm.train(input_fn=input_train)\n\nprint('training done')\n#results = m.evaluate(input_fn=input_test)\n#print('evaluate done')\n#results",
      "execution_count": null,
      "outputs": []
    },
    {
      "metadata": {
        "trusted": true,
        "_uuid": "41ef6f12d1f769996b2e82ecb01c42a79730d7dd"
      },
      "cell_type": "code",
      "source": "results = m.evaluate(input_fn=input_train)\nresults",
      "execution_count": null,
      "outputs": []
    },
    {
      "metadata": {
        "trusted": true,
        "_uuid": "083051a3aa73bbcf028859652b3f905b53180f9f"
      },
      "cell_type": "code",
      "source": "",
      "execution_count": null,
      "outputs": []
    },
    {
      "metadata": {
        "trusted": true,
        "_uuid": "40e3beb221aa10a052cfb8eae7a7fbd365b39660"
      },
      "cell_type": "code",
      "source": "%%time \n\nm2.train(input_fn=input_train)\n\nprint('training done')",
      "execution_count": null,
      "outputs": []
    },
    {
      "metadata": {
        "trusted": true,
        "_uuid": "50b7c29c6b332768357748483831c56c439e32e1"
      },
      "cell_type": "code",
      "source": "results2 = m2.evaluate(input_fn=input_train)\nresults2",
      "execution_count": null,
      "outputs": []
    },
    {
      "metadata": {
        "trusted": true,
        "_uuid": "0e251930cfa10e852178a153532a94254510961c"
      },
      "cell_type": "code",
      "source": "%%time \n\nm3.train(input_fn=input_train)\n\nprint('training done')",
      "execution_count": null,
      "outputs": []
    },
    {
      "metadata": {
        "trusted": true,
        "_uuid": "3ae3366e8a6b518f4e4f97081014ae47a63d3cb0"
      },
      "cell_type": "code",
      "source": "results3 = m3.evaluate(input_fn=input_test)\nresults3",
      "execution_count": null,
      "outputs": []
    },
    {
      "metadata": {
        "trusted": true,
        "_uuid": "c6dfe4b266473422ec4971cf550db0cf17de6ad0"
      },
      "cell_type": "code",
      "source": "%%time \n\nm4.train(input_fn=input_train)\n\nprint('training done')",
      "execution_count": null,
      "outputs": []
    },
    {
      "metadata": {
        "trusted": true,
        "_uuid": "1b39e19927f53913a3bf1e05a0c2689032f5b9a0"
      },
      "cell_type": "code",
      "source": "results4 = m4.evaluate(input_fn=input_train)\nresults4",
      "execution_count": null,
      "outputs": []
    },
    {
      "metadata": {
        "trusted": true,
        "_uuid": "949992d25ab7e4f12ddce269383de56ebb856231"
      },
      "cell_type": "code",
      "source": "predict_input_fn = tf.estimator.inputs.pandas_input_fn(\n        x=test,\n        batch_size=1,\n        num_epochs=1,\n        shuffle=False)",
      "execution_count": null,
      "outputs": []
    },
    {
      "metadata": {
        "trusted": true,
        "_uuid": "3ec51c2a8de3acd63a3880459b364e2632c57935"
      },
      "cell_type": "code",
      "source": "# predict_input_fn2 = tf.estimator.inputs.pandas_input_fn(\n#         x=test2,\n#         batch_size=1,\n#         num_epochs=1,\n#         shuffle=False)",
      "execution_count": null,
      "outputs": []
    },
    {
      "metadata": {
        "trusted": true,
        "_uuid": "7527df778e37bf02fa79fec190d2ed3d11e96910",
        "scrolled": false
      },
      "cell_type": "code",
      "source": "\npredictions = m.predict(input_fn=predict_input_fn)\nresult = []\nfor i in predictions:\n    result.append(i[\"predictions\"][0])\nresult",
      "execution_count": null,
      "outputs": []
    },
    {
      "metadata": {
        "trusted": true,
        "_uuid": "98a3fdb84b5fad11e1b7602a6d9b9e448aa1839f"
      },
      "cell_type": "code",
      "source": "predictions2 = m2.predict(input_fn=predict_input_fn)\nresult2 = []\nfor i in predictions2:\n    result2.append(i[\"predictions\"][0])\nresult2",
      "execution_count": null,
      "outputs": []
    },
    {
      "metadata": {
        "trusted": true,
        "_uuid": "bbd90122b2dc1117b33c80221423031fe41b6670",
        "scrolled": false
      },
      "cell_type": "code",
      "source": "predictions3 = m3.predict(input_fn=predict_input_fn)\nresult3 = []\nfor i in predictions3:\n    result3.append(i[\"predictions\"][0])\nresult3",
      "execution_count": null,
      "outputs": []
    },
    {
      "metadata": {
        "trusted": true,
        "_uuid": "48e6980d7066aaee576bb95e267a803103bebff8",
        "scrolled": false
      },
      "cell_type": "code",
      "source": "predictions4 = m4.predict(input_fn=predict_input_fn)\nresult4 = []\nfor i in predictions4:\n    result4.append(i[\"predictions\"][0])\nresult4",
      "execution_count": null,
      "outputs": []
    },
    {
      "metadata": {
        "trusted": true,
        "_uuid": "72525ab9d1aab8e7b522782764941c9d7bc2348b"
      },
      "cell_type": "code",
      "source": "from operator import add\nresult = list( map(add, result, result2) )",
      "execution_count": null,
      "outputs": []
    },
    {
      "metadata": {
        "trusted": true,
        "_uuid": "f30c03c342ab638aa76fad3ddcecb98ec69e4b94"
      },
      "cell_type": "code",
      "source": "result = list( map(add, result, result4) )",
      "execution_count": null,
      "outputs": []
    },
    {
      "metadata": {
        "trusted": true,
        "_uuid": "b50121b2cec4a20f2479904c45ce7e39ba66dc64"
      },
      "cell_type": "code",
      "source": "result = np.array(result)\nmyInt = 3\nresult = result/myInt",
      "execution_count": null,
      "outputs": []
    },
    {
      "metadata": {
        "trusted": true,
        "_uuid": "73ed0d44ae565e40b32ed1b212c05107ded78171",
        "scrolled": false
      },
      "cell_type": "code",
      "source": "result = result.tolist()\nresult",
      "execution_count": null,
      "outputs": []
    },
    {
      "metadata": {
        "trusted": true,
        "_uuid": "484e8b28a979da5ccfdc40510f331f6805f09c50"
      },
      "cell_type": "code",
      "source": "",
      "execution_count": null,
      "outputs": []
    }
  ],
  "metadata": {
    "kernelspec": {
      "display_name": "Python 3",
      "language": "python",
      "name": "python3"
    },
    "language_info": {
      "name": "python",
      "version": "3.6.6",
      "mimetype": "text/x-python",
      "codemirror_mode": {
        "name": "ipython",
        "version": 3
      },
      "pygments_lexer": "ipython3",
      "nbconvert_exporter": "python",
      "file_extension": ".py"
    }
  },
  "nbformat": 4,
  "nbformat_minor": 1
}