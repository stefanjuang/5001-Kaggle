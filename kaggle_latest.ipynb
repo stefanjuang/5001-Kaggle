{
  "cells": [
    {
      "metadata": {
        "trusted": false,
        "_uuid": "b6b849f4fc1c6781aaf83ea6b05d4c5280b3d45a"
      },
      "cell_type": "code",
      "source": "import pandas as pd\nimport numpy as np\ndf1 = pd.read_csv(\"./test1.csv\")\ndf2 = pd.read_csv(\"./train1.csv\")",
      "execution_count": null,
      "outputs": []
    },
    {
      "metadata": {
        "trusted": false,
        "_uuid": "8b221f27c2ea731f76a524b336b1fd748a836421"
      },
      "cell_type": "code",
      "source": "df2.describe(include=[np.number])\nlabel = df2[\"time\"]\npen = df2[\"penalty\"]\npen1 = df1[\"penalty\"]",
      "execution_count": null,
      "outputs": []
    },
    {
      "metadata": {
        "trusted": false,
        "_uuid": "9ba1e643589a7ffe5ede35a6f2f93f60b6cd1807"
      },
      "cell_type": "code",
      "source": "del df1[\"id\"]\ndf1.head(5)",
      "execution_count": null,
      "outputs": []
    },
    {
      "metadata": {
        "trusted": false,
        "_uuid": "6f50ba99d5a7bae2ff2fc18e8fa6fae2add2cc45"
      },
      "cell_type": "code",
      "source": "numerics = ['int16', 'int32', 'int64', 'float16', 'float32', 'float64']\n\nnewdf = df2.select_dtypes(include=numerics)\ntrain = (newdf - newdf.mean())/newdf.std(ddof=0)\ndel train[\"time\"]\ntrain = train.join(pen)\n",
      "execution_count": null,
      "outputs": []
    },
    {
      "metadata": {
        "trusted": false,
        "_uuid": "3fa88b36a1c01abb3ea0654674ffe22c34f7b2c8"
      },
      "cell_type": "code",
      "source": "newdf1 = df1.select_dtypes(include=numerics)\ntest = (newdf1 - newdf.mean())/newdf.std(ddof=0)\ndel test[\"time\"]\ntest = test.join(pen1)\n",
      "execution_count": null,
      "outputs": []
    },
    {
      "metadata": {
        "trusted": false,
        "_uuid": "97a0dd4f529216317d4e8c7d8fe49e2c29ee6e1b"
      },
      "cell_type": "code",
      "source": "newdf.mean()",
      "execution_count": null,
      "outputs": []
    },
    {
      "metadata": {
        "trusted": false,
        "_uuid": "213e60b18f0462dcbaf1ed576a13743c3a70c9ec"
      },
      "cell_type": "code",
      "source": "newdf1.mean()",
      "execution_count": null,
      "outputs": []
    },
    {
      "metadata": {
        "trusted": false,
        "_uuid": "084f1f810fdc1f45aceda866b428c6e56fc1437b"
      },
      "cell_type": "code",
      "source": "train.describe(include=[np.number])",
      "execution_count": null,
      "outputs": []
    },
    {
      "metadata": {
        "trusted": false,
        "_uuid": "2da3abf48c5f8c6a72ac9f361ddd1ddc330d78dc"
      },
      "cell_type": "code",
      "source": "test.describe(include=[np.number])",
      "execution_count": null,
      "outputs": []
    },
    {
      "metadata": {
        "trusted": false,
        "_uuid": "5e9df05192a62c608dff97b5f7c50ebc109e7939"
      },
      "cell_type": "code",
      "source": "test.head(5)",
      "execution_count": null,
      "outputs": []
    },
    {
      "metadata": {
        "trusted": false,
        "_uuid": "06bae3a99acecf652d98cfd75c5eafbb5a670d20"
      },
      "cell_type": "code",
      "source": "train.head(5)",
      "execution_count": null,
      "outputs": []
    },
    {
      "metadata": {
        "trusted": false,
        "_uuid": "0cf0768a8c409a4eaa31711061c2da6b20141619"
      },
      "cell_type": "code",
      "source": "len(label) == len(train)\n",
      "execution_count": null,
      "outputs": []
    },
    {
      "metadata": {
        "trusted": false,
        "_uuid": "044bb2e72aa9bacb04cae2a5f4916ce392421e98"
      },
      "cell_type": "code",
      "source": "import tensorflow as tf\nfrom sklearn.model_selection import train_test_split\nBATCH_SIZE = 128\n\nnum_epochs = 10000\n\nX_train, X_test, y_train, y_test = train_test_split(train, label, test_size=0.15) \n\n\ninput_train = tf.estimator.inputs.pandas_input_fn(x=train,y=label,batch_size=BATCH_SIZE,num_epochs=num_epochs,shuffle=True)\n\ninput_test = tf.estimator.inputs.pandas_input_fn(x=X_test,y=y_test,batch_size=BATCH_SIZE,num_epochs=num_epochs,shuffle=True)",
      "execution_count": null,
      "outputs": []
    },
    {
      "metadata": {
        "trusted": false,
        "_uuid": "7d549fde01bf334d0f85aa3f22df5bbf6a5bbde5"
      },
      "cell_type": "code",
      "source": "l1_ratio = tf.feature_column.numeric_column(\"l1_ratio\")\nalpha = tf.feature_column.numeric_column(\"alpha\")\nmax_iter = tf.feature_column.numeric_column(\"max_iter\")\nn_jobs = tf.feature_column.numeric_column(\"n_jobs\")\nn_samples = tf.feature_column.numeric_column(\"n_samples\")\nn_features = tf.feature_column.numeric_column(\"n_features\")\nn_classes = tf.feature_column.numeric_column(\"n_classes\")\nn_clusters_per_class = tf.feature_column.numeric_column(\"n_clusters_per_class\")\nn_informative = tf.feature_column.numeric_column(\"n_informative\")\nflip_y = tf.feature_column.numeric_column(\"flip_y\")\nscale = tf.feature_column.numeric_column(\"scale\")\npenalty = tf.feature_column.categorical_column_with_vocabulary_list(key=\"penalty\", vocabulary_list=[\"l2\", \"l1\", \"none\", \"elasticnet\"])",
      "execution_count": null,
      "outputs": []
    },
    {
      "metadata": {
        "trusted": false,
        "_uuid": "2d7ed08507afde787fd13f2cb10c101dc9624012"
      },
      "cell_type": "code",
      "source": "train.describe(include=[np.number])",
      "execution_count": null,
      "outputs": []
    },
    {
      "metadata": {
        "trusted": false,
        "_uuid": "327fee77a7bc91a41578579e63b14c1f19595ce7"
      },
      "cell_type": "code",
      "source": "BUCKET_BOUNDARIES_1 = [-1.711510e+00,-8.514319e-01,-6.013563e-02,8.687966e-01,1.715231e+00]\nBUCKET_BOUNDARIES_2 = [-8.052417e-01,-6.034727e-01,1.414217e+00]\nBUCKET_BOUNDARIES_3 = [-1.693000e+00,-8.566758e-01,-1.032306e-01,8.696556e-01,1.678667e+00]\nBUCKET_BOUNDARIES_4 = [-9.433979e-01,-7.567544e-01,-3.834675e-01,3.631064e-01,1.856254e+00]\nBUCKET_BOUNDARIES_5 = [-1.709393e+00,-8.203153e-01,-4.321515e-02,8.539577e-01,1.790255e+00]\nBUCKET_BOUNDARIES_6 = [-1.704378e+00,-8.468749e-01,-2.302544e-02,8.620742e-01,1.760636e+00]\nBUCKET_BOUNDARIES_7 = [-1.536592e+00,-7.407113e-01,5.516898e-02,8.510493e-01,1.646930e+00]\nBUCKET_BOUNDARIES_8 = [-1.312306e+00,-4.015574e-01,5.091913e-01,1.419940e+00]\nBUCKET_BOUNDARIES_9 = [-2.410884e+00,-4.488822e-01,2.051184e-01,8.591189e-01,2.167120e+00]\nBUCKET_BOUNDARIES_10 = [-1.624499e+00,-9.295681e-01,-5.527595e-03,8.634360e-01,1.684898e+00]\nBUCKET_BOUNDARIES_11 = [-1.703224e+00,-8.802514e-01,4.299174e-02,8.593679e-01,1.693877e+00]\nFeature_columns = [\n    l1_ratio, \n    alpha, \n    max_iter, \n    n_jobs, \n    n_samples, \n    n_features, \n    n_classes, \n    n_clusters_per_class, \n    n_informative, \n    flip_y, \n    scale,\n    tf.feature_column.indicator_column(penalty),\n]\n\nbucketized_feature_1 = tf.feature_column.bucketized_column(\n  tf.feature_column.numeric_column('l1_ratio'), BUCKET_BOUNDARIES_1)\nbucketized_feature_2 = tf.feature_column.bucketized_column(\n  tf.feature_column.numeric_column('alpha'), BUCKET_BOUNDARIES_2)\nbucketized_feature_3 = tf.feature_column.bucketized_column(\n  tf.feature_column.numeric_column('max_iter'), BUCKET_BOUNDARIES_3)\nbucketized_feature_4 = tf.feature_column.bucketized_column(\n  tf.feature_column.numeric_column('n_jobs'), BUCKET_BOUNDARIES_4)\nbucketized_feature_5 = tf.feature_column.bucketized_column(\n  tf.feature_column.numeric_column('n_samples'), BUCKET_BOUNDARIES_5)\nbucketized_feature_6 = tf.feature_column.bucketized_column(\n  tf.feature_column.numeric_column('n_features'), BUCKET_BOUNDARIES_6)\nbucketized_feature_7 = tf.feature_column.bucketized_column(\n  tf.feature_column.numeric_column('n_classes'), BUCKET_BOUNDARIES_7)\nbucketized_feature_8 = tf.feature_column.bucketized_column(\n  tf.feature_column.numeric_column('n_clusters_per_class'), BUCKET_BOUNDARIES_8)\nbucketized_feature_9 = tf.feature_column.bucketized_column(\n  tf.feature_column.numeric_column('n_informative'), BUCKET_BOUNDARIES_9)\nbucketized_feature_10 = tf.feature_column.bucketized_column(\n  tf.feature_column.numeric_column('flip_y'), BUCKET_BOUNDARIES_10)\nbucketized_feature_11 = tf.feature_column.bucketized_column(\n  tf.feature_column.numeric_column('scale'), BUCKET_BOUNDARIES_11)\n\n\nFeature_columns2 = [\n    bucketized_feature_1,\n    bucketized_feature_2,\n    bucketized_feature_3,\n    bucketized_feature_4,\n    bucketized_feature_5,\n    bucketized_feature_6,\n    bucketized_feature_7,\n    bucketized_feature_8,\n    bucketized_feature_9,\n    bucketized_feature_10,\n    bucketized_feature_11,\n    tf.feature_column.indicator_column(penalty),\n]",
      "execution_count": null,
      "outputs": []
    },
    {
      "metadata": {
        "trusted": false,
        "_uuid": "1b4e91832665006065555ef3945d2bbc4927d67d"
      },
      "cell_type": "code",
      "source": "wide_columns = [    \n    n_jobs, \n    n_samples, \n    n_features, \n    n_classes, \n    n_clusters_per_class, \n    n_informative\n]",
      "execution_count": null,
      "outputs": []
    },
    {
      "metadata": {
        "trusted": false,
        "_uuid": "e91f7a7b5607076172f559649c4cd097834af0aa"
      },
      "cell_type": "code",
      "source": "m = tf.estimator.DNNLinearCombinedRegressor(\n    linear_feature_columns=wide_columns,\n    dnn_feature_columns=Feature_columns,\n    dnn_hidden_units=[1000, 500, 240, 150, 75, 25, 14],\n    #dnn_dropout=0.01, #Dropout is hurting the accuracy a lot, maybe it in a shallow NN it is dropping important nodes\n    batch_norm = True) #batch norm is hurting accuracy probably because not all the inputs are normalized to [0,1]\n    #)",
      "execution_count": null,
      "outputs": []
    },
    {
      "metadata": {
        "scrolled": true,
        "trusted": false,
        "_uuid": "1f6522910cb6ac9dffe64d868b5d187e1b8c1d38"
      },
      "cell_type": "code",
      "source": "%%time \n\nm.train(input_fn=input_train)\n\nprint('training done')\n#results = m.evaluate(input_fn=input_test)\n#print('evaluate done')\n#results",
      "execution_count": null,
      "outputs": []
    },
    {
      "metadata": {
        "trusted": false,
        "_uuid": "4d809f7357f936b15ee3588129a0ac6bac53c8cc"
      },
      "cell_type": "code",
      "source": "m2 = tf.estimator.BoostedTreesRegressor(\n    feature_columns=Feature_columns2,\n    n_trees=20,\n    n_batches_per_layer = BATCH_SIZE,\n    center_bias = True\n)",
      "execution_count": null,
      "outputs": []
    },
    {
      "metadata": {
        "trusted": false,
        "_uuid": "9c97f5a7d2af22ad7be291c4eea399361d6d29b6"
      },
      "cell_type": "code",
      "source": "%%time \n\nm2.train(input_fn=input_train)\n\nprint('training done')\n#results1 = m.evaluate(input_fn=input_test)\n#print('evaluate done')\n#results1",
      "execution_count": null,
      "outputs": []
    },
    {
      "metadata": {
        "trusted": false,
        "_uuid": "55ca5abf35b27174ead89657654b23b19b9fa461"
      },
      "cell_type": "code",
      "source": "predictions = m.predict(input_fn=test)",
      "execution_count": null,
      "outputs": []
    },
    {
      "metadata": {
        "trusted": false,
        "_uuid": "ad3c35c2fd4fbd297d1487b02914207f8229059a"
      },
      "cell_type": "code",
      "source": "predictions1 = m2.predict(input_fn=test)",
      "execution_count": null,
      "outputs": []
    },
    {
      "metadata": {
        "trusted": false,
        "_uuid": "414f4ce95d46526171a3ec54a760a4715def86f9"
      },
      "cell_type": "code",
      "source": "predict_list1 = []\nfor prediction1 in predictions1:\n    predict_list1.append(prediction1[\"probabilities\"])",
      "execution_count": null,
      "outputs": []
    },
    {
      "metadata": {
        "trusted": false,
        "_uuid": "19f5c94ef01389a255ca285c3144626e4bac69fb"
      },
      "cell_type": "code",
      "source": "predict_list = []\nfor prediction in predictions:\n    predict_list.append(prediction[\"probabilities\"])",
      "execution_count": null,
      "outputs": []
    },
    {
      "metadata": {
        "trusted": false,
        "_uuid": "9075cac914c06ee8dcc5bc5813e1ff56de325f9a"
      },
      "cell_type": "code",
      "source": "",
      "execution_count": null,
      "outputs": []
    },
    {
      "metadata": {
        "trusted": false,
        "_uuid": "f05c183a2c404c77141238f2a803e7b4cf8a37b2"
      },
      "cell_type": "code",
      "source": "",
      "execution_count": null,
      "outputs": []
    },
    {
      "metadata": {
        "trusted": false,
        "_uuid": "9ee2e6017e7cdec6b571414f936b1164afdaf4ce"
      },
      "cell_type": "code",
      "source": "sess = tf.Session()\n\n\nprint(sess.run(predictions))\n",
      "execution_count": null,
      "outputs": []
    },
    {
      "metadata": {
        "trusted": false,
        "_uuid": "865f6f734bfd049bc858b42adc86b4c351ba7bff"
      },
      "cell_type": "code",
      "source": "a= []\nfor i in predictions:\n   a.append(i) \nimport csv\n\nwith open('prediction2.csv', 'w') as myfile:\n    wr = csv.writer(myfile)\n    for val in a:\n        wr.writerow([val])",
      "execution_count": null,
      "outputs": []
    },
    {
      "metadata": {
        "trusted": false,
        "_uuid": "4ae321cc079ae4874171466e206c284d5d314534"
      },
      "cell_type": "code",
      "source": "",
      "execution_count": null,
      "outputs": []
    },
    {
      "metadata": {
        "trusted": false,
        "_uuid": "de059e41bedbbb4fbdf0dceddde537c0c9d7b238"
      },
      "cell_type": "code",
      "source": "",
      "execution_count": null,
      "outputs": []
    },
    {
      "metadata": {
        "trusted": false,
        "_uuid": "dcee574a461eb4b39575e250464de792ec8f8480"
      },
      "cell_type": "code",
      "source": "",
      "execution_count": null,
      "outputs": []
    }
  ],
  "metadata": {
    "kernelspec": {
      "display_name": "Python 3",
      "language": "python",
      "name": "python3"
    },
    "language_info": {
      "name": "python",
      "version": "3.6.6",
      "mimetype": "text/x-python",
      "codemirror_mode": {
        "name": "ipython",
        "version": 3
      },
      "pygments_lexer": "ipython3",
      "nbconvert_exporter": "python",
      "file_extension": ".py"
    }
  },
  "nbformat": 4,
  "nbformat_minor": 1
}